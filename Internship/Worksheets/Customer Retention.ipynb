{
 "cells": [
  {
   "cell_type": "code",
   "execution_count": 1,
   "id": "52615645",
   "metadata": {},
   "outputs": [],
   "source": [
    "#customer_retention_dataset - Copy\n",
    "# import library for EDA\n",
    "import numpy as np\n",
    "import pandas as pd\n",
    "\n",
    "import matplotlib.pyplot as plt\n",
    "%matplotlib inline\n",
    "import seaborn as sns"
   ]
  },
  {
   "cell_type": "code",
   "execution_count": 2,
   "id": "ff09599c",
   "metadata": {},
   "outputs": [],
   "source": [
    "df=pd.read_excel('customer_retention_dataset - Copy.xlsx', sheet_name='codedsheet')"
   ]
  },
  {
   "cell_type": "code",
   "execution_count": 3,
   "id": "d36e0d00",
   "metadata": {},
   "outputs": [
    {
     "data": {
      "text/html": [
       "<div>\n",
       "<style scoped>\n",
       "    .dataframe tbody tr th:only-of-type {\n",
       "        vertical-align: middle;\n",
       "    }\n",
       "\n",
       "    .dataframe tbody tr th {\n",
       "        vertical-align: top;\n",
       "    }\n",
       "\n",
       "    .dataframe thead th {\n",
       "        text-align: right;\n",
       "    }\n",
       "</style>\n",
       "<table border=\"1\" class=\"dataframe\">\n",
       "  <thead>\n",
       "    <tr style=\"text-align: right;\">\n",
       "      <th></th>\n",
       "      <th>1Gender</th>\n",
       "      <th>2age</th>\n",
       "      <th>3city</th>\n",
       "      <th>4Pin Code</th>\n",
       "      <th>5Shopping_Online</th>\n",
       "      <th>6frequency</th>\n",
       "      <th>7internet</th>\n",
       "      <th>8device</th>\n",
       "      <th>9screen_size</th>\n",
       "      <th>10operating_system_(OS)</th>\n",
       "      <th>...</th>\n",
       "      <th>Longer time to get logged in (promotion, sales period)</th>\n",
       "      <th>Longer time in displaying graphics and photos (promotion, sales period)</th>\n",
       "      <th>Late declaration of price (promotion, sales period)</th>\n",
       "      <th>Longer page loading time (promotion, sales period)</th>\n",
       "      <th>Limited mode of payment on most products (promotion, sales period)</th>\n",
       "      <th>Longer delivery period</th>\n",
       "      <th>Change in website/Application design</th>\n",
       "      <th>Frequent disruption when moving from one page to another</th>\n",
       "      <th>Website is as efficient as before</th>\n",
       "      <th>Which of the Indian online retailer would you recommend to a friend?</th>\n",
       "    </tr>\n",
       "  </thead>\n",
       "  <tbody>\n",
       "    <tr>\n",
       "      <th>0</th>\n",
       "      <td>0</td>\n",
       "      <td>3</td>\n",
       "      <td>Delhi</td>\n",
       "      <td>110009</td>\n",
       "      <td>5</td>\n",
       "      <td>4</td>\n",
       "      <td>4</td>\n",
       "      <td>3</td>\n",
       "      <td>5</td>\n",
       "      <td>1</td>\n",
       "      <td>...</td>\n",
       "      <td>Amazon.in</td>\n",
       "      <td>Amazon.in</td>\n",
       "      <td>Flipkart.com</td>\n",
       "      <td>Flipkart.com</td>\n",
       "      <td>Amazon.in</td>\n",
       "      <td>Paytm.com</td>\n",
       "      <td>Flipkart.com</td>\n",
       "      <td>Amazon.in</td>\n",
       "      <td>Amazon.in</td>\n",
       "      <td>Flipkart.com</td>\n",
       "    </tr>\n",
       "    <tr>\n",
       "      <th>1</th>\n",
       "      <td>1</td>\n",
       "      <td>2</td>\n",
       "      <td>Delhi</td>\n",
       "      <td>110030</td>\n",
       "      <td>5</td>\n",
       "      <td>5</td>\n",
       "      <td>2</td>\n",
       "      <td>1</td>\n",
       "      <td>2</td>\n",
       "      <td>3</td>\n",
       "      <td>...</td>\n",
       "      <td>Amazon.in, Flipkart.com</td>\n",
       "      <td>Myntra.com</td>\n",
       "      <td>snapdeal.com</td>\n",
       "      <td>Snapdeal.com</td>\n",
       "      <td>Snapdeal.com</td>\n",
       "      <td>Snapdeal.com</td>\n",
       "      <td>Amazon.in</td>\n",
       "      <td>Myntra.com</td>\n",
       "      <td>Amazon.in, Flipkart.com</td>\n",
       "      <td>Amazon.in, Myntra.com</td>\n",
       "    </tr>\n",
       "    <tr>\n",
       "      <th>2</th>\n",
       "      <td>1</td>\n",
       "      <td>2</td>\n",
       "      <td>Greater Noida</td>\n",
       "      <td>201308</td>\n",
       "      <td>4</td>\n",
       "      <td>5</td>\n",
       "      <td>3</td>\n",
       "      <td>1</td>\n",
       "      <td>4</td>\n",
       "      <td>2</td>\n",
       "      <td>...</td>\n",
       "      <td>Myntra.com</td>\n",
       "      <td>Myntra.com</td>\n",
       "      <td>Myntra.com</td>\n",
       "      <td>Myntra.com</td>\n",
       "      <td>Amazon.in</td>\n",
       "      <td>Paytm.com</td>\n",
       "      <td>Paytm.com</td>\n",
       "      <td>Paytm.com</td>\n",
       "      <td>Amazon.in</td>\n",
       "      <td>Amazon.in, Paytm.com, Myntra.com</td>\n",
       "    </tr>\n",
       "    <tr>\n",
       "      <th>3</th>\n",
       "      <td>0</td>\n",
       "      <td>2</td>\n",
       "      <td>Karnal</td>\n",
       "      <td>132001</td>\n",
       "      <td>4</td>\n",
       "      <td>1</td>\n",
       "      <td>3</td>\n",
       "      <td>1</td>\n",
       "      <td>4</td>\n",
       "      <td>3</td>\n",
       "      <td>...</td>\n",
       "      <td>Snapdeal.com</td>\n",
       "      <td>Myntra.com, Snapdeal.com</td>\n",
       "      <td>Myntra.com</td>\n",
       "      <td>Paytm.com</td>\n",
       "      <td>Paytm.com</td>\n",
       "      <td>Paytm.com</td>\n",
       "      <td>Amazon.in, Flipkart.com</td>\n",
       "      <td>Amazon.in, Flipkart.com</td>\n",
       "      <td>Amazon.in, Flipkart.com, Paytm.com</td>\n",
       "      <td>Amazon.in, Flipkart.com</td>\n",
       "    </tr>\n",
       "    <tr>\n",
       "      <th>4</th>\n",
       "      <td>1</td>\n",
       "      <td>2</td>\n",
       "      <td>Bangalore</td>\n",
       "      <td>530068</td>\n",
       "      <td>3</td>\n",
       "      <td>2</td>\n",
       "      <td>2</td>\n",
       "      <td>1</td>\n",
       "      <td>2</td>\n",
       "      <td>3</td>\n",
       "      <td>...</td>\n",
       "      <td>Flipkart.com, Paytm.com</td>\n",
       "      <td>Paytm.com</td>\n",
       "      <td>Paytm.com</td>\n",
       "      <td>Paytm.com</td>\n",
       "      <td>Snapdeal.com</td>\n",
       "      <td>Paytm.com</td>\n",
       "      <td>Amazon.in</td>\n",
       "      <td>Snapdeal.com</td>\n",
       "      <td>Paytm.com</td>\n",
       "      <td>Amazon.in, Myntra.com</td>\n",
       "    </tr>\n",
       "  </tbody>\n",
       "</table>\n",
       "<p>5 rows × 71 columns</p>\n",
       "</div>"
      ],
      "text/plain": [
       "   1Gender  2age         3city   4Pin Code  5Shopping_Online  6frequency   \\\n",
       "0        0     3          Delhi     110009                 5            4   \n",
       "1        1     2          Delhi     110030                 5            5   \n",
       "2        1     2  Greater Noida     201308                 4            5   \n",
       "3        0     2        Karnal      132001                 4            1   \n",
       "4        1     2     Bangalore      530068                 3            2   \n",
       "\n",
       "   7internet  8device  9screen_size  10operating_system_(OS)  ...  \\\n",
       "0          4        3             5                        1  ...   \n",
       "1          2        1             2                        3  ...   \n",
       "2          3        1             4                        2  ...   \n",
       "3          3        1             4                        3  ...   \n",
       "4          2        1             2                        3  ...   \n",
       "\n",
       "   Longer time to get logged in (promotion, sales period)  \\\n",
       "0                                          Amazon.in        \n",
       "1                            Amazon.in, Flipkart.com        \n",
       "2                                         Myntra.com        \n",
       "3                                       Snapdeal.com        \n",
       "4                            Flipkart.com, Paytm.com        \n",
       "\n",
       "   Longer time in displaying graphics and photos (promotion, sales period)  \\\n",
       "0                                          Amazon.in                         \n",
       "1                                         Myntra.com                         \n",
       "2                                         Myntra.com                         \n",
       "3                           Myntra.com, Snapdeal.com                         \n",
       "4                                          Paytm.com                         \n",
       "\n",
       "   Late declaration of price (promotion, sales period)  \\\n",
       "0                                       Flipkart.com     \n",
       "1                                       snapdeal.com     \n",
       "2                                         Myntra.com     \n",
       "3                                         Myntra.com     \n",
       "4                                          Paytm.com     \n",
       "\n",
       "   Longer page loading time (promotion, sales period)  \\\n",
       "0                                       Flipkart.com    \n",
       "1                                       Snapdeal.com    \n",
       "2                                         Myntra.com    \n",
       "3                                          Paytm.com    \n",
       "4                                          Paytm.com    \n",
       "\n",
       "   Limited mode of payment on most products (promotion, sales period)  \\\n",
       "0                                          Amazon.in                    \n",
       "1                                       Snapdeal.com                    \n",
       "2                                          Amazon.in                    \n",
       "3                                          Paytm.com                    \n",
       "4                                       Snapdeal.com                    \n",
       "\n",
       "   Longer delivery period  Change in website/Application design  \\\n",
       "0               Paytm.com                          Flipkart.com   \n",
       "1            Snapdeal.com                             Amazon.in   \n",
       "2               Paytm.com                             Paytm.com   \n",
       "3               Paytm.com               Amazon.in, Flipkart.com   \n",
       "4               Paytm.com                             Amazon.in   \n",
       "\n",
       "   Frequent disruption when moving from one page to another  \\\n",
       "0                                          Amazon.in          \n",
       "1                                         Myntra.com          \n",
       "2                                          Paytm.com          \n",
       "3                            Amazon.in, Flipkart.com          \n",
       "4                                       Snapdeal.com          \n",
       "\n",
       "    Website is as efficient as before  \\\n",
       "0                           Amazon.in   \n",
       "1             Amazon.in, Flipkart.com   \n",
       "2                           Amazon.in   \n",
       "3  Amazon.in, Flipkart.com, Paytm.com   \n",
       "4                           Paytm.com   \n",
       "\n",
       "   Which of the Indian online retailer would you recommend to a friend?  \n",
       "0                                       Flipkart.com                     \n",
       "1                              Amazon.in, Myntra.com                     \n",
       "2                   Amazon.in, Paytm.com, Myntra.com                     \n",
       "3                            Amazon.in, Flipkart.com                     \n",
       "4                              Amazon.in, Myntra.com                     \n",
       "\n",
       "[5 rows x 71 columns]"
      ]
     },
     "execution_count": 3,
     "metadata": {},
     "output_type": "execute_result"
    }
   ],
   "source": [
    "df.head()"
   ]
  },
  {
   "cell_type": "code",
   "execution_count": 4,
   "id": "1acc601d",
   "metadata": {},
   "outputs": [
    {
     "name": "stdout",
     "output_type": "stream",
     "text": [
      "<class 'pandas.core.frame.DataFrame'>\n",
      "RangeIndex: 269 entries, 0 to 268\n",
      "Data columns (total 71 columns):\n",
      " #   Column                                                                               Non-Null Count  Dtype \n",
      "---  ------                                                                               --------------  ----- \n",
      " 0   1Gender                                                                              269 non-null    int64 \n",
      " 1   2age                                                                                 269 non-null    int64 \n",
      " 2   3city                                                                                269 non-null    object\n",
      " 3   4Pin Code                                                                            269 non-null    int64 \n",
      " 4   5Shopping_Online                                                                     269 non-null    int64 \n",
      " 5   6frequency                                                                           269 non-null    int64 \n",
      " 6   7internet                                                                            269 non-null    int64 \n",
      " 7   8device                                                                              269 non-null    int64 \n",
      " 8   9screen_size                                                                         269 non-null    int64 \n",
      " 9   10operating_system_(OS)                                                              269 non-null    int64 \n",
      " 10  11browser                                                                            269 non-null    int64 \n",
      " 11  12firsttime?                                                                         269 non-null    int64 \n",
      " 12  13reach                                                                              269 non-null    int64 \n",
      " 13  14time_do_you_explore                                                                269 non-null    int64 \n",
      " 14  15payment_Option?                                                                    269 non-null    int64 \n",
      " 15  16abandon_your_shopping_cart?                                                        269 non-null    int64 \n",
      " 16  17abandon_the_“Bag”_“Shopping Cart”?                                                 269 non-null    int64 \n",
      " 17  18website_understand                                                                 269 non-null    int64 \n",
      " 18  19similar_product_highlighted                                                        269 non-null    int64 \n",
      " 19  20Complete_information_is_provided                                                   269 non-null    int64 \n",
      " 20  21All_information_stated_clearly                                                     269 non-null    int64 \n",
      " 21  22easy_to_navigate_website                                                           269 non-null    int64 \n",
      " 22  23processing_speed                                                                   269 non-null    int64 \n",
      " 23  24User_friendly_Interface                                                            269 non-null    int64 \n",
      " 24  25Payment_methods                                                                    269 non-null    int64 \n",
      " 25  26Trust_part_of_the_transaction_time                                                 269 non-null    int64 \n",
      " 26  27Empathy_towards_the_customers                                                      269 non-null    int64 \n",
      " 27  28guarantee_the_privacy                                                              269 non-null    int64 \n",
      " 28  29Responsiveness                                                                     269 non-null    int64 \n",
      " 29  30benefit_and_discounts                                                              269 non-null    int64 \n",
      " 30  31Enjoyment_of_derived                                                               269 non-null    int64 \n",
      " 31  32convenient_and_flexible                                                            269 non-null    int64 \n",
      " 32  33Return_and_replacement_policy                                                      269 non-null    int64 \n",
      " 33  34loyalty_programs_benefit_to_shopping                                               269 non-null    int64 \n",
      " 34  35Displaying_improves_satisfaction_customers                                         269 non-null    int64 \n",
      " 35  36shopping _on_a_good_quality_website_or_application                                 269 non-null    int64 \n",
      " 36  37Net_Benefit                                                                        269 non-null    int64 \n",
      " 37  38Use _satisfaction_cannot_exis_ without_trust                                       269 non-null    int64 \n",
      " 38  39Offering_a_wide_variety                                                            269 non-null    int64 \n",
      " 39  40complete_and_relevant_product_information                                          269 non-null    int64 \n",
      " 40  41Monetary_savings                                                                   269 non-null    int64 \n",
      " 41  42The_Convenience_of_patronizing                                                     269 non-null    int64 \n",
      " 42  43sense_of_adventure                                                                 269 non-null    int64 \n",
      " 43  44social_status                                                                      269 non-null    int64 \n",
      " 44  45_You_feel_gratification_shopping                                                   269 non-null    int64 \n",
      " 45  46website_help_you_fulfill_certain_roles                                             269 non-null    int64 \n",
      " 46  47value_for_money_spent                                                              269 non-null    int64 \n",
      " 47  From the following, tick any (or all) of the online retailers you have shopped from  269 non-null    object\n",
      " 48  Easy to use website or application                                                   269 non-null    object\n",
      " 49  Visual appealing web-page layout                                                     269 non-null    object\n",
      " 50  Wild variety of product on offer                                                     269 non-null    object\n",
      " 51  Complete, relevant description information of products                               269 non-null    object\n",
      " 52  Fast loading website speed of website and application                                269 non-null    object\n",
      " 53  Reliability of the website or application                                            269 non-null    object\n",
      " 54  Quickness to complete purchase                                                       269 non-null    object\n",
      " 55  Availability of several payment options                                              269 non-null    object\n",
      " 56  Speedy order delivery                                                                269 non-null    object\n",
      " 57  Privacy of customers’ information                                                    269 non-null    object\n",
      " 58  Security of customer financial information                                           269 non-null    object\n",
      " 59  Perceived Trustworthiness                                                            269 non-null    object\n",
      " 60  Presence of online assistance through multi-channel                                  269 non-null    object\n",
      " 61  Longer time to get logged in (promotion, sales period)                               269 non-null    object\n",
      " 62  Longer time in displaying graphics and photos (promotion, sales period)              269 non-null    object\n",
      " 63  Late declaration of price (promotion, sales period)                                  269 non-null    object\n",
      " 64  Longer page loading time (promotion, sales period)                                   269 non-null    object\n",
      " 65  Limited mode of payment on most products (promotion, sales period)                   269 non-null    object\n",
      " 66  Longer delivery period                                                               269 non-null    object\n",
      " 67  Change in website/Application design                                                 269 non-null    object\n",
      " 68  Frequent disruption when moving from one page to another                             269 non-null    object\n",
      " 69  Website is as efficient as before                                                    269 non-null    object\n",
      " 70  Which of the Indian online retailer would you recommend to a friend?                 269 non-null    object\n",
      "dtypes: int64(46), object(25)\n",
      "memory usage: 149.3+ KB\n"
     ]
    }
   ],
   "source": [
    "df.info()"
   ]
  },
  {
   "cell_type": "code",
   "execution_count": 5,
   "id": "db301912",
   "metadata": {},
   "outputs": [
    {
     "data": {
      "text/plain": [
       "(269, 71)"
      ]
     },
     "execution_count": 5,
     "metadata": {},
     "output_type": "execute_result"
    }
   ],
   "source": [
    "df.shape"
   ]
  },
  {
   "cell_type": "code",
   "execution_count": 6,
   "id": "244f0d0c",
   "metadata": {},
   "outputs": [
    {
     "data": {
      "text/plain": [
       "1Gender                                                                 0\n",
       "2age                                                                    0\n",
       "3city                                                                   0\n",
       "4Pin Code                                                               0\n",
       "5Shopping_Online                                                        0\n",
       "                                                                       ..\n",
       "Longer delivery period                                                  0\n",
       "Change in website/Application design                                    0\n",
       "Frequent disruption when moving from one page to another                0\n",
       "Website is as efficient as before                                       0\n",
       "Which of the Indian online retailer would you recommend to a friend?    0\n",
       "Length: 71, dtype: int64"
      ]
     },
     "execution_count": 6,
     "metadata": {},
     "output_type": "execute_result"
    }
   ],
   "source": [
    "df.isnull().sum()"
   ]
  },
  {
   "cell_type": "code",
   "execution_count": 7,
   "id": "de304e7e",
   "metadata": {},
   "outputs": [
    {
     "data": {
      "text/plain": [
       "1Gender                                                                 0.0\n",
       "2age                                                                    0.0\n",
       "3city                                                                   0.0\n",
       "4Pin Code                                                               0.0\n",
       "5Shopping_Online                                                        0.0\n",
       "                                                                       ... \n",
       "Longer delivery period                                                  0.0\n",
       "Change in website/Application design                                    0.0\n",
       "Frequent disruption when moving from one page to another                0.0\n",
       "Website is as efficient as before                                       0.0\n",
       "Which of the Indian online retailer would you recommend to a friend?    0.0\n",
       "Length: 71, dtype: float64"
      ]
     },
     "execution_count": 7,
     "metadata": {},
     "output_type": "execute_result"
    }
   ],
   "source": [
    "df.isnull().sum() / df.shape[0]*100"
   ]
  },
  {
   "cell_type": "code",
   "execution_count": 8,
   "id": "83e7f956",
   "metadata": {
    "scrolled": true
   },
   "outputs": [
    {
     "data": {
      "text/html": [
       "<div>\n",
       "<style scoped>\n",
       "    .dataframe tbody tr th:only-of-type {\n",
       "        vertical-align: middle;\n",
       "    }\n",
       "\n",
       "    .dataframe tbody tr th {\n",
       "        vertical-align: top;\n",
       "    }\n",
       "\n",
       "    .dataframe thead th {\n",
       "        text-align: right;\n",
       "    }\n",
       "</style>\n",
       "<table border=\"1\" class=\"dataframe\">\n",
       "  <thead>\n",
       "    <tr style=\"text-align: right;\">\n",
       "      <th></th>\n",
       "      <th>1Gender</th>\n",
       "      <th>2age</th>\n",
       "      <th>4Pin Code</th>\n",
       "      <th>5Shopping_Online</th>\n",
       "      <th>6frequency</th>\n",
       "      <th>7internet</th>\n",
       "      <th>8device</th>\n",
       "      <th>9screen_size</th>\n",
       "      <th>10operating_system_(OS)</th>\n",
       "      <th>11browser</th>\n",
       "      <th>...</th>\n",
       "      <th>38Use _satisfaction_cannot_exis_ without_trust</th>\n",
       "      <th>39Offering_a_wide_variety</th>\n",
       "      <th>40complete_and_relevant_product_information</th>\n",
       "      <th>41Monetary_savings</th>\n",
       "      <th>42The_Convenience_of_patronizing</th>\n",
       "      <th>43sense_of_adventure</th>\n",
       "      <th>44social_status</th>\n",
       "      <th>45_You_feel_gratification_shopping</th>\n",
       "      <th>46website_help_you_fulfill_certain_roles</th>\n",
       "      <th>47value_for_money_spent</th>\n",
       "    </tr>\n",
       "  </thead>\n",
       "  <tbody>\n",
       "    <tr>\n",
       "      <th>count</th>\n",
       "      <td>269.000000</td>\n",
       "      <td>269.000000</td>\n",
       "      <td>269.000000</td>\n",
       "      <td>269.000000</td>\n",
       "      <td>269.000000</td>\n",
       "      <td>269.000000</td>\n",
       "      <td>269.000000</td>\n",
       "      <td>269.000000</td>\n",
       "      <td>269.000000</td>\n",
       "      <td>269.000000</td>\n",
       "      <td>...</td>\n",
       "      <td>269.000000</td>\n",
       "      <td>269.000000</td>\n",
       "      <td>269.000000</td>\n",
       "      <td>269.000000</td>\n",
       "      <td>269.000000</td>\n",
       "      <td>269.000000</td>\n",
       "      <td>269.000000</td>\n",
       "      <td>269.000000</td>\n",
       "      <td>269.000000</td>\n",
       "      <td>269.000000</td>\n",
       "    </tr>\n",
       "    <tr>\n",
       "      <th>mean</th>\n",
       "      <td>0.669145</td>\n",
       "      <td>2.959108</td>\n",
       "      <td>220465.747212</td>\n",
       "      <td>3.524164</td>\n",
       "      <td>2.672862</td>\n",
       "      <td>3.260223</td>\n",
       "      <td>1.676580</td>\n",
       "      <td>4.282528</td>\n",
       "      <td>1.776952</td>\n",
       "      <td>1.275093</td>\n",
       "      <td>...</td>\n",
       "      <td>4.182156</td>\n",
       "      <td>4.148699</td>\n",
       "      <td>4.349442</td>\n",
       "      <td>4.263941</td>\n",
       "      <td>3.914498</td>\n",
       "      <td>3.553903</td>\n",
       "      <td>3.223048</td>\n",
       "      <td>3.501859</td>\n",
       "      <td>3.282528</td>\n",
       "      <td>4.163569</td>\n",
       "    </tr>\n",
       "    <tr>\n",
       "      <th>std</th>\n",
       "      <td>0.471398</td>\n",
       "      <td>1.066012</td>\n",
       "      <td>140524.341051</td>\n",
       "      <td>1.436586</td>\n",
       "      <td>1.651788</td>\n",
       "      <td>1.135887</td>\n",
       "      <td>0.843904</td>\n",
       "      <td>0.923426</td>\n",
       "      <td>0.797892</td>\n",
       "      <td>0.645429</td>\n",
       "      <td>...</td>\n",
       "      <td>1.072162</td>\n",
       "      <td>0.842110</td>\n",
       "      <td>0.755953</td>\n",
       "      <td>1.000485</td>\n",
       "      <td>0.693879</td>\n",
       "      <td>1.065869</td>\n",
       "      <td>1.219581</td>\n",
       "      <td>1.141564</td>\n",
       "      <td>1.178995</td>\n",
       "      <td>0.648773</td>\n",
       "    </tr>\n",
       "    <tr>\n",
       "      <th>min</th>\n",
       "      <td>0.000000</td>\n",
       "      <td>1.000000</td>\n",
       "      <td>110008.000000</td>\n",
       "      <td>1.000000</td>\n",
       "      <td>1.000000</td>\n",
       "      <td>2.000000</td>\n",
       "      <td>1.000000</td>\n",
       "      <td>2.000000</td>\n",
       "      <td>1.000000</td>\n",
       "      <td>1.000000</td>\n",
       "      <td>...</td>\n",
       "      <td>1.000000</td>\n",
       "      <td>2.000000</td>\n",
       "      <td>2.000000</td>\n",
       "      <td>2.000000</td>\n",
       "      <td>3.000000</td>\n",
       "      <td>1.000000</td>\n",
       "      <td>1.000000</td>\n",
       "      <td>1.000000</td>\n",
       "      <td>1.000000</td>\n",
       "      <td>3.000000</td>\n",
       "    </tr>\n",
       "    <tr>\n",
       "      <th>25%</th>\n",
       "      <td>0.000000</td>\n",
       "      <td>2.000000</td>\n",
       "      <td>122018.000000</td>\n",
       "      <td>3.000000</td>\n",
       "      <td>1.000000</td>\n",
       "      <td>2.000000</td>\n",
       "      <td>1.000000</td>\n",
       "      <td>4.000000</td>\n",
       "      <td>1.000000</td>\n",
       "      <td>1.000000</td>\n",
       "      <td>...</td>\n",
       "      <td>4.000000</td>\n",
       "      <td>4.000000</td>\n",
       "      <td>4.000000</td>\n",
       "      <td>4.000000</td>\n",
       "      <td>3.000000</td>\n",
       "      <td>3.000000</td>\n",
       "      <td>3.000000</td>\n",
       "      <td>3.000000</td>\n",
       "      <td>3.000000</td>\n",
       "      <td>4.000000</td>\n",
       "    </tr>\n",
       "    <tr>\n",
       "      <th>50%</th>\n",
       "      <td>1.000000</td>\n",
       "      <td>3.000000</td>\n",
       "      <td>201303.000000</td>\n",
       "      <td>4.000000</td>\n",
       "      <td>2.000000</td>\n",
       "      <td>3.000000</td>\n",
       "      <td>1.000000</td>\n",
       "      <td>4.000000</td>\n",
       "      <td>2.000000</td>\n",
       "      <td>1.000000</td>\n",
       "      <td>...</td>\n",
       "      <td>4.000000</td>\n",
       "      <td>4.000000</td>\n",
       "      <td>5.000000</td>\n",
       "      <td>5.000000</td>\n",
       "      <td>4.000000</td>\n",
       "      <td>4.000000</td>\n",
       "      <td>3.000000</td>\n",
       "      <td>3.000000</td>\n",
       "      <td>3.000000</td>\n",
       "      <td>4.000000</td>\n",
       "    </tr>\n",
       "    <tr>\n",
       "      <th>75%</th>\n",
       "      <td>1.000000</td>\n",
       "      <td>4.000000</td>\n",
       "      <td>201310.000000</td>\n",
       "      <td>5.000000</td>\n",
       "      <td>4.000000</td>\n",
       "      <td>5.000000</td>\n",
       "      <td>2.000000</td>\n",
       "      <td>5.000000</td>\n",
       "      <td>2.000000</td>\n",
       "      <td>1.000000</td>\n",
       "      <td>...</td>\n",
       "      <td>5.000000</td>\n",
       "      <td>5.000000</td>\n",
       "      <td>5.000000</td>\n",
       "      <td>5.000000</td>\n",
       "      <td>4.000000</td>\n",
       "      <td>4.000000</td>\n",
       "      <td>4.000000</td>\n",
       "      <td>4.000000</td>\n",
       "      <td>4.000000</td>\n",
       "      <td>5.000000</td>\n",
       "    </tr>\n",
       "    <tr>\n",
       "      <th>max</th>\n",
       "      <td>1.000000</td>\n",
       "      <td>5.000000</td>\n",
       "      <td>560037.000000</td>\n",
       "      <td>5.000000</td>\n",
       "      <td>5.000000</td>\n",
       "      <td>5.000000</td>\n",
       "      <td>4.000000</td>\n",
       "      <td>5.000000</td>\n",
       "      <td>3.000000</td>\n",
       "      <td>4.000000</td>\n",
       "      <td>...</td>\n",
       "      <td>5.000000</td>\n",
       "      <td>5.000000</td>\n",
       "      <td>5.000000</td>\n",
       "      <td>5.000000</td>\n",
       "      <td>5.000000</td>\n",
       "      <td>5.000000</td>\n",
       "      <td>5.000000</td>\n",
       "      <td>5.000000</td>\n",
       "      <td>5.000000</td>\n",
       "      <td>5.000000</td>\n",
       "    </tr>\n",
       "  </tbody>\n",
       "</table>\n",
       "<p>8 rows × 46 columns</p>\n",
       "</div>"
      ],
      "text/plain": [
       "          1Gender        2age      4Pin Code  5Shopping_Online  6frequency   \\\n",
       "count  269.000000  269.000000     269.000000        269.000000   269.000000   \n",
       "mean     0.669145    2.959108  220465.747212          3.524164     2.672862   \n",
       "std      0.471398    1.066012  140524.341051          1.436586     1.651788   \n",
       "min      0.000000    1.000000  110008.000000          1.000000     1.000000   \n",
       "25%      0.000000    2.000000  122018.000000          3.000000     1.000000   \n",
       "50%      1.000000    3.000000  201303.000000          4.000000     2.000000   \n",
       "75%      1.000000    4.000000  201310.000000          5.000000     4.000000   \n",
       "max      1.000000    5.000000  560037.000000          5.000000     5.000000   \n",
       "\n",
       "        7internet     8device  9screen_size  10operating_system_(OS)  \\\n",
       "count  269.000000  269.000000    269.000000               269.000000   \n",
       "mean     3.260223    1.676580      4.282528                 1.776952   \n",
       "std      1.135887    0.843904      0.923426                 0.797892   \n",
       "min      2.000000    1.000000      2.000000                 1.000000   \n",
       "25%      2.000000    1.000000      4.000000                 1.000000   \n",
       "50%      3.000000    1.000000      4.000000                 2.000000   \n",
       "75%      5.000000    2.000000      5.000000                 2.000000   \n",
       "max      5.000000    4.000000      5.000000                 3.000000   \n",
       "\n",
       "        11browser  ...  38Use _satisfaction_cannot_exis_ without_trust  \\\n",
       "count  269.000000  ...                                      269.000000   \n",
       "mean     1.275093  ...                                        4.182156   \n",
       "std      0.645429  ...                                        1.072162   \n",
       "min      1.000000  ...                                        1.000000   \n",
       "25%      1.000000  ...                                        4.000000   \n",
       "50%      1.000000  ...                                        4.000000   \n",
       "75%      1.000000  ...                                        5.000000   \n",
       "max      4.000000  ...                                        5.000000   \n",
       "\n",
       "       39Offering_a_wide_variety  40complete_and_relevant_product_information  \\\n",
       "count                 269.000000                                   269.000000   \n",
       "mean                    4.148699                                     4.349442   \n",
       "std                     0.842110                                     0.755953   \n",
       "min                     2.000000                                     2.000000   \n",
       "25%                     4.000000                                     4.000000   \n",
       "50%                     4.000000                                     5.000000   \n",
       "75%                     5.000000                                     5.000000   \n",
       "max                     5.000000                                     5.000000   \n",
       "\n",
       "       41Monetary_savings  42The_Convenience_of_patronizing  \\\n",
       "count          269.000000                        269.000000   \n",
       "mean             4.263941                          3.914498   \n",
       "std              1.000485                          0.693879   \n",
       "min              2.000000                          3.000000   \n",
       "25%              4.000000                          3.000000   \n",
       "50%              5.000000                          4.000000   \n",
       "75%              5.000000                          4.000000   \n",
       "max              5.000000                          5.000000   \n",
       "\n",
       "       43sense_of_adventure  44social_status  \\\n",
       "count            269.000000       269.000000   \n",
       "mean               3.553903         3.223048   \n",
       "std                1.065869         1.219581   \n",
       "min                1.000000         1.000000   \n",
       "25%                3.000000         3.000000   \n",
       "50%                4.000000         3.000000   \n",
       "75%                4.000000         4.000000   \n",
       "max                5.000000         5.000000   \n",
       "\n",
       "       45_You_feel_gratification_shopping  \\\n",
       "count                          269.000000   \n",
       "mean                             3.501859   \n",
       "std                              1.141564   \n",
       "min                              1.000000   \n",
       "25%                              3.000000   \n",
       "50%                              3.000000   \n",
       "75%                              4.000000   \n",
       "max                              5.000000   \n",
       "\n",
       "       46website_help_you_fulfill_certain_roles  47value_for_money_spent  \n",
       "count                                269.000000               269.000000  \n",
       "mean                                   3.282528                 4.163569  \n",
       "std                                    1.178995                 0.648773  \n",
       "min                                    1.000000                 3.000000  \n",
       "25%                                    3.000000                 4.000000  \n",
       "50%                                    3.000000                 4.000000  \n",
       "75%                                    4.000000                 5.000000  \n",
       "max                                    5.000000                 5.000000  \n",
       "\n",
       "[8 rows x 46 columns]"
      ]
     },
     "execution_count": 8,
     "metadata": {},
     "output_type": "execute_result"
    }
   ],
   "source": [
    "df.describe()"
   ]
  },
  {
   "cell_type": "code",
   "execution_count": 9,
   "id": "fe36f7f2",
   "metadata": {
    "scrolled": true
   },
   "outputs": [
    {
     "data": {
      "text/plain": [
       "1    180\n",
       "0     89\n",
       "Name: 1Gender, dtype: int64"
      ]
     },
     "execution_count": 9,
     "metadata": {},
     "output_type": "execute_result"
    }
   ],
   "source": [
    "df['1Gender'].value_counts()"
   ]
  },
  {
   "cell_type": "code",
   "execution_count": 10,
   "id": "57e9e7cc",
   "metadata": {
    "scrolled": true
   },
   "outputs": [
    {
     "data": {
      "image/png": "[encoded data removed]",
      "text/plain": [
       "<Figure size 720x360 with 1 Axes>"
      ]
     },
     "metadata": {},
     "output_type": "display_data"
    }
   ],
   "source": [
    "# Creating dataset\n",
    "gender =['Female','Male']\n",
    " \n",
    "data =  [180,89]\n",
    " \n",
    "# Creating explode data\n",
    "explode = (0.1, 0.1)\n",
    " \n",
    "# Creating color parameters\n",
    "colors = ( \"orange\", \"blue\")\n",
    " \n",
    "# Wedge properties\n",
    "wp = { 'linewidth' : 1, 'edgecolor' : \"green\" }\n",
    " \n",
    "# Creating autocpt arguments\n",
    "def func(pct, allvalues):\n",
    "    absolute = int(pct / 100.*np.sum(allvalues))\n",
    "    return \"{:.1f}%\\n({:d} )\".format(pct, absolute)\n",
    " \n",
    "# Creating plot\n",
    "fig, ax = plt.subplots(figsize =(10, 5))\n",
    "wedges, texts, autotexts = ax.pie(data,\n",
    "                                  autopct = lambda pct: func(pct, data),\n",
    "                                  explode = explode,\n",
    "                                  labels = gender,\n",
    "                                  shadow = True,\n",
    "                                  colors = colors,\n",
    "                                  startangle = 90,\n",
    "                                  wedgeprops = wp,\n",
    "                                  textprops = dict(color =\"white\"))\n",
    " \n",
    "# Adding legend\n",
    "ax.legend(wedges, gender,\n",
    "          title =\"Gender\",\n",
    "          loc =\"center left\",\n",
    "          bbox_to_anchor =(1, 0, 0.5, 1))\n",
    " \n",
    "plt.setp(autotexts, size = 8, weight =\"bold\")\n",
    "ax.set_title(\"Gender pie chart\")\n",
    " \n",
    "# show plot\n",
    "plt.show()\n"
   ]
  },
  {
   "cell_type": "markdown",
   "id": "a228a378",
   "metadata": {},
   "source": [
    "####  Above pie chart shows that the data consist 67% females and 33% males"
   ]
  },
  {
   "cell_type": "code",
   "execution_count": 11,
   "id": "5be63923",
   "metadata": {},
   "outputs": [
    {
     "data": {
      "text/plain": [
       "3    81\n",
       "2    79\n",
       "4    70\n",
       "1    20\n",
       "5    19\n",
       "Name: 2age, dtype: int64"
      ]
     },
     "execution_count": 11,
     "metadata": {},
     "output_type": "execute_result"
    }
   ],
   "source": [
    "df['2age'].value_counts()"
   ]
  },
  {
   "cell_type": "code",
   "execution_count": 12,
   "id": "72d109f3",
   "metadata": {
    "scrolled": true
   },
   "outputs": [
    {
     "data": {
      "image/png": "[encoded data removed]",
      "text/plain": [
       "<Figure size 720x360 with 1 Axes>"
      ]
     },
     "metadata": {},
     "output_type": "display_data"
    }
   ],
   "source": [
    "# Creating dataset\n",
    "age = ['less than 20','age 21 - 30','age 31-40','age 41-50','51 and above']\n",
    " \n",
    "data = [20,79,81,70,19]\n",
    " \n",
    "# Creating explode data\n",
    "explode = (0.1, 0.1, 0.1, 0.1, 0.1)\n",
    " \n",
    "# Creating color parameters\n",
    "colors = ( \"orange\", \"green\", \"brown\",\n",
    "          \"grey\", \"indigo\", \"beige\")\n",
    " \n",
    "# Wedge properties\n",
    "wp = { 'linewidth' : 1, 'edgecolor' : \"green\" }\n",
    " \n",
    "# Creating autocpt arguments\n",
    "def func(pct, allvalues):\n",
    "    absolute = int(pct / 100.*np.sum(allvalues))\n",
    "    return \"{:.1f}%\\n({:d} )\".format(pct, absolute)\n",
    " \n",
    "# Creating plot\n",
    "fig, ax = plt.subplots(figsize =(10, 5))\n",
    "wedges, texts, autotexts = ax.pie(data,\n",
    "                                  autopct = lambda pct: func(pct, data),\n",
    "                                  explode = explode,\n",
    "                                  labels = age,\n",
    "                                  shadow = True,\n",
    "                                  colors = colors,\n",
    "                                  startangle = 90,\n",
    "                                  wedgeprops = wp,\n",
    "                                  textprops = dict(color =\"white\"))\n",
    " \n",
    "# Adding legend\n",
    "ax.legend(wedges, age,\n",
    "          title =\"age\",\n",
    "          loc =\"center left\",\n",
    "          bbox_to_anchor =(1, 0, 0.5, 1))\n",
    " \n",
    "plt.setp(autotexts, size = 8, weight =\"bold\")\n",
    "ax.set_title(\"Pie chart for Age\")\n",
    " \n",
    "# show plot\n",
    "plt.show()"
   ]
  },
  {
   "cell_type": "markdown",
   "id": "272ee572",
   "metadata": {},
   "source": [
    "####  From above pie chart we can say that 31% people belong to age group 31-40 followed by age group 21-30 which is 29% followed by age group 41-50 which is 26% followed by Less than 20 & 51 and above which is 7% Each"
   ]
  },
  {
   "cell_type": "code",
   "execution_count": 13,
   "id": "4bce4693",
   "metadata": {},
   "outputs": [
    {
     "data": {
      "image/png": "[encoded data removed]",
      "text/plain": [
       "<Figure size 1080x504 with 1 Axes>"
      ]
     },
     "metadata": {
      "needs_background": "light"
     },
     "output_type": "display_data"
    }
   ],
   "source": [
    "# creating the dataset\n",
    "data={'Delhi':58,'Greater Noida':43,'Noida':40,'Bangalore':37,'Karnal':27,'Solan':18,'Ghaziabad':18,'Gurgaon':12,'Merrut':9,'Moradabad':5,'Bulandshahr':2}\n",
    "courses = list(data.keys())\n",
    "values = list(data.values())\n",
    "  \n",
    "fig = plt.figure(figsize = (15, 7))\n",
    " \n",
    "# creating the bar plot\n",
    "plt.bar(courses, values, color ='maroon',\n",
    "        width = 0.4)\n",
    " \n",
    "plt.xlabel(\"Cities\")\n",
    "plt.ylabel(\"No of customer\")\n",
    "plt.title(\"Customers vs Cities\")\n",
    "plt.show()"
   ]
  },
  {
   "cell_type": "markdown",
   "id": "e1256117",
   "metadata": {},
   "source": [
    "#### Above bar chart shows that most of the customers belong to Delhi , Greater Noida , Noida and followed by other cities."
   ]
  },
  {
   "cell_type": "code",
   "execution_count": 14,
   "id": "3e76e4c2",
   "metadata": {},
   "outputs": [
    {
     "data": {
      "text/html": [
       "<div>\n",
       "<style scoped>\n",
       "    .dataframe tbody tr th:only-of-type {\n",
       "        vertical-align: middle;\n",
       "    }\n",
       "\n",
       "    .dataframe tbody tr th {\n",
       "        vertical-align: top;\n",
       "    }\n",
       "\n",
       "    .dataframe thead th {\n",
       "        text-align: right;\n",
       "    }\n",
       "</style>\n",
       "<table border=\"1\" class=\"dataframe\">\n",
       "  <thead>\n",
       "    <tr style=\"text-align: right;\">\n",
       "      <th>8device</th>\n",
       "      <th>1</th>\n",
       "      <th>2</th>\n",
       "      <th>3</th>\n",
       "      <th>4</th>\n",
       "    </tr>\n",
       "    <tr>\n",
       "      <th>2age</th>\n",
       "      <th></th>\n",
       "      <th></th>\n",
       "      <th></th>\n",
       "      <th></th>\n",
       "    </tr>\n",
       "  </thead>\n",
       "  <tbody>\n",
       "    <tr>\n",
       "      <th>1</th>\n",
       "      <td>20.0</td>\n",
       "      <td>NaN</td>\n",
       "      <td>NaN</td>\n",
       "      <td>NaN</td>\n",
       "    </tr>\n",
       "    <tr>\n",
       "      <th>2</th>\n",
       "      <td>50.0</td>\n",
       "      <td>23.0</td>\n",
       "      <td>3.0</td>\n",
       "      <td>3.0</td>\n",
       "    </tr>\n",
       "    <tr>\n",
       "      <th>3</th>\n",
       "      <td>33.0</td>\n",
       "      <td>38.0</td>\n",
       "      <td>9.0</td>\n",
       "      <td>1.0</td>\n",
       "    </tr>\n",
       "    <tr>\n",
       "      <th>4</th>\n",
       "      <td>30.0</td>\n",
       "      <td>18.0</td>\n",
       "      <td>15.0</td>\n",
       "      <td>7.0</td>\n",
       "    </tr>\n",
       "    <tr>\n",
       "      <th>5</th>\n",
       "      <td>8.0</td>\n",
       "      <td>7.0</td>\n",
       "      <td>3.0</td>\n",
       "      <td>1.0</td>\n",
       "    </tr>\n",
       "  </tbody>\n",
       "</table>\n",
       "</div>"
      ],
      "text/plain": [
       "8device     1     2     3    4\n",
       "2age                          \n",
       "1        20.0   NaN   NaN  NaN\n",
       "2        50.0  23.0   3.0  3.0\n",
       "3        33.0  38.0   9.0  1.0\n",
       "4        30.0  18.0  15.0  7.0\n",
       "5         8.0   7.0   3.0  1.0"
      ]
     },
     "execution_count": 14,
     "metadata": {},
     "output_type": "execute_result"
    }
   ],
   "source": [
    "df.pivot_table('4Pin Code',index='2age',columns='8device',aggfunc='count')"
   ]
  },
  {
   "cell_type": "code",
   "execution_count": 15,
   "id": "9c2c1337",
   "metadata": {},
   "outputs": [
    {
     "data": {
      "image/png": "[encoded data removed]",
      "text/plain": [
       "<Figure size 720x504 with 1 Axes>"
      ]
     },
     "metadata": {
      "needs_background": "light"
     },
     "output_type": "display_data"
    }
   ],
   "source": [
    "# create data\n",
    "x = ['less than 20', '21-30', '31-40', '41-50','51 and above']\n",
    "y1 = np.array([20,50,33,30,8])\n",
    "y2 = np.array([0,23,38,18,7])\n",
    "y3 = np.array([0,3,9,15,3])\n",
    "y4 = np.array([0,3,1,7,1])\n",
    "fig = plt.figure(figsize = (10, 7))\n",
    "# plot bars in stack manner\n",
    "plt.bar(x, y1, color='r')\n",
    "plt.bar(x, y2, bottom=y1, color='b')\n",
    "plt.bar(x, y3, bottom=y1+y2, color='y')\n",
    "plt.bar(x, y4, bottom=y1+y2+y3, color='g')\n",
    "\n",
    "plt.xlabel(\"Age Group\")\n",
    "plt.ylabel(\"Count\")\n",
    "plt.legend([\"Smartphone\", \"Laptop\", \"Deskop\", \"Tablet\"])\n",
    "plt.title(\"Age Vs Device\")\n",
    "\n",
    "plt.show()\n"
   ]
  },
  {
   "cell_type": "markdown",
   "id": "35bff74b",
   "metadata": {},
   "source": [
    "##### Age group vs Device\n",
    "* from above graph we observe that most of the people preferred samrtphone \n",
    "* then next most used device is laptop\n",
    "* the use of tablet is less in all group\n"
   ]
  },
  {
   "cell_type": "code",
   "execution_count": 16,
   "id": "fdc96551",
   "metadata": {},
   "outputs": [
    {
     "data": {
      "text/plain": [
       "Index(['1Gender', '2age', '3city ', '4Pin Code', '5Shopping_Online',\n",
       "       '6frequency ', '7internet', '8device', '9screen_size',\n",
       "       '10operating_system_(OS)', '11browser', '12firsttime?', '13reach',\n",
       "       '14time_do_you_explore', '15payment_Option?',\n",
       "       '16abandon_your_shopping_cart?', '17abandon_the_“Bag”_“Shopping Cart”?',\n",
       "       '18website_understand', '19similar_product_highlighted',\n",
       "       '20Complete_information_is_provided',\n",
       "       '21All_information_stated_clearly', '22easy_to_navigate_website',\n",
       "       '23processing_speed', '24User_friendly_Interface', '25Payment_methods',\n",
       "       '26Trust_part_of_the_transaction_time',\n",
       "       '27Empathy_towards_the_customers', '28guarantee_the_privacy',\n",
       "       '29Responsiveness', '30benefit_and_discounts', '31Enjoyment_of_derived',\n",
       "       '32convenient_and_flexible', '33Return_and_replacement_policy',\n",
       "       '34loyalty_programs_benefit_to_shopping',\n",
       "       '35Displaying_improves_satisfaction_customers',\n",
       "       '36shopping _on_a_good_quality_website_or_application', '37Net_Benefit',\n",
       "       '38Use _satisfaction_cannot_exis_ without_trust',\n",
       "       '39Offering_a_wide_variety',\n",
       "       '40complete_and_relevant_product_information', '41Monetary_savings',\n",
       "       '42The_Convenience_of_patronizing', '43sense_of_adventure',\n",
       "       '44social_status', '45_You_feel_gratification_shopping',\n",
       "       '46website_help_you_fulfill_certain_roles', '47value_for_money_spent',\n",
       "       'From the following, tick any (or all) of the online retailers you have shopped from',\n",
       "       'Easy to use website or application',\n",
       "       'Visual appealing web-page layout', 'Wild variety of product on offer',\n",
       "       'Complete, relevant description information of products',\n",
       "       'Fast loading website speed of website and application',\n",
       "       'Reliability of the website or application',\n",
       "       'Quickness to complete purchase',\n",
       "       'Availability of several payment options', 'Speedy order delivery ',\n",
       "       'Privacy of customers’ information',\n",
       "       'Security of customer financial information',\n",
       "       'Perceived Trustworthiness',\n",
       "       'Presence of online assistance through multi-channel',\n",
       "       'Longer time to get logged in (promotion, sales period)',\n",
       "       'Longer time in displaying graphics and photos (promotion, sales period)',\n",
       "       'Late declaration of price (promotion, sales period)',\n",
       "       'Longer page loading time (promotion, sales period)',\n",
       "       'Limited mode of payment on most products (promotion, sales period)',\n",
       "       'Longer delivery period', 'Change in website/Application design',\n",
       "       'Frequent disruption when moving from one page to another',\n",
       "       'Website is as efficient as before',\n",
       "       'Which of the Indian online retailer would you recommend to a friend?'],\n",
       "      dtype='object')"
      ]
     },
     "execution_count": 16,
     "metadata": {},
     "output_type": "execute_result"
    }
   ],
   "source": [
    "df.columns"
   ]
  },
  {
   "cell_type": "code",
   "execution_count": 17,
   "id": "595150f6",
   "metadata": {},
   "outputs": [
    {
     "data": {
      "text/html": [
       "<div>\n",
       "<style scoped>\n",
       "    .dataframe tbody tr th:only-of-type {\n",
       "        vertical-align: middle;\n",
       "    }\n",
       "\n",
       "    .dataframe tbody tr th {\n",
       "        vertical-align: top;\n",
       "    }\n",
       "\n",
       "    .dataframe thead th {\n",
       "        text-align: right;\n",
       "    }\n",
       "</style>\n",
       "<table border=\"1\" class=\"dataframe\">\n",
       "  <thead>\n",
       "    <tr style=\"text-align: right;\">\n",
       "      <th>15payment_Option?</th>\n",
       "      <th>1</th>\n",
       "      <th>2</th>\n",
       "      <th>4</th>\n",
       "    </tr>\n",
       "    <tr>\n",
       "      <th>8device</th>\n",
       "      <th></th>\n",
       "      <th></th>\n",
       "      <th></th>\n",
       "    </tr>\n",
       "  </thead>\n",
       "  <tbody>\n",
       "    <tr>\n",
       "      <th>1</th>\n",
       "      <td>54.0</td>\n",
       "      <td>56.0</td>\n",
       "      <td>31.0</td>\n",
       "    </tr>\n",
       "    <tr>\n",
       "      <th>2</th>\n",
       "      <td>66.0</td>\n",
       "      <td>18.0</td>\n",
       "      <td>2.0</td>\n",
       "    </tr>\n",
       "    <tr>\n",
       "      <th>3</th>\n",
       "      <td>17.0</td>\n",
       "      <td>1.0</td>\n",
       "      <td>12.0</td>\n",
       "    </tr>\n",
       "    <tr>\n",
       "      <th>4</th>\n",
       "      <td>11.0</td>\n",
       "      <td>1.0</td>\n",
       "      <td>NaN</td>\n",
       "    </tr>\n",
       "  </tbody>\n",
       "</table>\n",
       "</div>"
      ],
      "text/plain": [
       "15payment_Option?     1     2     4\n",
       "8device                            \n",
       "1                  54.0  56.0  31.0\n",
       "2                  66.0  18.0   2.0\n",
       "3                  17.0   1.0  12.0\n",
       "4                  11.0   1.0   NaN"
      ]
     },
     "execution_count": 17,
     "metadata": {},
     "output_type": "execute_result"
    }
   ],
   "source": [
    "df.pivot_table('1Gender',index='8device',columns='15payment_Option?',aggfunc='count')"
   ]
  },
  {
   "cell_type": "code",
   "execution_count": 18,
   "id": "704280cb",
   "metadata": {
    "scrolled": true
   },
   "outputs": [
    {
     "data": {
      "image/png": "[encoded data removed]",
      "text/plain": [
       "<Figure size 720x360 with 1 Axes>"
      ]
     },
     "metadata": {
      "needs_background": "light"
     },
     "output_type": "display_data"
    }
   ],
   "source": [
    "# create data\n",
    "x = ['1', '2', '3', '4']\n",
    "y1 = np.array([54,66,17,11])\n",
    "y2 = np.array([56,18,1,1])\n",
    "y4 = np.array([31,2,12,0])\n",
    "fig = plt.figure(figsize = (10, 5))\n",
    "\n",
    "# plot bars in stack manner\n",
    "plt.bar(x, y1, color='r')\n",
    "plt.bar(x, y2, bottom=y1, color='b')\n",
    "plt.bar(x, y4, bottom=y1+y2, color='g')\n",
    "\n",
    "plt.xlabel(\"Device\")\n",
    "plt.ylabel(\"Count\")\n",
    "plt.legend([\"COD\", \"Credit\", \"Paytm\"])\n",
    "plt.title(\"Device vs Payment Options\")\n",
    "plt.show()\n"
   ]
  },
  {
   "cell_type": "markdown",
   "id": "ca625ea7",
   "metadata": {},
   "source": [
    "##### Device vs payment options\n",
    "* so around 141 were using samrtphone in which mostly people use credit card option followed by COD and Paytm\n",
    "* so around 86 were using laptop in which mstly people use COD as payment option followed by Credit card\n",
    "* so around 30 people use desktop in which COD was most followed by paytm \n",
    "* so around 12 people use tablet in which paytm iption is only COD and Credit "
   ]
  },
  {
   "cell_type": "code",
   "execution_count": 19,
   "id": "6237e0ec",
   "metadata": {},
   "outputs": [
    {
     "data": {
      "text/html": [
       "<div>\n",
       "<style scoped>\n",
       "    .dataframe tbody tr th:only-of-type {\n",
       "        vertical-align: middle;\n",
       "    }\n",
       "\n",
       "    .dataframe tbody tr th {\n",
       "        vertical-align: top;\n",
       "    }\n",
       "\n",
       "    .dataframe thead th {\n",
       "        text-align: right;\n",
       "    }\n",
       "</style>\n",
       "<table border=\"1\" class=\"dataframe\">\n",
       "  <thead>\n",
       "    <tr style=\"text-align: right;\">\n",
       "      <th>15payment_Option?</th>\n",
       "      <th>1</th>\n",
       "      <th>2</th>\n",
       "      <th>4</th>\n",
       "    </tr>\n",
       "    <tr>\n",
       "      <th>1Gender</th>\n",
       "      <th></th>\n",
       "      <th></th>\n",
       "      <th></th>\n",
       "    </tr>\n",
       "  </thead>\n",
       "  <tbody>\n",
       "    <tr>\n",
       "      <th>0</th>\n",
       "      <td>56</td>\n",
       "      <td>18</td>\n",
       "      <td>15</td>\n",
       "    </tr>\n",
       "    <tr>\n",
       "      <th>1</th>\n",
       "      <td>92</td>\n",
       "      <td>58</td>\n",
       "      <td>30</td>\n",
       "    </tr>\n",
       "  </tbody>\n",
       "</table>\n",
       "</div>"
      ],
      "text/plain": [
       "15payment_Option?   1   2   4\n",
       "1Gender                      \n",
       "0                  56  18  15\n",
       "1                  92  58  30"
      ]
     },
     "execution_count": 19,
     "metadata": {},
     "output_type": "execute_result"
    }
   ],
   "source": [
    "df.pivot_table('8device',index='1Gender',columns='15payment_Option?',aggfunc='count')"
   ]
  },
  {
   "cell_type": "code",
   "execution_count": 20,
   "id": "88c43673",
   "metadata": {},
   "outputs": [
    {
     "data": {
      "image/png": "[encoded data removed]",
      "text/plain": [
       "<Figure size 432x288 with 1 Axes>"
      ]
     },
     "metadata": {
      "needs_background": "light"
     },
     "output_type": "display_data"
    }
   ],
   "source": [
    "# create data\n",
    "x = ['0', '1']\n",
    "y1 = np.array([56,92])\n",
    "y2 = np.array([18,58])\n",
    "y4 = np.array([15,30])\n",
    " \n",
    "# plot bars in stack manner\n",
    "plt.bar(x, y1, color='r')\n",
    "plt.bar(x, y2, bottom=y1, color='b')\n",
    "plt.bar(x, y4, bottom=y1+y2, color='g')\n",
    "\n",
    "plt.xlabel(\"Gender\")\n",
    "plt.ylabel(\"Count\")\n",
    "plt.legend([\"COD\", \"Credit\", \"Paytm\"])\n",
    "plt.title(\"Gender vs Payment Options\")\n",
    "plt.show()\n"
   ]
  },
  {
   "cell_type": "markdown",
   "id": "05fd1b59",
   "metadata": {},
   "source": [
    "##### Gender vs Payment Option\n",
    "* There are 180 no of count of female in which 92 female perfred payment option as COD and followed by Credit card\n",
    "* Threre are 89 No of count of male in which 56 male perffered payment option as COD and followed by Credit card\n"
   ]
  },
  {
   "cell_type": "code",
   "execution_count": 21,
   "id": "7cb17212",
   "metadata": {},
   "outputs": [
    {
     "data": {
      "text/html": [
       "<div>\n",
       "<style scoped>\n",
       "    .dataframe tbody tr th:only-of-type {\n",
       "        vertical-align: middle;\n",
       "    }\n",
       "\n",
       "    .dataframe tbody tr th {\n",
       "        vertical-align: top;\n",
       "    }\n",
       "\n",
       "    .dataframe thead th {\n",
       "        text-align: right;\n",
       "    }\n",
       "</style>\n",
       "<table border=\"1\" class=\"dataframe\">\n",
       "  <thead>\n",
       "    <tr style=\"text-align: right;\">\n",
       "      <th>15payment_Option?</th>\n",
       "      <th>1</th>\n",
       "      <th>2</th>\n",
       "      <th>4</th>\n",
       "    </tr>\n",
       "    <tr>\n",
       "      <th>2age</th>\n",
       "      <th></th>\n",
       "      <th></th>\n",
       "      <th></th>\n",
       "    </tr>\n",
       "  </thead>\n",
       "  <tbody>\n",
       "    <tr>\n",
       "      <th>1</th>\n",
       "      <td>5.0</td>\n",
       "      <td>12.0</td>\n",
       "      <td>3.0</td>\n",
       "    </tr>\n",
       "    <tr>\n",
       "      <th>2</th>\n",
       "      <td>50.0</td>\n",
       "      <td>21.0</td>\n",
       "      <td>8.0</td>\n",
       "    </tr>\n",
       "    <tr>\n",
       "      <th>3</th>\n",
       "      <td>38.0</td>\n",
       "      <td>23.0</td>\n",
       "      <td>20.0</td>\n",
       "    </tr>\n",
       "    <tr>\n",
       "      <th>4</th>\n",
       "      <td>43.0</td>\n",
       "      <td>13.0</td>\n",
       "      <td>14.0</td>\n",
       "    </tr>\n",
       "    <tr>\n",
       "      <th>5</th>\n",
       "      <td>12.0</td>\n",
       "      <td>7.0</td>\n",
       "      <td>NaN</td>\n",
       "    </tr>\n",
       "  </tbody>\n",
       "</table>\n",
       "</div>"
      ],
      "text/plain": [
       "15payment_Option?     1     2     4\n",
       "2age                               \n",
       "1                   5.0  12.0   3.0\n",
       "2                  50.0  21.0   8.0\n",
       "3                  38.0  23.0  20.0\n",
       "4                  43.0  13.0  14.0\n",
       "5                  12.0   7.0   NaN"
      ]
     },
     "execution_count": 21,
     "metadata": {},
     "output_type": "execute_result"
    }
   ],
   "source": [
    "df.pivot_table('1Gender',index='2age',columns='15payment_Option?',aggfunc='count')"
   ]
  },
  {
   "cell_type": "code",
   "execution_count": 22,
   "id": "b1e0f549",
   "metadata": {
    "scrolled": true
   },
   "outputs": [
    {
     "data": {
      "image/png": "[encoded data removed]",
      "text/plain": [
       "<Figure size 432x288 with 1 Axes>"
      ]
     },
     "metadata": {
      "needs_background": "light"
     },
     "output_type": "display_data"
    }
   ],
   "source": [
    "# create data\n",
    "x = ['1', '2' , '3','4','5']\n",
    "y1 = np.array([5,50,38,43,12])\n",
    "y2 = np.array([12,21,23,13,7])\n",
    "y4 = np.array([3,8,20,14,0])\n",
    " \n",
    "# plot bars in stack manner\n",
    "plt.bar(x, y1, color='r')\n",
    "plt.bar(x, y2, bottom=y1, color='b')\n",
    "plt.bar(x, y4, bottom=y1+y2, color='g')\n",
    "\n",
    "plt.xlabel(\"Age\")\n",
    "plt.ylabel(\"Count\")\n",
    "plt.legend([\"COD\", \"Credit\", \"Paytm\"])\n",
    "plt.title(\"Age vs Payment Options\")\n",
    "plt.show()\n"
   ]
  },
  {
   "cell_type": "markdown",
   "id": "77a1e026",
   "metadata": {},
   "source": [
    "#####  Age vs Payment Options\n",
    "* In age group 1 there are 20 people in which they tend to pay money by credit card mostaytm\n",
    "* In age group 2 there are 79 people in which they tend to pay money by COD the most followed by credit card and least by paytm.\n",
    "* In age group 3 there are 81 people in which they tend to pay money by COD the most followed by credit card and least by paytm.\n",
    "* In age group  there are 19 people in which they tend to pay money by only COD and credit but most is of COD."
   ]
  },
  {
   "cell_type": "code",
   "execution_count": 23,
   "id": "32b1e5fe",
   "metadata": {},
   "outputs": [],
   "source": [
    "#there is some data cleaning we have done we found that the value for 2 and 4 is ok but the value for 3 is separated so we join them."
   ]
  },
  {
   "cell_type": "code",
   "execution_count": 24,
   "id": "15a4b1ec",
   "metadata": {},
   "outputs": [
    {
     "data": {
      "text/plain": [
       "3    118\n",
       "2     76\n",
       "5     71\n",
       "4      4\n",
       "Name: 7internet, dtype: int64"
      ]
     },
     "execution_count": 24,
     "metadata": {},
     "output_type": "execute_result"
    }
   ],
   "source": [
    "df['7internet'].value_counts()"
   ]
  },
  {
   "cell_type": "code",
   "execution_count": 25,
   "id": "08cae793",
   "metadata": {},
   "outputs": [],
   "source": [
    "df['7internet']=df['7internet'].replace(5,3)"
   ]
  },
  {
   "cell_type": "code",
   "execution_count": 26,
   "id": "3a7f3052",
   "metadata": {},
   "outputs": [
    {
     "data": {
      "text/plain": [
       "3    189\n",
       "2     76\n",
       "4      4\n",
       "Name: 7internet, dtype: int64"
      ]
     },
     "execution_count": 26,
     "metadata": {},
     "output_type": "execute_result"
    }
   ],
   "source": [
    "df['7internet'].value_counts()"
   ]
  },
  {
   "cell_type": "code",
   "execution_count": 27,
   "id": "bafd1cc0",
   "metadata": {},
   "outputs": [
    {
     "data": {
      "text/html": [
       "<div>\n",
       "<style scoped>\n",
       "    .dataframe tbody tr th:only-of-type {\n",
       "        vertical-align: middle;\n",
       "    }\n",
       "\n",
       "    .dataframe tbody tr th {\n",
       "        vertical-align: top;\n",
       "    }\n",
       "\n",
       "    .dataframe thead th {\n",
       "        text-align: right;\n",
       "    }\n",
       "</style>\n",
       "<table border=\"1\" class=\"dataframe\">\n",
       "  <thead>\n",
       "    <tr style=\"text-align: right;\">\n",
       "      <th>8device</th>\n",
       "      <th>1</th>\n",
       "      <th>2</th>\n",
       "      <th>3</th>\n",
       "      <th>4</th>\n",
       "    </tr>\n",
       "    <tr>\n",
       "      <th>7internet</th>\n",
       "      <th></th>\n",
       "      <th></th>\n",
       "      <th></th>\n",
       "      <th></th>\n",
       "    </tr>\n",
       "  </thead>\n",
       "  <tbody>\n",
       "    <tr>\n",
       "      <th>2</th>\n",
       "      <td>37.0</td>\n",
       "      <td>33.0</td>\n",
       "      <td>NaN</td>\n",
       "      <td>6.0</td>\n",
       "    </tr>\n",
       "    <tr>\n",
       "      <th>3</th>\n",
       "      <td>104.0</td>\n",
       "      <td>53.0</td>\n",
       "      <td>26.0</td>\n",
       "      <td>6.0</td>\n",
       "    </tr>\n",
       "    <tr>\n",
       "      <th>4</th>\n",
       "      <td>NaN</td>\n",
       "      <td>NaN</td>\n",
       "      <td>4.0</td>\n",
       "      <td>NaN</td>\n",
       "    </tr>\n",
       "  </tbody>\n",
       "</table>\n",
       "</div>"
      ],
      "text/plain": [
       "8device        1     2     3    4\n",
       "7internet                        \n",
       "2           37.0  33.0   NaN  6.0\n",
       "3          104.0  53.0  26.0  6.0\n",
       "4            NaN   NaN   4.0  NaN"
      ]
     },
     "execution_count": 27,
     "metadata": {},
     "output_type": "execute_result"
    }
   ],
   "source": [
    "df.pivot_table('1Gender',index='7internet',columns='8device',aggfunc='count')"
   ]
  },
  {
   "cell_type": "code",
   "execution_count": 28,
   "id": "95c11312",
   "metadata": {},
   "outputs": [
    {
     "data": {
      "image/png": "[encoded data removed]",
      "text/plain": [
       "<Figure size 432x288 with 1 Axes>"
      ]
     },
     "metadata": {
      "needs_background": "light"
     },
     "output_type": "display_data"
    }
   ],
   "source": [
    "# create data\n",
    "x = [ '2' , '3','4']\n",
    "y1 = np.array([37,104,0])\n",
    "y2 = np.array([22,53,0])\n",
    "y3 = np.array([0,26,4])\n",
    "y4 = np.array([6,6,0,])\n",
    " \n",
    "# plot bars in stack manner\n",
    "plt.bar(x, y1, color='r')\n",
    "plt.bar(x, y2, bottom=y1, color='b')\n",
    "plt.bar(x, y3, bottom=y1+y2, color='y')\n",
    "plt.bar(x, y4, bottom=y1+y2+y3, color='g')\n",
    "\n",
    "plt.xlabel('Internet')\n",
    "plt.ylabel(\"Count\")\n",
    "plt.legend([\"Smartphone\", \"Laptop\", \"Deskop\", \"Tablet\"])\n",
    "plt.title(\"internet vs device\")\n",
    "plt.show()\n"
   ]
  },
  {
   "cell_type": "markdown",
   "id": "13800046",
   "metadata": {},
   "source": [
    "##### Internet vs Device \n",
    "* From the graph, we observe the use of wifi is moderate in that mostly used is by smartphones followed by laptops, and least by tablets, in this no use of the desktop.\n",
    "* From the graph, we observe the use of mobile internet is high in that mostly used by smartphones followed by laptops, followed by desktops, and least by tablets.\n",
    "* From the graph, we observe the use of Dial-up internet is very low in that it is only used by tablets.\n"
   ]
  },
  {
   "cell_type": "code",
   "execution_count": 29,
   "id": "3609dc00",
   "metadata": {},
   "outputs": [
    {
     "data": {
      "text/plain": [
       "4    101\n",
       "5     87\n",
       "3     52\n",
       "2     18\n",
       "1     11\n",
       "Name: 20Complete_information_is_provided, dtype: int64"
      ]
     },
     "execution_count": 29,
     "metadata": {},
     "output_type": "execute_result"
    }
   ],
   "source": [
    "df['20Complete_information_is_provided'].value_counts()"
   ]
  },
  {
   "cell_type": "code",
   "execution_count": 30,
   "id": "d1011a64",
   "metadata": {},
   "outputs": [
    {
     "name": "stderr",
     "output_type": "stream",
     "text": [
      "C:\\Users\\Dipesh\\anaconda3\\lib\\site-packages\\seaborn\\_decorators.py:36: FutureWarning: Pass the following variables as keyword args: x, y. From version 0.12, the only valid positional argument will be `data`, and passing other arguments without an explicit keyword will result in an error or misinterpretation.\n",
      "  warnings.warn(\n"
     ]
    },
    {
     "data": {
      "text/plain": [
       "<AxesSubplot:xlabel='1Gender', ylabel='20Complete_information_is_provided'>"
      ]
     },
     "execution_count": 30,
     "metadata": {},
     "output_type": "execute_result"
    },
    {
     "data": {
      "image/png": "[encoded data removed]",
      "text/plain": [
       "<Figure size 432x288 with 1 Axes>"
      ]
     },
     "metadata": {
      "needs_background": "light"
     },
     "output_type": "display_data"
    }
   ],
   "source": [
    "sns.stripplot(df['1Gender'] ,df['20Complete_information_is_provided'])\n"
   ]
  },
  {
   "cell_type": "markdown",
   "id": "5f8771b6",
   "metadata": {},
   "source": [
    "##### From the graph, we observe that the female review about (Complete information on the listed seller and the product being offered is important for the purchase decision.) is mixed, but the male has a review that is mostly agreed."
   ]
  },
  {
   "cell_type": "code",
   "execution_count": 31,
   "id": "a70f35d0",
   "metadata": {},
   "outputs": [
    {
     "data": {
      "text/plain": [
       "5    159\n",
       "4     80\n",
       "2     30\n",
       "Name: 25Payment_methods, dtype: int64"
      ]
     },
     "execution_count": 31,
     "metadata": {},
     "output_type": "execute_result"
    }
   ],
   "source": [
    "df['25Payment_methods'].value_counts()"
   ]
  },
  {
   "cell_type": "code",
   "execution_count": 32,
   "id": "19740946",
   "metadata": {
    "scrolled": true
   },
   "outputs": [
    {
     "name": "stderr",
     "output_type": "stream",
     "text": [
      "C:\\Users\\Dipesh\\anaconda3\\lib\\site-packages\\seaborn\\_decorators.py:36: FutureWarning: Pass the following variables as keyword args: x, y. From version 0.12, the only valid positional argument will be `data`, and passing other arguments without an explicit keyword will result in an error or misinterpretation.\n",
      "  warnings.warn(\n"
     ]
    },
    {
     "data": {
      "text/plain": [
       "<AxesSubplot:xlabel='2age', ylabel='25Payment_methods'>"
      ]
     },
     "execution_count": 32,
     "metadata": {},
     "output_type": "execute_result"
    },
    {
     "data": {
      "image/png": "[encoded data removed]",
      "text/plain": [
       "<Figure size 432x288 with 1 Axes>"
      ]
     },
     "metadata": {
      "needs_background": "light"
     },
     "output_type": "display_data"
    }
   ],
   "source": [
    "sns.stripplot(df['2age'] ,df['25Payment_methods'])"
   ]
  },
  {
   "cell_type": "markdown",
   "id": "f8365d4b",
   "metadata": {},
   "source": [
    "##### From people of all age groups, they find the payment method convenient but only age group 3&4 has mixed reviews."
   ]
  },
  {
   "cell_type": "code",
   "execution_count": 33,
   "id": "baeaa34c",
   "metadata": {},
   "outputs": [
    {
     "name": "stderr",
     "output_type": "stream",
     "text": [
      "C:\\Users\\Dipesh\\anaconda3\\lib\\site-packages\\seaborn\\_decorators.py:36: FutureWarning: Pass the following variables as keyword args: x, y. From version 0.12, the only valid positional argument will be `data`, and passing other arguments without an explicit keyword will result in an error or misinterpretation.\n",
      "  warnings.warn(\n"
     ]
    },
    {
     "data": {
      "text/plain": [
       "<AxesSubplot:xlabel='1Gender', ylabel='26Trust_part_of_the_transaction_time'>"
      ]
     },
     "execution_count": 33,
     "metadata": {},
     "output_type": "execute_result"
    },
    {
     "data": {
      "image/png": "[encoded data removed]",
      "text/plain": [
       "<Figure size 432x288 with 1 Axes>"
      ]
     },
     "metadata": {
      "needs_background": "light"
     },
     "output_type": "display_data"
    }
   ],
   "source": [
    " sns.stripplot(df['1Gender'] ,df['26Trust_part_of_the_transaction_time'])"
   ]
  },
  {
   "cell_type": "markdown",
   "id": "d8fbf9a4",
   "metadata": {},
   "source": [
    "##### All people both have mixed reviews but most of the part tend that they rust that the online retail store will fulfill its part of the transaction at the stipulated time."
   ]
  },
  {
   "cell_type": "code",
   "execution_count": 34,
   "id": "be64ef70",
   "metadata": {},
   "outputs": [
    {
     "data": {
      "text/plain": [
       "5    105\n",
       "4     85\n",
       "3     50\n",
       "1     18\n",
       "2     11\n",
       "Name: 30benefit_and_discounts, dtype: int64"
      ]
     },
     "execution_count": 34,
     "metadata": {},
     "output_type": "execute_result"
    }
   ],
   "source": [
    "df['30benefit_and_discounts'].value_counts()"
   ]
  },
  {
   "cell_type": "code",
   "execution_count": 35,
   "id": "91207a8b",
   "metadata": {
    "scrolled": true
   },
   "outputs": [
    {
     "name": "stderr",
     "output_type": "stream",
     "text": [
      "C:\\Users\\Dipesh\\anaconda3\\lib\\site-packages\\seaborn\\_decorators.py:36: FutureWarning: Pass the following variables as keyword args: x, y. From version 0.12, the only valid positional argument will be `data`, and passing other arguments without an explicit keyword will result in an error or misinterpretation.\n",
      "  warnings.warn(\n"
     ]
    },
    {
     "data": {
      "text/plain": [
       "<AxesSubplot:xlabel='1Gender', ylabel='30benefit_and_discounts'>"
      ]
     },
     "execution_count": 35,
     "metadata": {},
     "output_type": "execute_result"
    },
    {
     "data": {
      "image/png": "[encoded data removed]",
      "text/plain": [
       "<Figure size 432x288 with 1 Axes>"
      ]
     },
     "metadata": {
      "needs_background": "light"
     },
     "output_type": "display_data"
    }
   ],
   "source": [
    "sns.stripplot(df['1Gender'] ,df['30benefit_and_discounts'])"
   ]
  },
  {
   "cell_type": "markdown",
   "id": "bf56bc09",
   "metadata": {},
   "source": [
    "##### From the graph, we observe that almost all the females say that they agree that Online shopping gives monetary benefits and discounts but for males, we have mixed reviews."
   ]
  },
  {
   "cell_type": "code",
   "execution_count": 36,
   "id": "72f41f0d",
   "metadata": {
    "scrolled": true
   },
   "outputs": [
    {
     "name": "stderr",
     "output_type": "stream",
     "text": [
      "C:\\Users\\Dipesh\\anaconda3\\lib\\site-packages\\seaborn\\_decorators.py:36: FutureWarning: Pass the following variables as keyword args: x, y. From version 0.12, the only valid positional argument will be `data`, and passing other arguments without an explicit keyword will result in an error or misinterpretation.\n",
      "  warnings.warn(\n"
     ]
    },
    {
     "data": {
      "text/plain": [
       "<AxesSubplot:xlabel='33Return_and_replacement_policy', ylabel='3city '>"
      ]
     },
     "execution_count": 36,
     "metadata": {},
     "output_type": "execute_result"
    },
    {
     "data": {
      "image/png": "[encoded data removed]",
      "text/plain": [
       "<Figure size 432x288 with 1 Axes>"
      ]
     },
     "metadata": {
      "needs_background": "light"
     },
     "output_type": "display_data"
    }
   ],
   "source": [
    "sns.stripplot(df['33Return_and_replacement_policy'],df['3city '] ,size=5)"
   ]
  },
  {
   "cell_type": "markdown",
   "id": "9aa968d7",
   "metadata": {},
   "source": [
    "##### From the graph, we observe all the cities offers  Return and the replacement policy of the e-tailer is important for a purchase decision."
   ]
  },
  {
   "cell_type": "code",
   "execution_count": 37,
   "id": "3e3f9571",
   "metadata": {
    "scrolled": true
   },
   "outputs": [
    {
     "name": "stderr",
     "output_type": "stream",
     "text": [
      "C:\\Users\\Dipesh\\anaconda3\\lib\\site-packages\\seaborn\\_decorators.py:36: FutureWarning: Pass the following variables as keyword args: x, y. From version 0.12, the only valid positional argument will be `data`, and passing other arguments without an explicit keyword will result in an error or misinterpretation.\n",
      "  warnings.warn(\n"
     ]
    },
    {
     "data": {
      "text/plain": [
       "<AxesSubplot:xlabel='39Offering_a_wide_variety', ylabel='3city '>"
      ]
     },
     "execution_count": 37,
     "metadata": {},
     "output_type": "execute_result"
    },
    {
     "data": {
      "image/png": "[encoded data removed]",
      "text/plain": [
       "<Figure size 432x288 with 1 Axes>"
      ]
     },
     "metadata": {
      "needs_background": "light"
     },
     "output_type": "display_data"
    }
   ],
   "source": [
    "sns.stripplot(df['39Offering_a_wide_variety'],df['3city '] ,size=5)"
   ]
  },
  {
   "cell_type": "markdown",
   "id": "224d6f95",
   "metadata": {},
   "source": [
    "##### From the graph, we observe it is positive feedback that they offer a wide variety of listed products in several categories for both males and females."
   ]
  },
  {
   "cell_type": "code",
   "execution_count": 38,
   "id": "34799eb3",
   "metadata": {
    "scrolled": true
   },
   "outputs": [
    {
     "name": "stderr",
     "output_type": "stream",
     "text": [
      "C:\\Users\\Dipesh\\anaconda3\\lib\\site-packages\\seaborn\\_decorators.py:36: FutureWarning: Pass the following variables as keyword args: x, y. From version 0.12, the only valid positional argument will be `data`, and passing other arguments without an explicit keyword will result in an error or misinterpretation.\n",
      "  warnings.warn(\n"
     ]
    },
    {
     "data": {
      "text/plain": [
       "<AxesSubplot:xlabel='1Gender', ylabel='47value_for_money_spent'>"
      ]
     },
     "execution_count": 38,
     "metadata": {},
     "output_type": "execute_result"
    },
    {
     "data": {
      "image/png": "[encoded data removed]",
      "text/plain": [
       "<Figure size 432x288 with 1 Axes>"
      ]
     },
     "metadata": {
      "needs_background": "light"
     },
     "output_type": "display_data"
    }
   ],
   "source": [
    "sns.stripplot(df['1Gender'] ,df['47value_for_money_spent'],size=5)"
   ]
  },
  {
   "cell_type": "markdown",
   "id": "6aef331f",
   "metadata": {},
   "source": [
    "##### From the graph, we observe that only males agree with Getting value for money spent, but females strongly agree on a value for their products."
   ]
  },
  {
   "cell_type": "code",
   "execution_count": 39,
   "id": "12884ea0",
   "metadata": {},
   "outputs": [
    {
     "data": {
      "text/plain": [
       "array(['Snapdeal.com', 'Amazon.in, Flipkart.com, Myntra.com',\n",
       "       'Amazon.in, Paytm.com', 'Amazon.in, Flipkart.com, Snapdeal.com',\n",
       "       'Amazon.in',\n",
       "       'Amazon.in, Flipkart.com, Paytm.com, Myntra.com, Snapdeal.com',\n",
       "       'Amazon.in, Flipkart.com, Paytm.com',\n",
       "       'Amazon.in, Flipkart.com, Myntra.com, Snapdeal.com',\n",
       "       'Amazon.in, Flipkart.com', 'Flipkart.com'], dtype=object)"
      ]
     },
     "execution_count": 39,
     "metadata": {},
     "output_type": "execute_result"
    }
   ],
   "source": [
    "df['Fast loading website speed of website and application'].unique()"
   ]
  },
  {
   "cell_type": "code",
   "execution_count": 40,
   "id": "b860d66e",
   "metadata": {},
   "outputs": [],
   "source": [
    "from sklearn.preprocessing import LabelEncoder"
   ]
  },
  {
   "cell_type": "code",
   "execution_count": 41,
   "id": "b496075b",
   "metadata": {},
   "outputs": [],
   "source": [
    "lab_enc=LabelEncoder()"
   ]
  },
  {
   "cell_type": "code",
   "execution_count": 42,
   "id": "c6ef6547",
   "metadata": {},
   "outputs": [
    {
     "data": {
      "text/plain": [
       "0    9\n",
       "1    2\n",
       "2    7\n",
       "3    6\n",
       "4    0\n",
       "5    7\n",
       "6    5\n",
       "7    4\n",
       "8    3\n",
       "9    1\n",
       "dtype: int32"
      ]
     },
     "execution_count": 42,
     "metadata": {},
     "output_type": "execute_result"
    }
   ],
   "source": [
    "df2=lab_enc.fit_transform(df['Fast loading website speed of website and application'])\n",
    "pd.Series(df2)[:10]"
   ]
  },
  {
   "cell_type": "code",
   "execution_count": 43,
   "id": "12d7e4c6",
   "metadata": {},
   "outputs": [],
   "source": [
    "df['Fast loading website speed of website and application']=df2"
   ]
  },
  {
   "cell_type": "code",
   "execution_count": 44,
   "id": "26b2b7a9",
   "metadata": {},
   "outputs": [
    {
     "data": {
      "text/plain": [
       "array([9, 2, 7, 6, 0, 5, 4, 3, 1, 8])"
      ]
     },
     "execution_count": 44,
     "metadata": {},
     "output_type": "execute_result"
    }
   ],
   "source": [
    "df['Fast loading website speed of website and application'].unique()"
   ]
  },
  {
   "cell_type": "code",
   "execution_count": 45,
   "id": "3e02bcf9",
   "metadata": {},
   "outputs": [
    {
     "data": {
      "text/plain": [
       "array(['Amazon.in', 'Amazon.in, Flipkart.com',\n",
       "       'Amazon.in, Flipkart.com, Snapdeal.com',\n",
       "       'Flipkart.com, Myntra.com, Snapdeal.com',\n",
       "       'Amazon.in, Flipkart.com, Myntra.com', 'Flipkart.com'],\n",
       "      dtype=object)"
      ]
     },
     "execution_count": 45,
     "metadata": {},
     "output_type": "execute_result"
    }
   ],
   "source": [
    "df['Speedy order delivery '].unique()"
   ]
  },
  {
   "cell_type": "code",
   "execution_count": 46,
   "id": "9b930285",
   "metadata": {},
   "outputs": [
    {
     "data": {
      "text/plain": [
       "0     0\n",
       "1     1\n",
       "2     0\n",
       "3     3\n",
       "4     0\n",
       "5     0\n",
       "6     3\n",
       "7     0\n",
       "8     5\n",
       "9     1\n",
       "10    1\n",
       "11    1\n",
       "12    2\n",
       "13    1\n",
       "14    0\n",
       "dtype: int32"
      ]
     },
     "execution_count": 46,
     "metadata": {},
     "output_type": "execute_result"
    }
   ],
   "source": [
    "df5=lab_enc.fit_transform(df['Speedy order delivery '])\n",
    "pd.Series(df5)[:15]"
   ]
  },
  {
   "cell_type": "code",
   "execution_count": 47,
   "id": "ed7c2665",
   "metadata": {},
   "outputs": [],
   "source": [
    "df['Speedy order delivery ']=df5"
   ]
  },
  {
   "cell_type": "code",
   "execution_count": 48,
   "id": "c143ff90",
   "metadata": {},
   "outputs": [
    {
     "data": {
      "text/plain": [
       "array([0, 1, 3, 5, 2, 4])"
      ]
     },
     "execution_count": 48,
     "metadata": {},
     "output_type": "execute_result"
    }
   ],
   "source": [
    "df['Speedy order delivery '].unique()"
   ]
  },
  {
   "cell_type": "code",
   "execution_count": 49,
   "id": "ab37ba43",
   "metadata": {},
   "outputs": [
    {
     "data": {
      "text/html": [
       "<div>\n",
       "<style scoped>\n",
       "    .dataframe tbody tr th:only-of-type {\n",
       "        vertical-align: middle;\n",
       "    }\n",
       "\n",
       "    .dataframe tbody tr th {\n",
       "        vertical-align: top;\n",
       "    }\n",
       "\n",
       "    .dataframe thead th {\n",
       "        text-align: right;\n",
       "    }\n",
       "</style>\n",
       "<table border=\"1\" class=\"dataframe\">\n",
       "  <thead>\n",
       "    <tr style=\"text-align: right;\">\n",
       "      <th>1Gender</th>\n",
       "      <th>0</th>\n",
       "      <th>1</th>\n",
       "    </tr>\n",
       "    <tr>\n",
       "      <th>Fast loading website speed of website and application</th>\n",
       "      <th></th>\n",
       "      <th></th>\n",
       "    </tr>\n",
       "  </thead>\n",
       "  <tbody>\n",
       "    <tr>\n",
       "      <th>0</th>\n",
       "      <td>12.0</td>\n",
       "      <td>39.0</td>\n",
       "    </tr>\n",
       "    <tr>\n",
       "      <th>1</th>\n",
       "      <td>4.0</td>\n",
       "      <td>26.0</td>\n",
       "    </tr>\n",
       "    <tr>\n",
       "      <th>2</th>\n",
       "      <td>8.0</td>\n",
       "      <td>22.0</td>\n",
       "    </tr>\n",
       "    <tr>\n",
       "      <th>3</th>\n",
       "      <td>4.0</td>\n",
       "      <td>10.0</td>\n",
       "    </tr>\n",
       "    <tr>\n",
       "      <th>4</th>\n",
       "      <td>7.0</td>\n",
       "      <td>18.0</td>\n",
       "    </tr>\n",
       "    <tr>\n",
       "      <th>5</th>\n",
       "      <td>15.0</td>\n",
       "      <td>15.0</td>\n",
       "    </tr>\n",
       "    <tr>\n",
       "      <th>6</th>\n",
       "      <td>14.0</td>\n",
       "      <td>11.0</td>\n",
       "    </tr>\n",
       "    <tr>\n",
       "      <th>7</th>\n",
       "      <td>17.0</td>\n",
       "      <td>27.0</td>\n",
       "    </tr>\n",
       "    <tr>\n",
       "      <th>8</th>\n",
       "      <td>NaN</td>\n",
       "      <td>8.0</td>\n",
       "    </tr>\n",
       "    <tr>\n",
       "      <th>9</th>\n",
       "      <td>8.0</td>\n",
       "      <td>4.0</td>\n",
       "    </tr>\n",
       "  </tbody>\n",
       "</table>\n",
       "</div>"
      ],
      "text/plain": [
       "1Gender                                                0     1\n",
       "Fast loading website speed of website and appli...            \n",
       "0                                                   12.0  39.0\n",
       "1                                                    4.0  26.0\n",
       "2                                                    8.0  22.0\n",
       "3                                                    4.0  10.0\n",
       "4                                                    7.0  18.0\n",
       "5                                                   15.0  15.0\n",
       "6                                                   14.0  11.0\n",
       "7                                                   17.0  27.0\n",
       "8                                                    NaN   8.0\n",
       "9                                                    8.0   4.0"
      ]
     },
     "execution_count": 49,
     "metadata": {},
     "output_type": "execute_result"
    }
   ],
   "source": [
    "df.pivot_table('4Pin Code',index='Fast loading website speed of website and application',columns='1Gender',aggfunc='count')"
   ]
  },
  {
   "cell_type": "code",
   "execution_count": 63,
   "id": "38c88d9f",
   "metadata": {},
   "outputs": [
    {
     "data": {
      "image/png": "[encoded data removed]",
      "text/plain": [
       "<Figure size 432x288 with 1 Axes>"
      ]
     },
     "metadata": {
      "needs_background": "light"
     },
     "output_type": "display_data"
    }
   ],
   "source": [
    "# create data\n",
    "x = [ '0','1','2', '3','4','5','6','7','8','9']\n",
    "y1 = np.array([51,30,30,14,25,30,25,44,8,12])\n",
    "\n",
    "# plot bars in stack manner\n",
    "plt.bar(x, y1, color='r')\n",
    "\n",
    "plt.xlabel('fast Loading of website')\n",
    "plt.ylabel(\"Count\")\n",
    "plt.title(\"loading time\")\n",
    "plt.show()\n"
   ]
  },
  {
   "cell_type": "markdown",
   "id": "e22684a3",
   "metadata": {},
   "source": [
    "##### Web page loading time\n",
    "* From the graph, we observe the mostly used site are 0,7 due to their fast loading.\n",
    "* From the graph, we observe that the moderate use of the site is 1,2,4,5,6 due to their load time.\n",
    "* From the graph, we observe that the least use of the site is 3,9,8 due to their load slow loading time of the site.\n"
   ]
  },
  {
   "cell_type": "code",
   "execution_count": 51,
   "id": "4aa097e7",
   "metadata": {},
   "outputs": [
    {
     "data": {
      "text/html": [
       "<div>\n",
       "<style scoped>\n",
       "    .dataframe tbody tr th:only-of-type {\n",
       "        vertical-align: middle;\n",
       "    }\n",
       "\n",
       "    .dataframe tbody tr th {\n",
       "        vertical-align: top;\n",
       "    }\n",
       "\n",
       "    .dataframe thead th {\n",
       "        text-align: right;\n",
       "    }\n",
       "</style>\n",
       "<table border=\"1\" class=\"dataframe\">\n",
       "  <thead>\n",
       "    <tr style=\"text-align: right;\">\n",
       "      <th>1Gender</th>\n",
       "      <th>0</th>\n",
       "      <th>1</th>\n",
       "    </tr>\n",
       "    <tr>\n",
       "      <th>Speedy order delivery</th>\n",
       "      <th></th>\n",
       "      <th></th>\n",
       "    </tr>\n",
       "  </thead>\n",
       "  <tbody>\n",
       "    <tr>\n",
       "      <th>0</th>\n",
       "      <td>31</td>\n",
       "      <td>76</td>\n",
       "    </tr>\n",
       "    <tr>\n",
       "      <th>1</th>\n",
       "      <td>26</td>\n",
       "      <td>56</td>\n",
       "    </tr>\n",
       "    <tr>\n",
       "      <th>2</th>\n",
       "      <td>1</td>\n",
       "      <td>14</td>\n",
       "    </tr>\n",
       "    <tr>\n",
       "      <th>3</th>\n",
       "      <td>24</td>\n",
       "      <td>12</td>\n",
       "    </tr>\n",
       "    <tr>\n",
       "      <th>4</th>\n",
       "      <td>3</td>\n",
       "      <td>12</td>\n",
       "    </tr>\n",
       "    <tr>\n",
       "      <th>5</th>\n",
       "      <td>4</td>\n",
       "      <td>10</td>\n",
       "    </tr>\n",
       "  </tbody>\n",
       "</table>\n",
       "</div>"
      ],
      "text/plain": [
       "1Gender                  0   1\n",
       "Speedy order delivery         \n",
       "0                       31  76\n",
       "1                       26  56\n",
       "2                        1  14\n",
       "3                       24  12\n",
       "4                        3  12\n",
       "5                        4  10"
      ]
     },
     "execution_count": 51,
     "metadata": {},
     "output_type": "execute_result"
    }
   ],
   "source": [
    "df.pivot_table('4Pin Code',index='Speedy order delivery ',columns='1Gender',aggfunc='count')"
   ]
  },
  {
   "cell_type": "code",
   "execution_count": 64,
   "id": "d5ed092a",
   "metadata": {
    "scrolled": true
   },
   "outputs": [
    {
     "data": {
      "image/png": "[encoded data removed]",
      "text/plain": [
       "<Figure size 432x288 with 1 Axes>"
      ]
     },
     "metadata": {
      "needs_background": "light"
     },
     "output_type": "display_data"
    }
   ],
   "source": [
    "# create data\n",
    "x = [ '0','1','2', '3','4','5']\n",
    "y1 = np.array([107,82,15,36,15,14])\n",
    "\n",
    "# plot bars in stack manner\n",
    "plt.bar(x, y1, color='r')\n",
    "\n",
    "plt.xlabel('Speedy order delivery')\n",
    "plt.ylabel(\"Count\")\n",
    "plt.title(\"Website VS Delivery Time\")\n",
    "plt.show()\n"
   ]
  },
  {
   "cell_type": "markdown",
   "id": "db2c5fea",
   "metadata": {},
   "source": [
    "##### Speed delivery from site\n",
    "* From the graph, we observe that sites 0,1 provide great delivery in time or delivery time is less as compared to other sites.\n",
    "* From the graph, we observe that site 3 delivery time is moderate.\n",
    "* From the graph, we observe that site 2,4,5 their or delivery time is more as compared to other sites.\n"
   ]
  },
  {
   "cell_type": "markdown",
   "id": "fe36ed76",
   "metadata": {},
   "source": [
    "## Hedonistic Values\n",
    "1 Gratification\n",
    "2 Role\n",
    "3 Best Deals\n",
    "4 Social\n",
    "5 Adventure"
   ]
  },
  {
   "cell_type": "code",
   "execution_count": 53,
   "id": "d3148805",
   "metadata": {},
   "outputs": [
    {
     "data": {
      "text/plain": [
       "4    101\n",
       "3     59\n",
       "5     54\n",
       "2     50\n",
       "1      5\n",
       "Name: 43sense_of_adventure, dtype: int64"
      ]
     },
     "execution_count": 53,
     "metadata": {},
     "output_type": "execute_result"
    }
   ],
   "source": [
    "df['43sense_of_adventure'].value_counts()"
   ]
  },
  {
   "cell_type": "markdown",
   "id": "0d932484",
   "metadata": {},
   "source": [
    "##### From the value counts of (Shopping on the website gives you a sense of adventure) 155 people agree for that shopping on the website gives you a sense of advantage, we can retain them but there are 59 pople also we whose say it is indifferent we cannot say anything about them but there are 55 people also who disagree we cant retained them."
   ]
  },
  {
   "cell_type": "code",
   "execution_count": 54,
   "id": "456aefe0",
   "metadata": {
    "scrolled": true
   },
   "outputs": [
    {
     "data": {
      "text/plain": [
       "3    100\n",
       "4     59\n",
       "5     48\n",
       "1     33\n",
       "2     29\n",
       "Name: 44social_status, dtype: int64"
      ]
     },
     "execution_count": 54,
     "metadata": {},
     "output_type": "execute_result"
    }
   ],
   "source": [
    "df['44social_status'].value_counts()"
   ]
  },
  {
   "cell_type": "markdown",
   "id": "dd8be15b",
   "metadata": {},
   "source": [
    "##### From the value counts of (Shopping on your preferred e-tailer enhances your social status), 107 people agree for that shopping on your preferred e-tailer enhances your social status we can retain them but there are 100 people also we whose say it is indifferent we cannot say anything about them but there are 62 people also who disagree we cant retained them."
   ]
  },
  {
   "cell_type": "code",
   "execution_count": 55,
   "id": "1cc5be6e",
   "metadata": {},
   "outputs": [
    {
     "data": {
      "text/plain": [
       "3    101\n",
       "5     65\n",
       "4     63\n",
       "2     22\n",
       "1     18\n",
       "Name: 45_You_feel_gratification_shopping, dtype: int64"
      ]
     },
     "execution_count": 55,
     "metadata": {},
     "output_type": "execute_result"
    }
   ],
   "source": [
    "df['45_You_feel_gratification_shopping'].value_counts()"
   ]
  },
  {
   "cell_type": "markdown",
   "id": "c3a15db1",
   "metadata": {},
   "source": [
    "##### From the value counts for (You feel gratification shopping on your favorite e-tailer), 128 people agree for they feel gratification shopping on your favorite e-tailer, we can retain but there are 101 people also we whose say it is indifferent we cannot say anything about them but there are 40 people also who disagree we cant retained them."
   ]
  },
  {
   "cell_type": "code",
   "execution_count": 56,
   "id": "205f5b3d",
   "metadata": {},
   "outputs": [
    {
     "data": {
      "text/plain": [
       "4    88\n",
       "3    88\n",
       "5    38\n",
       "1    33\n",
       "2    22\n",
       "Name: 46website_help_you_fulfill_certain_roles, dtype: int64"
      ]
     },
     "execution_count": 56,
     "metadata": {},
     "output_type": "execute_result"
    }
   ],
   "source": [
    "df['46website_help_you_fulfill_certain_roles'].value_counts()"
   ]
  },
  {
   "cell_type": "markdown",
   "id": "88c654b9",
   "metadata": {},
   "source": [
    "##### From the value counts for (Shopping on the website helps you fulfill certain roles), 126 people agree for shopping on the website helps you fulfill certain roles, we can retain them but there are 88 people also we whose say it is indifferent we cannot say anything about them, but there are 55 people also who disagree we cant retained them."
   ]
  },
  {
   "cell_type": "code",
   "execution_count": 57,
   "id": "f8660d7f",
   "metadata": {
    "scrolled": true
   },
   "outputs": [
    {
     "data": {
      "text/plain": [
       "4    149\n",
       "5     82\n",
       "3     38\n",
       "Name: 47value_for_money_spent, dtype: int64"
      ]
     },
     "execution_count": 57,
     "metadata": {},
     "output_type": "execute_result"
    }
   ],
   "source": [
    "df['47value_for_money_spent'].value_counts()"
   ]
  },
  {
   "cell_type": "markdown",
   "id": "e2e50ecb",
   "metadata": {},
   "source": [
    "##### From the value counts for (Getting value for money spent), 231 people strongly agree with shopping on the website Getting value for money spent, we can retain them but there are 38 people also we whose say it is indifferent we cannot say anything about them."
   ]
  },
  {
   "cell_type": "markdown",
   "id": "b6156362",
   "metadata": {},
   "source": [
    "## Utilitarian Value \n",
    "1 Products Offerings\n",
    "2 Convenience\n",
    "3 Product Information\n",
    "4 Monetary Saving"
   ]
  },
  {
   "cell_type": "code",
   "execution_count": 58,
   "id": "07dcc3f4",
   "metadata": {},
   "outputs": [
    {
     "data": {
      "text/plain": [
       "5    111\n",
       "4     94\n",
       "3     57\n",
       "2      7\n",
       "Name: 39Offering_a_wide_variety, dtype: int64"
      ]
     },
     "execution_count": 58,
     "metadata": {},
     "output_type": "execute_result"
    }
   ],
   "source": [
    "df['39Offering_a_wide_variety'].value_counts()"
   ]
  },
  {
   "cell_type": "markdown",
   "id": "1146ce9d",
   "metadata": {},
   "source": [
    "##### From the value counts for (Offering a wide variety of listed products in several categories), 205 people strongly agree with Offering a wide variety of listed products in several categories, we can retain them but there are 57 people also who say it is indifferent we cannot say anything about them, but there are 7 people who disagree we cannot retain them."
   ]
  },
  {
   "cell_type": "code",
   "execution_count": 59,
   "id": "91114948",
   "metadata": {},
   "outputs": [
    {
     "data": {
      "text/plain": [
       "5    135\n",
       "4     98\n",
       "3     31\n",
       "2      5\n",
       "Name: 40complete_and_relevant_product_information, dtype: int64"
      ]
     },
     "execution_count": 59,
     "metadata": {},
     "output_type": "execute_result"
    }
   ],
   "source": [
    "df['40complete_and_relevant_product_information'].value_counts()"
   ]
  },
  {
   "cell_type": "markdown",
   "id": "f4e0eab0",
   "metadata": {},
   "source": [
    "##### From the value counts for (Provision of complete and relevant product information), 233 people strongly agree with Provision of complete and relevant product information, we can retain them but there are 31 people also who say it is indifferent we cannot say anything about them, but there are 5 people who disagree we cannot retain them."
   ]
  },
  {
   "cell_type": "code",
   "execution_count": 60,
   "id": "83d5bd74",
   "metadata": {},
   "outputs": [
    {
     "data": {
      "text/plain": [
       "5    148\n",
       "4     75\n",
       "2     31\n",
       "3     15\n",
       "Name: 41Monetary_savings, dtype: int64"
      ]
     },
     "execution_count": 60,
     "metadata": {},
     "output_type": "execute_result"
    }
   ],
   "source": [
    "df['41Monetary_savings'].value_counts()"
   ]
  },
  {
   "cell_type": "markdown",
   "id": "9054a090",
   "metadata": {},
   "source": [
    "##### From the value counts for (Monetary savings), 223 people strongly agree with Monetary savings, we can retain them but there are 15 people also who say it is indifferent we cannot say anything about them, but there are 31 people who disagree we cannot retain them."
   ]
  },
  {
   "cell_type": "code",
   "execution_count": 61,
   "id": "15a0765c",
   "metadata": {},
   "outputs": [
    {
     "data": {
      "text/plain": [
       "4    138\n",
       "3     77\n",
       "5     54\n",
       "Name: 42The_Convenience_of_patronizing, dtype: int64"
      ]
     },
     "execution_count": 61,
     "metadata": {},
     "output_type": "execute_result"
    }
   ],
   "source": [
    "df['42The_Convenience_of_patronizing'].value_counts()"
   ]
  },
  {
   "cell_type": "markdown",
   "id": "c2533c5c",
   "metadata": {},
   "source": [
    "##### From the value counts for (The Convenience of patronizing the online retailer), 192 people strongly agree with The Convenience of patronizing the online retailer, we can retain them but there are 77 people also who say it is indifferent we cannot say anything about them."
   ]
  },
  {
   "cell_type": "code",
   "execution_count": null,
   "id": "f88d3b1b",
   "metadata": {},
   "outputs": [],
   "source": []
  },
  {
   "cell_type": "code",
   "execution_count": null,
   "id": "49c86c38",
   "metadata": {},
   "outputs": [],
   "source": []
  },
  {
   "cell_type": "markdown",
   "id": "22be4651",
   "metadata": {},
   "source": [
    "## Conclusion\n",
    "\n",
    "1] From the above analysis showcased using charts and value counts we can observe that based on the hedonistic and Ultirian values most of the people are satisfied with the service provided by their respective service providers \n",
    "\n",
    "2] In addition to this there are few people for which the services do not matter as such and only fewer customers which are not satisfied with their respective services. \n",
    "\n",
    "3] So we can conclude that based on the factors analysed in the above analysis customers are satisfied and can be retained"
   ]
  },
  {
   "cell_type": "code",
   "execution_count": null,
   "id": "1b023a5e",
   "metadata": {},
   "outputs": [],
   "source": []
  }
 ],
 "metadata": {
  "kernelspec": {
   "display_name": "Python 3 (ipykernel)",
   "language": "python",
   "name": "python3"
  },
  "language_info": {
   "codemirror_mode": {
    "name": "ipython",
    "version": 3
   },
   "file_extension": ".py",
   "mimetype": "text/x-python",
   "name": "python",
   "nbconvert_exporter": "python",
   "pygments_lexer": "ipython3",
   "version": "3.9.7"
  }
 },
 "nbformat": 4,
 "nbformat_minor": 5
}
