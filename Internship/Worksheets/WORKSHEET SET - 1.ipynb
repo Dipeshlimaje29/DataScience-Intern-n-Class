{
 "cells": [
  {
   "cell_type": "code",
   "execution_count": 1,
   "id": "be57c6a8",
   "metadata": {},
   "outputs": [
    {
     "name": "stdout",
     "output_type": "stream",
     "text": [
      "Enter a positive number: 86\n",
      "The Factorail of  86 is 24227095383672732381765523203441259715284870552429381750838764496720162249742450276789464634901319465571660595200000000000000000000\n"
     ]
    }
   ],
   "source": [
    "# Write a python program to find the factorial of a number.\n",
    "\n",
    "num = int(input('Enter a positive number: '))    # to take input from user\n",
    "\n",
    "factorial = 1\n",
    "\n",
    "if num<0:                                                        # to check the number is positive only\n",
    "    print('We cannot give factorial for Negative Numbers')\n",
    "    \n",
    "elif num==0 or num==1:\n",
    "    print ('The factorial of o is 1')\n",
    "    \n",
    "else:\n",
    "    for i in range(1,num+1):\n",
    "        \n",
    "        factorial =factorial *i\n",
    "    print('The Factorail of ' , num , 'is' , factorial)"
   ]
  },
  {
   "cell_type": "code",
   "execution_count": 2,
   "id": "1078f2f8",
   "metadata": {},
   "outputs": [
    {
     "name": "stdout",
     "output_type": "stream",
     "text": [
      "Enter a number greater than 2:85\n",
      "85 it is not a Prime Number\n"
     ]
    }
   ],
   "source": [
    "#Write a python program to find whether a number is prime or composite.\n",
    "num = int(input('Enter a number greater than 2:'))\n",
    "\n",
    "# check if number is greater than 1\n",
    "if num > 1:\n",
    "    \n",
    "    for i in range(2, num):                  # check if factor exist\n",
    "        if (num % i) == 0:\n",
    "            print (num , 'it is not a Prime Number')\n",
    "            break\n",
    "    else:\n",
    "        print(num , 'it is a Prime Number')\n",
    "\n",
    "else:                                        # if number is less than one\n",
    "    print (num, 'it is not a prime Numberr')"
   ]
  },
  {
   "cell_type": "code",
   "execution_count": 4,
   "id": "d1767fb3",
   "metadata": {},
   "outputs": [
    {
     "name": "stdout",
     "output_type": "stream",
     "text": [
      "Enter a word: malayalam\n",
      "The word is palindrome\n"
     ]
    }
   ],
   "source": [
    "# Write a python program to check whether a given string is palindrome or not.\n",
    "\n",
    "# palindrome is if revere string is equal to original string\n",
    "\n",
    "word = input('Enter a word: ')\n",
    "def isPalindrome(word):\n",
    "    return word == word[::-1]\n",
    "\n",
    "\n",
    "check = isPalindrome(word)\n",
    "\n",
    "if check:\n",
    "    print ('The word is palindrome')\n",
    "    \n",
    "else:\n",
    "    print('The word is not a palindrome')"
   ]
  },
  {
   "cell_type": "code",
   "execution_count": 6,
   "id": "a968a1a1",
   "metadata": {},
   "outputs": [
    {
     "name": "stdout",
     "output_type": "stream",
     "text": [
      "Give a side a : 4\n",
      "Give a side b : 3\n",
      "The length of the hypotenuse c is 5.0\n"
     ]
    }
   ],
   "source": [
    "#Write a Python program to get the third side of right-angled triangle from two given sides.\n",
    "import math\n",
    "\n",
    "a=float(input('Give a side a : '))\n",
    "b=float(input('Give a side b : '))\n",
    "\n",
    "c=math.sqrt(a**2 + b**2)\n",
    "print(f'The length of the hypotenuse c is {c}')"
   ]
  },
  {
   "cell_type": "code",
   "execution_count": 7,
   "id": "4e753daf",
   "metadata": {},
   "outputs": [
    {
     "name": "stdout",
     "output_type": "stream",
     "text": [
      "Counter({'e': 3, 'i': 2, 's': 2, 'h': 2, ' ': 2, 'a': 2, 'm': 2, 'D': 1, 'p': 1, 'R': 1, 'L': 1, 'j': 1})\n"
     ]
    }
   ],
   "source": [
    "# Write a python program to print the frequency of each of the characters present in a given string.\n",
    "from collections import Counter\n",
    "\n",
    "string = 'Dipesh Ramesh Limaje'\n",
    "\n",
    "characters = Counter(string)\n",
    "\n",
    "print(characters)"
   ]
  }
 ],
 "metadata": {
  "kernelspec": {
   "display_name": "Python 3 (ipykernel)",
   "language": "python",
   "name": "python3"
  },
  "language_info": {
   "codemirror_mode": {
    "name": "ipython",
    "version": 3
   },
   "file_extension": ".py",
   "mimetype": "text/x-python",
   "name": "python",
   "nbconvert_exporter": "python",
   "pygments_lexer": "ipython3",
   "version": "3.9.7"
  }
 },
 "nbformat": 4,
 "nbformat_minor": 5
}
