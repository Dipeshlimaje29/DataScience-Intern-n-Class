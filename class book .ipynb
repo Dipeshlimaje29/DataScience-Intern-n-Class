{
 "cells": [
  {
   "cell_type": "code",
   "execution_count": 1,
   "id": "9b10639f",
   "metadata": {},
   "outputs": [
    {
     "name": "stdout",
     "output_type": "stream",
     "text": [
      "Hello World\n"
     ]
    }
   ],
   "source": [
    "print('Hello World')"
   ]
  },
  {
   "cell_type": "code",
   "execution_count": 2,
   "id": "7122233e",
   "metadata": {},
   "outputs": [
    {
     "name": "stdout",
     "output_type": "stream",
     "text": [
      "Dipesh Ramesh Limaje\n"
     ]
    }
   ],
   "source": [
    "print('Dipesh Ramesh Limaje')"
   ]
  },
  {
   "cell_type": "code",
   "execution_count": 5,
   "id": "356d3949",
   "metadata": {},
   "outputs": [
    {
     "name": "stdout",
     "output_type": "stream",
     "text": [
      "Abhilasha\n"
     ]
    }
   ],
   "source": [
    "print('Abhilasha')"
   ]
  },
  {
   "cell_type": "code",
   "execution_count": 6,
   "id": "74f9214e",
   "metadata": {},
   "outputs": [
    {
     "name": "stdout",
     "output_type": "stream",
     "text": [
      "23\n",
      "Dipesh\n"
     ]
    }
   ],
   "source": [
    "x=23\n",
    "y='Dipesh'\n",
    "print(x)\n",
    "print(y)"
   ]
  },
  {
   "cell_type": "code",
   "execution_count": 7,
   "id": "d22932e8",
   "metadata": {},
   "outputs": [
    {
     "name": "stdout",
     "output_type": "stream",
     "text": [
      "23 Dipesh\n"
     ]
    }
   ],
   "source": [
    "print(x,y)"
   ]
  },
  {
   "cell_type": "code",
   "execution_count": 8,
   "id": "270eb8ff",
   "metadata": {},
   "outputs": [
    {
     "name": "stdout",
     "output_type": "stream",
     "text": [
      "the value of x and y is = 23 Dipesh\n"
     ]
    }
   ],
   "source": [
    "print('the value of x and y is =' ,x,y)"
   ]
  },
  {
   "cell_type": "code",
   "execution_count": 10,
   "id": "52484346",
   "metadata": {},
   "outputs": [
    {
     "name": "stdout",
     "output_type": "stream",
     "text": [
      "the value of x is 23 and y is Dipesh\n"
     ]
    }
   ],
   "source": [
    "print('the value of x is',x, 'and y is',y)"
   ]
  },
  {
   "cell_type": "code",
   "execution_count": 11,
   "id": "3a70ba5c",
   "metadata": {},
   "outputs": [
    {
     "name": "stdout",
     "output_type": "stream",
     "text": [
      "<class 'int'>\n"
     ]
    }
   ],
   "source": [
    "print(type(x))"
   ]
  },
  {
   "cell_type": "code",
   "execution_count": 12,
   "id": "4734518c",
   "metadata": {},
   "outputs": [
    {
     "name": "stdout",
     "output_type": "stream",
     "text": [
      "<class 'str'>\n"
     ]
    }
   ],
   "source": [
    "print(type(y))"
   ]
  },
  {
   "cell_type": "code",
   "execution_count": 13,
   "id": "2211b65f",
   "metadata": {},
   "outputs": [],
   "source": [
    "z=10.5"
   ]
  },
  {
   "cell_type": "code",
   "execution_count": 14,
   "id": "d55ebcac",
   "metadata": {},
   "outputs": [
    {
     "name": "stdout",
     "output_type": "stream",
     "text": [
      "<class 'float'>\n"
     ]
    }
   ],
   "source": [
    "print(type(z))"
   ]
  },
  {
   "cell_type": "code",
   "execution_count": 15,
   "id": "90b32f54",
   "metadata": {},
   "outputs": [
    {
     "name": "stdout",
     "output_type": "stream",
     "text": [
      "<class 'bool'>\n"
     ]
    }
   ],
   "source": [
    "t=True\n",
    "print(type(t\n",
    "          ))"
   ]
  },
  {
   "cell_type": "raw",
   "id": "41814e55",
   "metadata": {},
   "source": []
  },
  {
   "cell_type": "code",
   "execution_count": 16,
   "id": "b218bca4",
   "metadata": {},
   "outputs": [
    {
     "name": "stdout",
     "output_type": "stream",
     "text": [
      "<class 'tuple'>\n"
     ]
    }
   ],
   "source": [
    "r=(19,22)\n",
    "print(type(r\n",
    "          ))"
   ]
  },
  {
   "cell_type": "code",
   "execution_count": 17,
   "id": "8a5f0ae5",
   "metadata": {},
   "outputs": [
    {
     "name": "stdout",
     "output_type": "stream",
     "text": [
      "(19, 22)\n"
     ]
    }
   ],
   "source": [
    "print(r\n",
    "     )"
   ]
  },
  {
   "cell_type": "code",
   "execution_count": null,
   "id": "d63050c4",
   "metadata": {},
   "outputs": [],
   "source": []
  }
 ],
 "metadata": {
  "kernelspec": {
   "display_name": "Python 3 (ipykernel)",
   "language": "python",
   "name": "python3"
  },
  "language_info": {
   "codemirror_mode": {
    "name": "ipython",
    "version": 3
   },
   "file_extension": ".py",
   "mimetype": "text/x-python",
   "name": "python",
   "nbconvert_exporter": "python",
   "pygments_lexer": "ipython3",
   "version": "3.9.7"
  }
 },
 "nbformat": 4,
 "nbformat_minor": 5
}
