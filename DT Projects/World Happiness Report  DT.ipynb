{
 "cells": [
  {
   "cell_type": "markdown",
   "id": "8165cc19",
   "metadata": {},
   "source": [
    "# we need to predict the happiness score considering all the other factors mentioned in the dataset"
   ]
  },
  {
   "cell_type": "markdown",
   "id": "0c4d1ee5",
   "metadata": {},
   "source": [
    "## LinearRegressionModel"
   ]
  },
  {
   "cell_type": "code",
   "execution_count": null,
   "id": "082c0e71",
   "metadata": {},
   "outputs": [],
   "source": [
    "#lets import necessary library\n",
    "import pandas as pd\n",
    "import numpy as np\n",
    "import matplotlib.pyplot as plt\n",
    "import seaborn as sns\n",
    "import pickle\n",
    "from sklearn.preprocessing import StandardScaler\n",
    "from sklearn.linear_model import LinearRegression\n",
    "from sklearn.model_selection import train_test_split\n",
    "\n",
    "import warnings\n",
    "warnings.filterwarnings('ignore')"
   ]
  },
  {
   "cell_type": "code",
   "execution_count": null,
   "id": "3a120ef5",
   "metadata": {},
   "outputs": [],
   "source": [
    "#read csv file\n",
    "data = pd.read_csv('happiness_score_dataset.csv')\n",
    "data.head()"
   ]
  },
  {
   "cell_type": "code",
   "execution_count": null,
   "id": "bd020100",
   "metadata": {},
   "outputs": [],
   "source": [
    "#check columns\n",
    "data.columns"
   ]
  },
  {
   "cell_type": "code",
   "execution_count": null,
   "id": "7322cedc",
   "metadata": {},
   "outputs": [],
   "source": [
    "# how big is the dataset\n",
    "data.shape"
   ]
  },
  {
   "cell_type": "code",
   "execution_count": null,
   "id": "1b4e9042",
   "metadata": {},
   "outputs": [],
   "source": [
    "# check the null values\n",
    "data.isnull().sum()"
   ]
  },
  {
   "cell_type": "code",
   "execution_count": null,
   "id": "65077756",
   "metadata": {},
   "outputs": [],
   "source": [
    "# statistics of the dataset\n",
    "data.describe()"
   ]
  },
  {
   "cell_type": "code",
   "execution_count": null,
   "id": "c7f66f6f",
   "metadata": {},
   "outputs": [],
   "source": [
    "# Documentation\n",
    "#1) there is no null values\n",
    "#2) after looking into all the data i think its ok \n",
    "#3) i will remove happiness rank column because it is useless and it act like a numbering to row\n"
   ]
  },
  {
   "cell_type": "code",
   "execution_count": null,
   "id": "00dfb333",
   "metadata": {},
   "outputs": [],
   "source": [
    "#spliting the data into dependent variable and independent variable\n",
    "X=data.drop(columns=['Country', 'Region', 'Happiness Rank', 'Happiness Score'],axis=1)\n",
    "y=data['Happiness Score']"
   ]
  },
  {
   "cell_type": "code",
   "execution_count": null,
   "id": "3bebdcd0",
   "metadata": {},
   "outputs": [],
   "source": [
    "# lets see how data is distributed\n",
    "plt.figure(figsize=(20,25) , facecolor='yellow')\n",
    "plotnumber = 1\n",
    "\n",
    "for column in X:\n",
    "    \n",
    "    if plotnumber <= 9:\n",
    "        ax=plt.subplot(3,3,plotnumber)\n",
    "        sns.distplot(data[column])\n",
    "        plt.xlabel(column , fontsize=10)\n",
    "        \n",
    "    plotnumber += 1\n",
    "plt.show()"
   ]
  },
  {
   "cell_type": "code",
   "execution_count": null,
   "id": "2951dafb",
   "metadata": {},
   "outputs": [],
   "source": [
    "#skewness in terms of number\n",
    "X.skew().sort_values(ascending=False)"
   ]
  },
  {
   "cell_type": "code",
   "execution_count": null,
   "id": "2c673ae4",
   "metadata": {},
   "outputs": [],
   "source": [
    "#applying Power Transformation beacuse our dataset is small and we want to keep outlier\n",
    "from sklearn.preprocessing import power_transform , PowerTransformer\n",
    "pt=PowerTransformer()"
   ]
  },
  {
   "cell_type": "code",
   "execution_count": null,
   "id": "dde4dafa",
   "metadata": {},
   "outputs": [],
   "source": [
    "#transformed data\n",
    "X_scaled=pt.fit_transform(X)\n",
    "X_scaled"
   ]
  },
  {
   "cell_type": "code",
   "execution_count": null,
   "id": "248d6e43",
   "metadata": {},
   "outputs": [],
   "source": [
    "#again checking the skewness\n",
    "pd.DataFrame(X_scaled,columns=X.columns).skew().sort_values(ascending=False)"
   ]
  },
  {
   "cell_type": "code",
   "execution_count": null,
   "id": "3bf2ffa1",
   "metadata": {},
   "outputs": [],
   "source": [
    "#we will convert numpy array into dataframe\n",
    "X_new=pd.DataFrame(X_scaled,columns=X.columns)"
   ]
  },
  {
   "cell_type": "code",
   "execution_count": null,
   "id": "ff05607a",
   "metadata": {},
   "outputs": [],
   "source": [
    "X_new.skew().sort_values(ascending=False)"
   ]
  },
  {
   "cell_type": "code",
   "execution_count": null,
   "id": "f9de5704",
   "metadata": {},
   "outputs": [],
   "source": [
    "#y=data['Happiness Score']"
   ]
  },
  {
   "cell_type": "code",
   "execution_count": null,
   "id": "02af2667",
   "metadata": {},
   "outputs": [],
   "source": [
    "#Best Random State\n",
    "MaxAccu=0\n",
    "MaxRS=0\n",
    "\n",
    "for i in range (0,11):\n",
    "    X_train,X_test,y_train,y_test=train_test_split(X_new,y,test_size=0.25,random_state=i)\n",
    "    regression=LinearRegression()\n",
    "    regression.fit(X_train,y_train)\n",
    "    \n",
    "    pred=regression.predict(X_train)\n",
    "    training=regression.score(X_train,y_train)\n",
    "    print ('Training Score' , training , 'RandomState' ,i)\n",
    "    \n",
    "    y_pred=regression.predict(X_test)\n",
    "    testing=regression.score(X_test,y_test)\n",
    "    print ('Testing Score' , testing , 'RandomState' ,i)\n",
    "    print('\\n')\n",
    "    \n",
    "    \n",
    "    if testing>MaxAccu:\n",
    "        MaxAccu=testing\n",
    "        MaxRS=i\n",
    "        print('MAXINING TESTING SCORE' , MaxAccu , 'ON RANDOM STATE OF' , i)\n",
    "        "
   ]
  },
  {
   "cell_type": "code",
   "execution_count": null,
   "id": "ac33d418",
   "metadata": {},
   "outputs": [],
   "source": [
    "print('Best Accuracy is ' , MaxAccu , 'On Random State' , MaxRS)"
   ]
  },
  {
   "cell_type": "code",
   "execution_count": null,
   "id": "88eeeeb8",
   "metadata": {},
   "outputs": [],
   "source": [
    "#splliting our data into train test split and randomstate 6\n",
    "X_train,X_test,y_train,y_test=train_test_split(X_new,y,test_size=0.25,random_state=6)"
   ]
  },
  {
   "cell_type": "code",
   "execution_count": null,
   "id": "eabfe5e1",
   "metadata": {},
   "outputs": [],
   "source": [
    "#Training the data on Linear Regression Model\n",
    "regression=LinearRegression()\n",
    "regression.fit(X_train,y_train)"
   ]
  },
  {
   "cell_type": "code",
   "execution_count": null,
   "id": "644ff777",
   "metadata": {},
   "outputs": [],
   "source": [
    "#training score\n",
    "regression.score(X_train,y_train)  "
   ]
  },
  {
   "cell_type": "code",
   "execution_count": null,
   "id": "75714a64",
   "metadata": {},
   "outputs": [],
   "source": [
    "#testing score\n",
    "regression.score(X_test,y_test)      "
   ]
  },
  {
   "cell_type": "code",
   "execution_count": null,
   "id": "5e326482",
   "metadata": {},
   "outputs": [],
   "source": [
    "y_pred=regression.predict(X_test)\n",
    "y_pred"
   ]
  },
  {
   "cell_type": "code",
   "execution_count": null,
   "id": "b104bf1f",
   "metadata": {},
   "outputs": [],
   "source": [
    "# how our pred vs actual look like in graph \n",
    "plt.scatter(y_test , y_pred)\n",
    "plt.xlabel('Actual happiness score')\n",
    "plt.ylabel('Predicted happiness score')\n",
    "plt.title('Actual VS Model Prediction')\n",
    "plt.show()"
   ]
  },
  {
   "cell_type": "code",
   "execution_count": null,
   "id": "c564ee69",
   "metadata": {},
   "outputs": [],
   "source": [
    "#error in terms of numbers\n",
    "from sklearn.metrics import mean_squared_error,mean_absolute_error"
   ]
  },
  {
   "cell_type": "code",
   "execution_count": null,
   "id": "6e966cf0",
   "metadata": {},
   "outputs": [],
   "source": [
    "# again predict \n",
    "y_pred = regression.predict(X_test)"
   ]
  },
  {
   "cell_type": "code",
   "execution_count": null,
   "id": "58c1782f",
   "metadata": {},
   "outputs": [],
   "source": [
    "#MAE\n",
    "mean_absolute_error(y_test,y_pred)"
   ]
  },
  {
   "cell_type": "code",
   "execution_count": null,
   "id": "5dabf3ac",
   "metadata": {},
   "outputs": [],
   "source": [
    "#MSE\n",
    "mean_squared_error(y_test,y_pred)"
   ]
  },
  {
   "cell_type": "code",
   "execution_count": null,
   "id": "bc4d3c49",
   "metadata": {},
   "outputs": [],
   "source": [
    "#RMSE\n",
    "np.sqrt(mean_squared_error(y_test,y_pred))"
   ]
  },
  {
   "cell_type": "code",
   "execution_count": null,
   "id": "33c4521e",
   "metadata": {},
   "outputs": [],
   "source": [
    "#now we sucessfully created model and our score is great so we check it for overfitting \n",
    "#to check overfitting we have to use regularization technique\n",
    "\n",
    "# in regularization we have 3 type but we use only 2 \n",
    "\n",
    "\n",
    "\n",
    "# 3 types are 1) LASSO (L1 form) 2)RIDGE (L2 FORM)  3)ELASTIONET"
   ]
  },
  {
   "cell_type": "code",
   "execution_count": null,
   "id": "ad4ca6fe",
   "metadata": {},
   "outputs": [],
   "source": [
    "#BASICALLY LASSO N RIDGE WILL GIVE YOU BEST LEARNING RATE THAT IS ALPHA SCORE AND TRAIN MODEL ACCORDING TO IT"
   ]
  },
  {
   "cell_type": "code",
   "execution_count": null,
   "id": "59fad31e",
   "metadata": {},
   "outputs": [],
   "source": [
    "#import library\n",
    "from sklearn.linear_model import Ridge,Lasso,RidgeCV,LassoCV"
   ]
  },
  {
   "cell_type": "markdown",
   "id": "d5cf1eca",
   "metadata": {},
   "source": [
    "# LASSO MODEL"
   ]
  },
  {
   "cell_type": "code",
   "execution_count": null,
   "id": "33d2fb0a",
   "metadata": {},
   "outputs": [],
   "source": [
    "##### LASSO MODEL######\n",
    "\n",
    "lasscv = LassoCV(alphas = None , max_iter = 100, normalize = True)\n",
    "\n",
    "lasscv.fit(X_train , y_train)"
   ]
  },
  {
   "cell_type": "code",
   "execution_count": null,
   "id": "50052eb8",
   "metadata": {},
   "outputs": [],
   "source": [
    "# best aplha parameter\n",
    "alpha = lasscv.alpha_\n",
    "alpha"
   ]
  },
  {
   "cell_type": "code",
   "execution_count": null,
   "id": "3f3d4f56",
   "metadata": {},
   "outputs": [],
   "source": [
    "# now we have best parametr noe train according to it\n",
    "lasso_reg = Lasso(alpha)\n",
    "lasso_reg.fit(X_train,y_train)"
   ]
  },
  {
   "cell_type": "code",
   "execution_count": null,
   "id": "896a9c2a",
   "metadata": {},
   "outputs": [],
   "source": [
    "# now check r2 score\n",
    "lasso_reg.score(X_test,y_test)"
   ]
  },
  {
   "cell_type": "markdown",
   "id": "f75eae96",
   "metadata": {},
   "source": [
    "# RIDGE MODEL"
   ]
  },
  {
   "cell_type": "code",
   "execution_count": null,
   "id": "a1c8f451",
   "metadata": {},
   "outputs": [],
   "source": [
    "############ RIDGE MODEL#########\n",
    "\n",
    "ridgecv = RidgeCV(alphas = np.arange(0.001,0.1,0.01), normalize = True)\n",
    "ridgecv.fit(X_train , y_train)\n"
   ]
  },
  {
   "cell_type": "code",
   "execution_count": null,
   "id": "54dee6a9",
   "metadata": {},
   "outputs": [],
   "source": [
    "# best aplha parameter\n",
    "alpha = ridgecv.alpha_\n",
    "alpha"
   ]
  },
  {
   "cell_type": "code",
   "execution_count": null,
   "id": "cd28fc17",
   "metadata": {},
   "outputs": [],
   "source": [
    "# now we have best parametr noe train according to it\n",
    "ridge_reg = Ridge(alpha)\n",
    "ridge_reg.fit (X_train,y_train)"
   ]
  },
  {
   "cell_type": "code",
   "execution_count": null,
   "id": "f5faecc6",
   "metadata": {},
   "outputs": [],
   "source": [
    "# now check r2 score\n",
    "ridge_reg.score(X_test,y_test)"
   ]
  },
  {
   "cell_type": "code",
   "execution_count": null,
   "id": "5075d747",
   "metadata": {},
   "outputs": [],
   "source": [
    "# after seeing LASSO and RIDGE score thus we can conclude that our model was not overfitted model\n",
    "## for conformation lets see cross validation of the model"
   ]
  },
  {
   "cell_type": "markdown",
   "id": "c7ab28ba",
   "metadata": {},
   "source": [
    "# Cross Vaildation"
   ]
  },
  {
   "cell_type": "code",
   "execution_count": null,
   "id": "e86877d8",
   "metadata": {},
   "outputs": [],
   "source": [
    "#Cross Vaildation\n",
    "training=regression.score(X_train,y_train)\n",
    "testing=regression.score(X_test,y_test)\n",
    "\n",
    "from sklearn.model_selection import cross_val_score\n",
    "for j in range(2,10):\n",
    "    cv_score=cross_val_score(regression,X_new,y,cv=j)\n",
    "    cv_mean=cv_score.mean()\n",
    "    print(f'At cross fold {j} the cv score is {cv_mean} and the R2 score for Training is {training} and R2 score for the Testing is{testing}')\n",
    "    print('\\n')"
   ]
  },
  {
   "cell_type": "code",
   "execution_count": null,
   "id": "cfc5962f",
   "metadata": {},
   "outputs": [],
   "source": [
    "# as we see all are giving same result so out model is best model without overfitting \n",
    "\n",
    "# Training Score for Linear Regression = 0.9907160861218112\n",
    "# Testing Score for Linear Regression =  0.9954846871242079"
   ]
  },
  {
   "cell_type": "markdown",
   "id": "a95520d8",
   "metadata": {},
   "source": [
    "# RandomForestRegressor"
   ]
  },
  {
   "cell_type": "code",
   "execution_count": null,
   "id": "422a4121",
   "metadata": {},
   "outputs": [],
   "source": [
    "# lets try another model \n",
    "\n",
    "# RandomForestRegressor\n",
    "from sklearn.model_selection import GridSearchCV\n",
    "from sklearn.ensemble import RandomForestRegressor"
   ]
  },
  {
   "cell_type": "code",
   "execution_count": null,
   "id": "15392463",
   "metadata": {},
   "outputs": [],
   "source": [
    "# define parameters\n",
    "parameters={'criterion':['mse','mae','poisson'],\n",
    "           'max_features':['auto','sqrt','log2'],\n",
    "           'min_samples_split':[1,11],\n",
    "           'max_depth':[1,15],\n",
    "           'min_samples_leaf':[1,7]}"
   ]
  },
  {
   "cell_type": "code",
   "execution_count": null,
   "id": "27b68857",
   "metadata": {},
   "outputs": [],
   "source": [
    "rf=RandomForestRegressor()\n",
    "clf=GridSearchCV(rf,parameters)\n",
    "clf.fit(X_train,y_train)"
   ]
  },
  {
   "cell_type": "code",
   "execution_count": null,
   "id": "64696f7b",
   "metadata": {},
   "outputs": [],
   "source": [
    "#print best parameters\n",
    "print(clf.best_params_)"
   ]
  },
  {
   "cell_type": "code",
   "execution_count": null,
   "id": "f743b963",
   "metadata": {},
   "outputs": [],
   "source": [
    "from sklearn.metrics import r2_score"
   ]
  },
  {
   "cell_type": "code",
   "execution_count": null,
   "id": "52dbf6d8",
   "metadata": {},
   "outputs": [],
   "source": [
    "#reassign best parameters\n",
    "rf=RandomForestRegressor(criterion= 'mse', max_depth= 15, max_features= 'auto', min_samples_leaf= 1, min_samples_split= 11)\n",
    "rf.fit(X_train,y_train)\n",
    "print ('Training R2 Score: ' ,rf.score(X_train,y_train)*100)\n",
    "pred_decision=rf.predict(X_test)\n",
    "\n",
    "rfs = r2_score(y_test,pred_decision)\n",
    "print('Testing R2 Score:' , rfs*100)\n",
    "\n"
   ]
  },
  {
   "cell_type": "code",
   "execution_count": null,
   "id": "410702dd",
   "metadata": {},
   "outputs": [],
   "source": [
    "# Training Score for RandomForestRegressor = 95.58203290686926\n",
    "# Testing Score for RandomForestRegressor =  89.56146461532899"
   ]
  },
  {
   "cell_type": "markdown",
   "id": "f6d0c1af",
   "metadata": {},
   "source": [
    "# KNeighborsRegressor"
   ]
  },
  {
   "cell_type": "code",
   "execution_count": null,
   "id": "862b6355",
   "metadata": {},
   "outputs": [],
   "source": [
    "# lets try another model \n",
    "\n",
    "#KNeighborsRegressor"
   ]
  },
  {
   "cell_type": "code",
   "execution_count": null,
   "id": "66b73705",
   "metadata": {},
   "outputs": [],
   "source": [
    "from sklearn.model_selection import GridSearchCV\n",
    "from sklearn.neighbors import KNeighborsRegressor"
   ]
  },
  {
   "cell_type": "code",
   "execution_count": null,
   "id": "4ea57edb",
   "metadata": {},
   "outputs": [],
   "source": [
    "# define parameters\n",
    "parameterss={'algorithm':['kd_tree' , 'brute'],\n",
    "           'leaf_size':[3,5,10,15,30],\n",
    "           'n_neighbors':[3,15,7,50,20]}"
   ]
  },
  {
   "cell_type": "code",
   "execution_count": null,
   "id": "d9b66615",
   "metadata": {},
   "outputs": [],
   "source": [
    "knn=KNeighborsRegressor()\n",
    "clf=clf=GridSearchCV(knn,parameterss)\n",
    "clf.fit(X_train,y_train)"
   ]
  },
  {
   "cell_type": "code",
   "execution_count": null,
   "id": "1b8a94c2",
   "metadata": {},
   "outputs": [],
   "source": [
    "#print best parameters\n",
    "print(clf.best_params_)"
   ]
  },
  {
   "cell_type": "code",
   "execution_count": null,
   "id": "5d8d72b3",
   "metadata": {},
   "outputs": [],
   "source": [
    "#reassign best parameters\n",
    "knn=KNeighborsRegressor(algorithm= 'kd_tree', leaf_size= 3, n_neighbors= 7)\n",
    "knn.fit(X_train,y_train)\n",
    "print ('Training R2 Score: ' ,knn.score(X_train,y_train)*100)\n",
    "pred_decision=rf.predict(X_test)\n",
    "\n",
    "rfs = r2_score(y_test,pred_decision)\n",
    "print('Testing R2 Score:' , rfs*100)\n",
    "\n"
   ]
  },
  {
   "cell_type": "code",
   "execution_count": null,
   "id": "efbbbdf7",
   "metadata": {},
   "outputs": [],
   "source": [
    "# Training Score for KNeighborsRegressor = 91.1742654070661\n",
    "# Testing Score for KNeighborsRegressor = 89.56146461532899"
   ]
  },
  {
   "cell_type": "code",
   "execution_count": null,
   "id": "9f5df2fb",
   "metadata": {},
   "outputs": [],
   "source": []
  },
  {
   "cell_type": "code",
   "execution_count": null,
   "id": "0b5faeca",
   "metadata": {},
   "outputs": [],
   "source": [
    "# thus we conclude from Top 3 model we select Linear Regreesion for this perticular model beacuse it score is best among 3 models\n",
    "# Training Score for Linear Regression = 0.9907160861218112\n",
    "# Testing Score for Linear Regression =  0.9954846871242079"
   ]
  },
  {
   "cell_type": "code",
   "execution_count": null,
   "id": "a8a48e90",
   "metadata": {},
   "outputs": [],
   "source": []
  },
  {
   "cell_type": "code",
   "execution_count": null,
   "id": "669d2015",
   "metadata": {},
   "outputs": [],
   "source": []
  },
  {
   "cell_type": "code",
   "execution_count": null,
   "id": "c0f86b63",
   "metadata": {},
   "outputs": [],
   "source": []
  },
  {
   "cell_type": "code",
   "execution_count": null,
   "id": "37b1eb84",
   "metadata": {},
   "outputs": [],
   "source": []
  },
  {
   "cell_type": "code",
   "execution_count": null,
   "id": "b11b771e",
   "metadata": {},
   "outputs": [],
   "source": []
  }
 ],
 "metadata": {
  "kernelspec": {
   "display_name": "Python 3 (ipykernel)",
   "language": "python",
   "name": "python3"
  },
  "language_info": {
   "codemirror_mode": {
    "name": "ipython",
    "version": 3
   },
   "file_extension": ".py",
   "mimetype": "text/x-python",
   "name": "python",
   "nbconvert_exporter": "python",
   "pygments_lexer": "ipython3",
   "version": "3.9.7"
  }
 },
 "nbformat": 4,
 "nbformat_minor": 5
}
