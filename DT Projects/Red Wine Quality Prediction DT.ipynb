{
 "cells": [
  {
   "cell_type": "markdown",
   "id": "9bde3ad7",
   "metadata": {},
   "source": [
    "# Red Wine Quality Prediction"
   ]
  },
  {
   "cell_type": "markdown",
   "id": "4b197cdf",
   "metadata": {},
   "source": [
    "## DecisionTreeClassifier"
   ]
  },
  {
   "cell_type": "code",
   "execution_count": 1,
   "id": "bcf187f3",
   "metadata": {},
   "outputs": [],
   "source": [
    "#import necessary librarys\n",
    "import pandas as pd\n",
    "import numpy as np\n",
    "from sklearn.tree import DecisionTreeClassifier #if regression then regressor\n",
    "from sklearn.model_selection import train_test_split,GridSearchCV\n",
    "from sklearn.preprocessing import StandardScaler\n",
    "from sklearn.metrics import accuracy_score,confusion_matrix,roc_curve,roc_auc_score,classification_report\n",
    "import matplotlib.pyplot as plt\n",
    "import seaborn as snsRed Wine Quality Prediction\n",
    "\n",
    "import warnings\n",
    "warnings.filterwarnings('ignore')\n"
   ]
  },
  {
   "cell_type": "code",
   "execution_count": 2,
   "id": "6d54be91",
   "metadata": {},
   "outputs": [
    {
     "data": {
      "text/html": [
       "<div>\n",
       "<style scoped>\n",
       "    .dataframe tbody tr th:only-of-type {\n",
       "        vertical-align: middle;\n",
       "    }\n",
       "\n",
       "    .dataframe tbody tr th {\n",
       "        vertical-align: top;\n",
       "    }\n",
       "\n",
       "    .dataframe thead th {\n",
       "        text-align: right;\n",
       "    }\n",
       "</style>\n",
       "<table border=\"1\" class=\"dataframe\">\n",
       "  <thead>\n",
       "    <tr style=\"text-align: right;\">\n",
       "      <th></th>\n",
       "      <th>fixed acidity</th>\n",
       "      <th>volatile acidity</th>\n",
       "      <th>citric acid</th>\n",
       "      <th>residual sugar</th>\n",
       "      <th>chlorides</th>\n",
       "      <th>free sulfur dioxide</th>\n",
       "      <th>total sulfur dioxide</th>\n",
       "      <th>density</th>\n",
       "      <th>pH</th>\n",
       "      <th>sulphates</th>\n",
       "      <th>alcohol</th>\n",
       "      <th>quality</th>\n",
       "    </tr>\n",
       "  </thead>\n",
       "  <tbody>\n",
       "    <tr>\n",
       "      <th>0</th>\n",
       "      <td>7.4</td>\n",
       "      <td>0.70</td>\n",
       "      <td>0.00</td>\n",
       "      <td>1.9</td>\n",
       "      <td>0.076</td>\n",
       "      <td>11.0</td>\n",
       "      <td>34.0</td>\n",
       "      <td>0.9978</td>\n",
       "      <td>3.51</td>\n",
       "      <td>0.56</td>\n",
       "      <td>9.4</td>\n",
       "      <td>5</td>\n",
       "    </tr>\n",
       "    <tr>\n",
       "      <th>1</th>\n",
       "      <td>7.8</td>\n",
       "      <td>0.88</td>\n",
       "      <td>0.00</td>\n",
       "      <td>2.6</td>\n",
       "      <td>0.098</td>\n",
       "      <td>25.0</td>\n",
       "      <td>67.0</td>\n",
       "      <td>0.9968</td>\n",
       "      <td>3.20</td>\n",
       "      <td>0.68</td>\n",
       "      <td>9.8</td>\n",
       "      <td>5</td>\n",
       "    </tr>\n",
       "    <tr>\n",
       "      <th>2</th>\n",
       "      <td>7.8</td>\n",
       "      <td>0.76</td>\n",
       "      <td>0.04</td>\n",
       "      <td>2.3</td>\n",
       "      <td>0.092</td>\n",
       "      <td>15.0</td>\n",
       "      <td>54.0</td>\n",
       "      <td>0.9970</td>\n",
       "      <td>3.26</td>\n",
       "      <td>0.65</td>\n",
       "      <td>9.8</td>\n",
       "      <td>5</td>\n",
       "    </tr>\n",
       "    <tr>\n",
       "      <th>3</th>\n",
       "      <td>11.2</td>\n",
       "      <td>0.28</td>\n",
       "      <td>0.56</td>\n",
       "      <td>1.9</td>\n",
       "      <td>0.075</td>\n",
       "      <td>17.0</td>\n",
       "      <td>60.0</td>\n",
       "      <td>0.9980</td>\n",
       "      <td>3.16</td>\n",
       "      <td>0.58</td>\n",
       "      <td>9.8</td>\n",
       "      <td>6</td>\n",
       "    </tr>\n",
       "    <tr>\n",
       "      <th>4</th>\n",
       "      <td>7.4</td>\n",
       "      <td>0.70</td>\n",
       "      <td>0.00</td>\n",
       "      <td>1.9</td>\n",
       "      <td>0.076</td>\n",
       "      <td>11.0</td>\n",
       "      <td>34.0</td>\n",
       "      <td>0.9978</td>\n",
       "      <td>3.51</td>\n",
       "      <td>0.56</td>\n",
       "      <td>9.4</td>\n",
       "      <td>5</td>\n",
       "    </tr>\n",
       "  </tbody>\n",
       "</table>\n",
       "</div>"
      ],
      "text/plain": [
       "   fixed acidity  volatile acidity  citric acid  residual sugar  chlorides  \\\n",
       "0            7.4              0.70         0.00             1.9      0.076   \n",
       "1            7.8              0.88         0.00             2.6      0.098   \n",
       "2            7.8              0.76         0.04             2.3      0.092   \n",
       "3           11.2              0.28         0.56             1.9      0.075   \n",
       "4            7.4              0.70         0.00             1.9      0.076   \n",
       "\n",
       "   free sulfur dioxide  total sulfur dioxide  density    pH  sulphates  \\\n",
       "0                 11.0                  34.0   0.9978  3.51       0.56   \n",
       "1                 25.0                  67.0   0.9968  3.20       0.68   \n",
       "2                 15.0                  54.0   0.9970  3.26       0.65   \n",
       "3                 17.0                  60.0   0.9980  3.16       0.58   \n",
       "4                 11.0                  34.0   0.9978  3.51       0.56   \n",
       "\n",
       "   alcohol  quality  \n",
       "0      9.4        5  \n",
       "1      9.8        5  \n",
       "2      9.8        5  \n",
       "3      9.8        6  \n",
       "4      9.4        5  "
      ]
     },
     "execution_count": 2,
     "metadata": {},
     "output_type": "execute_result"
    }
   ],
   "source": [
    "#import dataset\n",
    "data = pd.read_csv('winequality-red.csv')\n",
    "data.head()"
   ]
  },
  {
   "cell_type": "code",
   "execution_count": 3,
   "id": "a2875c3a",
   "metadata": {},
   "outputs": [
    {
     "data": {
      "text/plain": [
       "array([5, 6, 7, 4, 8, 3], dtype=int64)"
      ]
     },
     "execution_count": 3,
     "metadata": {},
     "output_type": "execute_result"
    }
   ],
   "source": [
    "# checking unique values present \n",
    "data['quality'].unique()"
   ]
  },
  {
   "cell_type": "code",
   "execution_count": 4,
   "id": "b486b785",
   "metadata": {},
   "outputs": [],
   "source": [
    "#replacing 3 to 0\n",
    "data['quality']=data['quality'].replace(3,0)"
   ]
  },
  {
   "cell_type": "code",
   "execution_count": 5,
   "id": "253a7c69",
   "metadata": {},
   "outputs": [],
   "source": [
    "#replacing 4 to 0\n",
    "data['quality']=data['quality'].replace(4,0)"
   ]
  },
  {
   "cell_type": "code",
   "execution_count": 6,
   "id": "d7c0fcdf",
   "metadata": {},
   "outputs": [],
   "source": [
    "#replacing 5 to 0\n",
    "data['quality']=data['quality'].replace(5,0)"
   ]
  },
  {
   "cell_type": "code",
   "execution_count": 7,
   "id": "a737696f",
   "metadata": {},
   "outputs": [],
   "source": [
    "#replacing 6 to 0\n",
    "data['quality']=data['quality'].replace(6,0)"
   ]
  },
  {
   "cell_type": "code",
   "execution_count": 8,
   "id": "f8600d2c",
   "metadata": {},
   "outputs": [],
   "source": [
    "#replacing 7 to 1\n",
    "data['quality']=data['quality'].replace(7,1)"
   ]
  },
  {
   "cell_type": "code",
   "execution_count": 9,
   "id": "c495cd12",
   "metadata": {},
   "outputs": [],
   "source": [
    "#replacing 8 to 1\n",
    "data['quality']=data['quality'].replace(8,1)"
   ]
  },
  {
   "cell_type": "code",
   "execution_count": 10,
   "id": "b0e73a98",
   "metadata": {},
   "outputs": [
    {
     "data": {
      "text/plain": [
       "0    1382\n",
       "1     217\n",
       "Name: quality, dtype: int64"
      ]
     },
     "execution_count": 10,
     "metadata": {},
     "output_type": "execute_result"
    }
   ],
   "source": [
    "data['quality'].value_counts()\n"
   ]
  },
  {
   "cell_type": "code",
   "execution_count": 11,
   "id": "6a476ccb",
   "metadata": {},
   "outputs": [],
   "source": [
    "# seperate label n feature\n",
    "X=data.drop('quality' , axis=1)\n",
    "y=data.quality"
   ]
  },
  {
   "cell_type": "code",
   "execution_count": 12,
   "id": "2d58fbcb",
   "metadata": {},
   "outputs": [],
   "source": [
    "X_train,X_test,y_train,y_test=train_test_split(X,y,train_size=0.75,random_state=41)"
   ]
  },
  {
   "cell_type": "code",
   "execution_count": 13,
   "id": "c1af5e14",
   "metadata": {},
   "outputs": [
    {
     "data": {
      "text/plain": [
       "Counter({0: 1043, 1: 156})"
      ]
     },
     "execution_count": 13,
     "metadata": {},
     "output_type": "execute_result"
    }
   ],
   "source": [
    "#to see how much data is going to y_train set\n",
    "from collections import Counter\n",
    "Counter(y_train)"
   ]
  },
  {
   "cell_type": "code",
   "execution_count": 14,
   "id": "d1123e17",
   "metadata": {},
   "outputs": [],
   "source": [
    "#balancing the dataset using upsampling or Oversampling technique (SMOTE)\n",
    "from imblearn.over_sampling import SMOTE\n"
   ]
  },
  {
   "cell_type": "code",
   "execution_count": 15,
   "id": "60bb9540",
   "metadata": {},
   "outputs": [
    {
     "name": "stdout",
     "output_type": "stream",
     "text": [
      "the number of classes before fit:  Counter({0: 1043, 1: 156})\n",
      "the number of classes after fit:  Counter({0: 1043, 1: 782})\n"
     ]
    }
   ],
   "source": [
    "# coding for SMOTE\n",
    "ove_smp=SMOTE(0.75)  # how much extra data you want\n",
    "X_train_ns,y_train_ns=ove_smp.fit_resample(X_train,y_train)\n",
    "print('the number of classes before fit: ',format(Counter(y_train)))\n",
    "print('the number of classes after fit: ',format(Counter(y_train_ns)))\n",
    "\n",
    "\n",
    "# and for future we pass X_train_ns,X_test,y_train_ns,y_test=train_test_split"
   ]
  },
  {
   "cell_type": "code",
   "execution_count": 16,
   "id": "89459692",
   "metadata": {},
   "outputs": [
    {
     "data": {
      "text/html": [
       "<div>\n",
       "<style scoped>\n",
       "    .dataframe tbody tr th:only-of-type {\n",
       "        vertical-align: middle;\n",
       "    }\n",
       "\n",
       "    .dataframe tbody tr th {\n",
       "        vertical-align: top;\n",
       "    }\n",
       "\n",
       "    .dataframe thead th {\n",
       "        text-align: right;\n",
       "    }\n",
       "</style>\n",
       "<table border=\"1\" class=\"dataframe\">\n",
       "  <thead>\n",
       "    <tr style=\"text-align: right;\">\n",
       "      <th></th>\n",
       "      <th>fixed acidity</th>\n",
       "      <th>volatile acidity</th>\n",
       "      <th>citric acid</th>\n",
       "      <th>residual sugar</th>\n",
       "      <th>chlorides</th>\n",
       "      <th>free sulfur dioxide</th>\n",
       "      <th>total sulfur dioxide</th>\n",
       "      <th>density</th>\n",
       "      <th>pH</th>\n",
       "      <th>sulphates</th>\n",
       "      <th>alcohol</th>\n",
       "      <th>quality</th>\n",
       "    </tr>\n",
       "  </thead>\n",
       "  <tbody>\n",
       "    <tr>\n",
       "      <th>0</th>\n",
       "      <td>7.4</td>\n",
       "      <td>0.70</td>\n",
       "      <td>0.00</td>\n",
       "      <td>1.9</td>\n",
       "      <td>0.076</td>\n",
       "      <td>11.0</td>\n",
       "      <td>34.0</td>\n",
       "      <td>0.9978</td>\n",
       "      <td>3.51</td>\n",
       "      <td>0.56</td>\n",
       "      <td>9.4</td>\n",
       "      <td>0</td>\n",
       "    </tr>\n",
       "    <tr>\n",
       "      <th>1</th>\n",
       "      <td>7.8</td>\n",
       "      <td>0.88</td>\n",
       "      <td>0.00</td>\n",
       "      <td>2.6</td>\n",
       "      <td>0.098</td>\n",
       "      <td>25.0</td>\n",
       "      <td>67.0</td>\n",
       "      <td>0.9968</td>\n",
       "      <td>3.20</td>\n",
       "      <td>0.68</td>\n",
       "      <td>9.8</td>\n",
       "      <td>0</td>\n",
       "    </tr>\n",
       "    <tr>\n",
       "      <th>2</th>\n",
       "      <td>7.8</td>\n",
       "      <td>0.76</td>\n",
       "      <td>0.04</td>\n",
       "      <td>2.3</td>\n",
       "      <td>0.092</td>\n",
       "      <td>15.0</td>\n",
       "      <td>54.0</td>\n",
       "      <td>0.9970</td>\n",
       "      <td>3.26</td>\n",
       "      <td>0.65</td>\n",
       "      <td>9.8</td>\n",
       "      <td>0</td>\n",
       "    </tr>\n",
       "    <tr>\n",
       "      <th>3</th>\n",
       "      <td>11.2</td>\n",
       "      <td>0.28</td>\n",
       "      <td>0.56</td>\n",
       "      <td>1.9</td>\n",
       "      <td>0.075</td>\n",
       "      <td>17.0</td>\n",
       "      <td>60.0</td>\n",
       "      <td>0.9980</td>\n",
       "      <td>3.16</td>\n",
       "      <td>0.58</td>\n",
       "      <td>9.8</td>\n",
       "      <td>0</td>\n",
       "    </tr>\n",
       "    <tr>\n",
       "      <th>4</th>\n",
       "      <td>7.4</td>\n",
       "      <td>0.70</td>\n",
       "      <td>0.00</td>\n",
       "      <td>1.9</td>\n",
       "      <td>0.076</td>\n",
       "      <td>11.0</td>\n",
       "      <td>34.0</td>\n",
       "      <td>0.9978</td>\n",
       "      <td>3.51</td>\n",
       "      <td>0.56</td>\n",
       "      <td>9.4</td>\n",
       "      <td>0</td>\n",
       "    </tr>\n",
       "  </tbody>\n",
       "</table>\n",
       "</div>"
      ],
      "text/plain": [
       "   fixed acidity  volatile acidity  citric acid  residual sugar  chlorides  \\\n",
       "0            7.4              0.70         0.00             1.9      0.076   \n",
       "1            7.8              0.88         0.00             2.6      0.098   \n",
       "2            7.8              0.76         0.04             2.3      0.092   \n",
       "3           11.2              0.28         0.56             1.9      0.075   \n",
       "4            7.4              0.70         0.00             1.9      0.076   \n",
       "\n",
       "   free sulfur dioxide  total sulfur dioxide  density    pH  sulphates  \\\n",
       "0                 11.0                  34.0   0.9978  3.51       0.56   \n",
       "1                 25.0                  67.0   0.9968  3.20       0.68   \n",
       "2                 15.0                  54.0   0.9970  3.26       0.65   \n",
       "3                 17.0                  60.0   0.9980  3.16       0.58   \n",
       "4                 11.0                  34.0   0.9978  3.51       0.56   \n",
       "\n",
       "   alcohol  quality  \n",
       "0      9.4        0  \n",
       "1      9.8        0  \n",
       "2      9.8        0  \n",
       "3      9.8        0  \n",
       "4      9.4        0  "
      ]
     },
     "execution_count": 16,
     "metadata": {},
     "output_type": "execute_result"
    }
   ],
   "source": [
    "data.head()"
   ]
  },
  {
   "cell_type": "code",
   "execution_count": 17,
   "id": "be2aa572",
   "metadata": {},
   "outputs": [
    {
     "data": {
      "text/plain": [
       "(1599, 12)"
      ]
     },
     "execution_count": 17,
     "metadata": {},
     "output_type": "execute_result"
    }
   ],
   "source": [
    "data.shape"
   ]
  },
  {
   "cell_type": "code",
   "execution_count": 18,
   "id": "3fb58374",
   "metadata": {},
   "outputs": [
    {
     "data": {
      "text/html": [
       "<div>\n",
       "<style scoped>\n",
       "    .dataframe tbody tr th:only-of-type {\n",
       "        vertical-align: middle;\n",
       "    }\n",
       "\n",
       "    .dataframe tbody tr th {\n",
       "        vertical-align: top;\n",
       "    }\n",
       "\n",
       "    .dataframe thead th {\n",
       "        text-align: right;\n",
       "    }\n",
       "</style>\n",
       "<table border=\"1\" class=\"dataframe\">\n",
       "  <thead>\n",
       "    <tr style=\"text-align: right;\">\n",
       "      <th></th>\n",
       "      <th>fixed acidity</th>\n",
       "      <th>volatile acidity</th>\n",
       "      <th>citric acid</th>\n",
       "      <th>residual sugar</th>\n",
       "      <th>chlorides</th>\n",
       "      <th>free sulfur dioxide</th>\n",
       "      <th>total sulfur dioxide</th>\n",
       "      <th>density</th>\n",
       "      <th>pH</th>\n",
       "      <th>sulphates</th>\n",
       "      <th>alcohol</th>\n",
       "      <th>quality</th>\n",
       "    </tr>\n",
       "  </thead>\n",
       "  <tbody>\n",
       "    <tr>\n",
       "      <th>count</th>\n",
       "      <td>1599.000000</td>\n",
       "      <td>1599.000000</td>\n",
       "      <td>1599.000000</td>\n",
       "      <td>1599.000000</td>\n",
       "      <td>1599.000000</td>\n",
       "      <td>1599.000000</td>\n",
       "      <td>1599.000000</td>\n",
       "      <td>1599.000000</td>\n",
       "      <td>1599.000000</td>\n",
       "      <td>1599.000000</td>\n",
       "      <td>1599.000000</td>\n",
       "      <td>1599.000000</td>\n",
       "    </tr>\n",
       "    <tr>\n",
       "      <th>mean</th>\n",
       "      <td>8.319637</td>\n",
       "      <td>0.527821</td>\n",
       "      <td>0.270976</td>\n",
       "      <td>2.538806</td>\n",
       "      <td>0.087467</td>\n",
       "      <td>15.874922</td>\n",
       "      <td>46.467792</td>\n",
       "      <td>0.996747</td>\n",
       "      <td>3.311113</td>\n",
       "      <td>0.658149</td>\n",
       "      <td>10.422983</td>\n",
       "      <td>0.135710</td>\n",
       "    </tr>\n",
       "    <tr>\n",
       "      <th>std</th>\n",
       "      <td>1.741096</td>\n",
       "      <td>0.179060</td>\n",
       "      <td>0.194801</td>\n",
       "      <td>1.409928</td>\n",
       "      <td>0.047065</td>\n",
       "      <td>10.460157</td>\n",
       "      <td>32.895324</td>\n",
       "      <td>0.001887</td>\n",
       "      <td>0.154386</td>\n",
       "      <td>0.169507</td>\n",
       "      <td>1.065668</td>\n",
       "      <td>0.342587</td>\n",
       "    </tr>\n",
       "    <tr>\n",
       "      <th>min</th>\n",
       "      <td>4.600000</td>\n",
       "      <td>0.120000</td>\n",
       "      <td>0.000000</td>\n",
       "      <td>0.900000</td>\n",
       "      <td>0.012000</td>\n",
       "      <td>1.000000</td>\n",
       "      <td>6.000000</td>\n",
       "      <td>0.990070</td>\n",
       "      <td>2.740000</td>\n",
       "      <td>0.330000</td>\n",
       "      <td>8.400000</td>\n",
       "      <td>0.000000</td>\n",
       "    </tr>\n",
       "    <tr>\n",
       "      <th>25%</th>\n",
       "      <td>7.100000</td>\n",
       "      <td>0.390000</td>\n",
       "      <td>0.090000</td>\n",
       "      <td>1.900000</td>\n",
       "      <td>0.070000</td>\n",
       "      <td>7.000000</td>\n",
       "      <td>22.000000</td>\n",
       "      <td>0.995600</td>\n",
       "      <td>3.210000</td>\n",
       "      <td>0.550000</td>\n",
       "      <td>9.500000</td>\n",
       "      <td>0.000000</td>\n",
       "    </tr>\n",
       "    <tr>\n",
       "      <th>50%</th>\n",
       "      <td>7.900000</td>\n",
       "      <td>0.520000</td>\n",
       "      <td>0.260000</td>\n",
       "      <td>2.200000</td>\n",
       "      <td>0.079000</td>\n",
       "      <td>14.000000</td>\n",
       "      <td>38.000000</td>\n",
       "      <td>0.996750</td>\n",
       "      <td>3.310000</td>\n",
       "      <td>0.620000</td>\n",
       "      <td>10.200000</td>\n",
       "      <td>0.000000</td>\n",
       "    </tr>\n",
       "    <tr>\n",
       "      <th>75%</th>\n",
       "      <td>9.200000</td>\n",
       "      <td>0.640000</td>\n",
       "      <td>0.420000</td>\n",
       "      <td>2.600000</td>\n",
       "      <td>0.090000</td>\n",
       "      <td>21.000000</td>\n",
       "      <td>62.000000</td>\n",
       "      <td>0.997835</td>\n",
       "      <td>3.400000</td>\n",
       "      <td>0.730000</td>\n",
       "      <td>11.100000</td>\n",
       "      <td>0.000000</td>\n",
       "    </tr>\n",
       "    <tr>\n",
       "      <th>max</th>\n",
       "      <td>15.900000</td>\n",
       "      <td>1.580000</td>\n",
       "      <td>1.000000</td>\n",
       "      <td>15.500000</td>\n",
       "      <td>0.611000</td>\n",
       "      <td>72.000000</td>\n",
       "      <td>289.000000</td>\n",
       "      <td>1.003690</td>\n",
       "      <td>4.010000</td>\n",
       "      <td>2.000000</td>\n",
       "      <td>14.900000</td>\n",
       "      <td>1.000000</td>\n",
       "    </tr>\n",
       "  </tbody>\n",
       "</table>\n",
       "</div>"
      ],
      "text/plain": [
       "       fixed acidity  volatile acidity  citric acid  residual sugar  \\\n",
       "count    1599.000000       1599.000000  1599.000000     1599.000000   \n",
       "mean        8.319637          0.527821     0.270976        2.538806   \n",
       "std         1.741096          0.179060     0.194801        1.409928   \n",
       "min         4.600000          0.120000     0.000000        0.900000   \n",
       "25%         7.100000          0.390000     0.090000        1.900000   \n",
       "50%         7.900000          0.520000     0.260000        2.200000   \n",
       "75%         9.200000          0.640000     0.420000        2.600000   \n",
       "max        15.900000          1.580000     1.000000       15.500000   \n",
       "\n",
       "         chlorides  free sulfur dioxide  total sulfur dioxide      density  \\\n",
       "count  1599.000000          1599.000000           1599.000000  1599.000000   \n",
       "mean      0.087467            15.874922             46.467792     0.996747   \n",
       "std       0.047065            10.460157             32.895324     0.001887   \n",
       "min       0.012000             1.000000              6.000000     0.990070   \n",
       "25%       0.070000             7.000000             22.000000     0.995600   \n",
       "50%       0.079000            14.000000             38.000000     0.996750   \n",
       "75%       0.090000            21.000000             62.000000     0.997835   \n",
       "max       0.611000            72.000000            289.000000     1.003690   \n",
       "\n",
       "                pH    sulphates      alcohol      quality  \n",
       "count  1599.000000  1599.000000  1599.000000  1599.000000  \n",
       "mean      3.311113     0.658149    10.422983     0.135710  \n",
       "std       0.154386     0.169507     1.065668     0.342587  \n",
       "min       2.740000     0.330000     8.400000     0.000000  \n",
       "25%       3.210000     0.550000     9.500000     0.000000  \n",
       "50%       3.310000     0.620000    10.200000     0.000000  \n",
       "75%       3.400000     0.730000    11.100000     0.000000  \n",
       "max       4.010000     2.000000    14.900000     1.000000  "
      ]
     },
     "execution_count": 18,
     "metadata": {},
     "output_type": "execute_result"
    }
   ],
   "source": [
    "#describe dataset\n",
    "data.describe()"
   ]
  },
  {
   "cell_type": "code",
   "execution_count": 19,
   "id": "3a634b2f",
   "metadata": {},
   "outputs": [
    {
     "data": {
      "text/plain": [
       "fixed acidity           0\n",
       "volatile acidity        0\n",
       "citric acid             0\n",
       "residual sugar          0\n",
       "chlorides               0\n",
       "free sulfur dioxide     0\n",
       "total sulfur dioxide    0\n",
       "density                 0\n",
       "pH                      0\n",
       "sulphates               0\n",
       "alcohol                 0\n",
       "quality                 0\n",
       "dtype: int64"
      ]
     },
     "execution_count": 19,
     "metadata": {},
     "output_type": "execute_result"
    }
   ],
   "source": [
    "# checking null values\n",
    "data.isnull().sum()"
   ]
  },
  {
   "cell_type": "code",
   "execution_count": 20,
   "id": "21d82a51",
   "metadata": {},
   "outputs": [],
   "source": [
    "#observations\n",
    "# 1) there is no null values present in dataset\n",
    "# 2) there is no problem in dataset \n",
    "# 3) residual sugar and total sulfur dioxide i suspect some skewness we will see"
   ]
  },
  {
   "cell_type": "code",
   "execution_count": 21,
   "id": "83b10e9a",
   "metadata": {},
   "outputs": [
    {
     "data": {
      "image/png": "[encoded data removed]",
      "text/plain": [
       "<Figure size 1440x1080 with 2 Axes>"
      ]
     },
     "metadata": {
      "needs_background": "light"
     },
     "output_type": "display_data"
    }
   ],
   "source": [
    "# find relationship between feature vs feature and feature vs label by using new technique that is heatmap\n",
    "\n",
    "# we can use heatmap to see that problem has multicollinearity problem exist or not\n",
    "\n",
    "df_corr = data.corr().abs() #this code will give coefficient of one variable vs all other feature (relationship will all)\n",
    "\n",
    "plt.figure(figsize=(20,15))\n",
    "sns.heatmap (df_corr , annot = True , annot_kws={'size' : 10}) # df_corr = graph , annot=number inside box , annot_kws=size of number inside box\n",
    "plt.show()"
   ]
  },
  {
   "cell_type": "code",
   "execution_count": 22,
   "id": "f061c04d",
   "metadata": {},
   "outputs": [],
   "source": [
    "#1)  now in heatmap here we see all relationship featue vs feature and feature vs label\n",
    "#2) darker is less reationship and lighter is higher relation ship\n",
    "#3) for multicollinerity we have to take higher relationship ,,  \n",
    "#4)for example i assume more than 75% relationship then there is multicollinear can be exist im basically suspecting \n",
    "#5) after seeing all the data there is no such multicollinear problem exist so going forward"
   ]
  },
  {
   "cell_type": "code",
   "execution_count": 23,
   "id": "9eb34412",
   "metadata": {},
   "outputs": [
    {
     "name": "stdout",
     "output_type": "stream",
     "text": [
      "Testing Accuracy 0.8675 RandomState 1\n",
      "\n",
      "\n",
      "MAXINING TESTING SCORE 0.8675 ON RANDOM STATE OF 1\n",
      "Testing Accuracy 0.8475 RandomState 2\n",
      "\n",
      "\n",
      "Testing Accuracy 0.895 RandomState 3\n",
      "\n",
      "\n",
      "MAXINING TESTING SCORE 0.895 ON RANDOM STATE OF 3\n",
      "Testing Accuracy 0.8725 RandomState 4\n",
      "\n",
      "\n",
      "Testing Accuracy 0.8725 RandomState 5\n",
      "\n",
      "\n",
      "Testing Accuracy 0.895 RandomState 6\n",
      "\n",
      "\n",
      "Testing Accuracy 0.84 RandomState 7\n",
      "\n",
      "\n",
      "Testing Accuracy 0.8625 RandomState 8\n",
      "\n",
      "\n",
      "Testing Accuracy 0.89 RandomState 9\n",
      "\n",
      "\n",
      "Testing Accuracy 0.8375 RandomState 10\n",
      "\n",
      "\n",
      "Testing Accuracy 0.8875 RandomState 11\n",
      "\n",
      "\n",
      "Testing Accuracy 0.8725 RandomState 12\n",
      "\n",
      "\n",
      "Testing Accuracy 0.885 RandomState 13\n",
      "\n",
      "\n",
      "Testing Accuracy 0.8825 RandomState 14\n",
      "\n",
      "\n",
      "Testing Accuracy 0.8925 RandomState 15\n",
      "\n",
      "\n",
      "Testing Accuracy 0.8725 RandomState 16\n",
      "\n",
      "\n",
      "Testing Accuracy 0.8575 RandomState 17\n",
      "\n",
      "\n",
      "Testing Accuracy 0.8875 RandomState 18\n",
      "\n",
      "\n",
      "Testing Accuracy 0.8675 RandomState 19\n",
      "\n",
      "\n",
      "Testing Accuracy 0.88 RandomState 20\n",
      "\n",
      "\n",
      "Testing Accuracy 0.885 RandomState 21\n",
      "\n",
      "\n",
      "Testing Accuracy 0.88 RandomState 22\n",
      "\n",
      "\n",
      "Testing Accuracy 0.8775 RandomState 23\n",
      "\n",
      "\n",
      "Testing Accuracy 0.8825 RandomState 24\n",
      "\n",
      "\n",
      "Testing Accuracy 0.8775 RandomState 25\n",
      "\n",
      "\n",
      "Testing Accuracy 0.9025 RandomState 26\n",
      "\n",
      "\n",
      "MAXINING TESTING SCORE 0.9025 ON RANDOM STATE OF 26\n",
      "Testing Accuracy 0.88 RandomState 27\n",
      "\n",
      "\n",
      "Testing Accuracy 0.86 RandomState 28\n",
      "\n",
      "\n",
      "Testing Accuracy 0.885 RandomState 29\n",
      "\n",
      "\n",
      "Testing Accuracy 0.8425 RandomState 30\n",
      "\n",
      "\n",
      "Testing Accuracy 0.875 RandomState 31\n",
      "\n",
      "\n",
      "Testing Accuracy 0.885 RandomState 32\n",
      "\n",
      "\n",
      "Testing Accuracy 0.8625 RandomState 33\n",
      "\n",
      "\n",
      "Testing Accuracy 0.87 RandomState 34\n",
      "\n",
      "\n",
      "Testing Accuracy 0.8675 RandomState 35\n",
      "\n",
      "\n",
      "Testing Accuracy 0.8375 RandomState 36\n",
      "\n",
      "\n",
      "Testing Accuracy 0.89 RandomState 37\n",
      "\n",
      "\n",
      "Testing Accuracy 0.895 RandomState 38\n",
      "\n",
      "\n",
      "Testing Accuracy 0.8725 RandomState 39\n",
      "\n",
      "\n",
      "Testing Accuracy 0.89 RandomState 40\n",
      "\n",
      "\n",
      "Testing Accuracy 0.87 RandomState 41\n",
      "\n",
      "\n",
      "Testing Accuracy 0.89 RandomState 42\n",
      "\n",
      "\n",
      "Testing Accuracy 0.8775 RandomState 43\n",
      "\n",
      "\n",
      "Testing Accuracy 0.8825 RandomState 44\n",
      "\n",
      "\n",
      "Testing Accuracy 0.85 RandomState 45\n",
      "\n",
      "\n",
      "Testing Accuracy 0.835 RandomState 46\n",
      "\n",
      "\n",
      "Testing Accuracy 0.8575 RandomState 47\n",
      "\n",
      "\n",
      "Testing Accuracy 0.8875 RandomState 48\n",
      "\n",
      "\n",
      "Testing Accuracy 0.865 RandomState 49\n",
      "\n",
      "\n",
      "Testing Accuracy 0.9 RandomState 50\n",
      "\n",
      "\n",
      "Testing Accuracy 0.9075 RandomState 51\n",
      "\n",
      "\n",
      "MAXINING TESTING SCORE 0.9075 ON RANDOM STATE OF 51\n",
      "Testing Accuracy 0.87 RandomState 52\n",
      "\n",
      "\n",
      "Testing Accuracy 0.8725 RandomState 53\n",
      "\n",
      "\n",
      "Testing Accuracy 0.9 RandomState 54\n",
      "\n",
      "\n",
      "Testing Accuracy 0.89 RandomState 55\n",
      "\n",
      "\n",
      "Testing Accuracy 0.8875 RandomState 56\n",
      "\n",
      "\n",
      "Testing Accuracy 0.875 RandomState 57\n",
      "\n",
      "\n",
      "Testing Accuracy 0.8375 RandomState 58\n",
      "\n",
      "\n",
      "Testing Accuracy 0.8525 RandomState 59\n",
      "\n",
      "\n",
      "Testing Accuracy 0.8625 RandomState 60\n",
      "\n",
      "\n",
      "Testing Accuracy 0.88 RandomState 61\n",
      "\n",
      "\n",
      "Testing Accuracy 0.8775 RandomState 62\n",
      "\n",
      "\n",
      "Testing Accuracy 0.8375 RandomState 63\n",
      "\n",
      "\n",
      "Testing Accuracy 0.87 RandomState 64\n",
      "\n",
      "\n",
      "Testing Accuracy 0.86 RandomState 65\n",
      "\n",
      "\n",
      "Testing Accuracy 0.8825 RandomState 66\n",
      "\n",
      "\n",
      "Testing Accuracy 0.8875 RandomState 67\n",
      "\n",
      "\n",
      "Testing Accuracy 0.8925 RandomState 68\n",
      "\n",
      "\n",
      "Testing Accuracy 0.885 RandomState 69\n",
      "\n",
      "\n",
      "Testing Accuracy 0.865 RandomState 70\n",
      "\n",
      "\n",
      "Testing Accuracy 0.8775 RandomState 71\n",
      "\n",
      "\n",
      "Testing Accuracy 0.87 RandomState 72\n",
      "\n",
      "\n",
      "Testing Accuracy 0.8575 RandomState 73\n",
      "\n",
      "\n",
      "Testing Accuracy 0.9 RandomState 74\n",
      "\n",
      "\n",
      "Testing Accuracy 0.88 RandomState 75\n",
      "\n",
      "\n",
      "Testing Accuracy 0.86 RandomState 76\n",
      "\n",
      "\n",
      "Testing Accuracy 0.8975 RandomState 77\n",
      "\n",
      "\n",
      "Testing Accuracy 0.91 RandomState 78\n",
      "\n",
      "\n",
      "MAXINING TESTING SCORE 0.91 ON RANDOM STATE OF 78\n",
      "Testing Accuracy 0.8625 RandomState 79\n",
      "\n",
      "\n",
      "Testing Accuracy 0.89 RandomState 80\n",
      "\n",
      "\n",
      "Testing Accuracy 0.8575 RandomState 81\n",
      "\n",
      "\n",
      "Testing Accuracy 0.8625 RandomState 82\n",
      "\n",
      "\n",
      "Testing Accuracy 0.89 RandomState 83\n",
      "\n",
      "\n",
      "Testing Accuracy 0.87 RandomState 84\n",
      "\n",
      "\n",
      "Testing Accuracy 0.8725 RandomState 85\n",
      "\n",
      "\n",
      "Testing Accuracy 0.8925 RandomState 86\n",
      "\n",
      "\n",
      "Testing Accuracy 0.86 RandomState 87\n",
      "\n",
      "\n",
      "Testing Accuracy 0.9075 RandomState 88\n",
      "\n",
      "\n",
      "Testing Accuracy 0.88 RandomState 89\n",
      "\n",
      "\n",
      "Testing Accuracy 0.8675 RandomState 90\n",
      "\n",
      "\n",
      "Testing Accuracy 0.875 RandomState 91\n",
      "\n",
      "\n",
      "Testing Accuracy 0.8775 RandomState 92\n",
      "\n",
      "\n",
      "Testing Accuracy 0.8675 RandomState 93\n",
      "\n",
      "\n",
      "Testing Accuracy 0.895 RandomState 94\n",
      "\n",
      "\n",
      "Testing Accuracy 0.8525 RandomState 95\n",
      "\n",
      "\n",
      "Testing Accuracy 0.875 RandomState 96\n",
      "\n",
      "\n",
      "Testing Accuracy 0.8875 RandomState 97\n",
      "\n",
      "\n",
      "Testing Accuracy 0.8775 RandomState 98\n",
      "\n",
      "\n",
      "Testing Accuracy 0.8925 RandomState 99\n",
      "\n",
      "\n"
     ]
    }
   ],
   "source": [
    "#Finding the Best Random State\n",
    "MaxAccu=0\n",
    "MaxRS=0\n",
    "\n",
    "for i in range (1,100):\n",
    "    X_train_ns,X_test,y_train_ns,y_test=train_test_split(X,y,test_size=0.25,random_state=i)\n",
    "    dt=DecisionTreeClassifier()\n",
    "    dt.fit(X_train_ns,y_train_ns)\n",
    "    \n",
    "    y_pred=dt.predict(X_test)\n",
    "    accuracy=accuracy_score(y_test,y_pred)\n",
    "    print ('Testing Accuracy' , accuracy , 'RandomState' ,i)\n",
    "    print('\\n')\n",
    "    \n",
    "    \n",
    "    if accuracy>MaxAccu:\n",
    "        MaxAccu=accuracy\n",
    "        MaxRS=i\n",
    "        print('MAXINING TESTING SCORE' , MaxAccu , 'ON RANDOM STATE OF' , i)"
   ]
  },
  {
   "cell_type": "code",
   "execution_count": 24,
   "id": "9e825232",
   "metadata": {},
   "outputs": [
    {
     "name": "stdout",
     "output_type": "stream",
     "text": [
      "Best Accuracy is  0.91 On Random State 78\n"
     ]
    }
   ],
   "source": [
    "print('Best Accuracy is ' , MaxAccu , 'On Random State' , MaxRS)"
   ]
  },
  {
   "cell_type": "code",
   "execution_count": 25,
   "id": "3b1b06b9",
   "metadata": {},
   "outputs": [],
   "source": [
    "# train test split\n",
    "X_train_ns,X_test,y_train_ns,y_test=train_test_split(X,y,test_size=0.25,random_state=78)"
   ]
  },
  {
   "cell_type": "code",
   "execution_count": 26,
   "id": "55970d54",
   "metadata": {},
   "outputs": [],
   "source": [
    "#write one function and call as many time as you want\n",
    "def metric_score (clf,X_train_ns,X_test,y_train_ns,y_test,train=True):\n",
    "    if train:\n",
    "        y_pred = clf.predict(X_train_ns)\n",
    "        print ('====Training Score====')\n",
    "        print (f\"Accuracy score : {accuracy_score(y_train_ns,y_pred)*100:2f}%\")\n",
    "        \n",
    "    elif train==False:\n",
    "        pred = clf.predict(X_test)\n",
    "        print ('====Testing Score====')\n",
    "        print (f\"Accuracy score : {accuracy_score(y_test,pred)*100:2f}%\")\n",
    "        \n",
    "        print ('\\n \\n Classification report \\n ' , classification_report(y_test,pred,digits=2))"
   ]
  },
  {
   "cell_type": "code",
   "execution_count": 27,
   "id": "b7782cd0",
   "metadata": {},
   "outputs": [
    {
     "data": {
      "text/html": [
       "<style>#sk-container-id-1 {color: black;background-color: white;}#sk-container-id-1 pre{padding: 0;}#sk-container-id-1 div.sk-toggleable {background-color: white;}#sk-container-id-1 label.sk-toggleable__label {cursor: pointer;display: block;width: 100%;margin-bottom: 0;padding: 0.3em;box-sizing: border-box;text-align: center;}#sk-container-id-1 label.sk-toggleable__label-arrow:before {content: \"▸\";float: left;margin-right: 0.25em;color: #696969;}#sk-container-id-1 label.sk-toggleable__label-arrow:hover:before {color: black;}#sk-container-id-1 div.sk-estimator:hover label.sk-toggleable__label-arrow:before {color: black;}#sk-container-id-1 div.sk-toggleable__content {max-height: 0;max-width: 0;overflow: hidden;text-align: left;background-color: #f0f8ff;}#sk-container-id-1 div.sk-toggleable__content pre {margin: 0.2em;color: black;border-radius: 0.25em;background-color: #f0f8ff;}#sk-container-id-1 input.sk-toggleable__control:checked~div.sk-toggleable__content {max-height: 200px;max-width: 100%;overflow: auto;}#sk-container-id-1 input.sk-toggleable__control:checked~label.sk-toggleable__label-arrow:before {content: \"▾\";}#sk-container-id-1 div.sk-estimator input.sk-toggleable__control:checked~label.sk-toggleable__label {background-color: #d4ebff;}#sk-container-id-1 div.sk-label input.sk-toggleable__control:checked~label.sk-toggleable__label {background-color: #d4ebff;}#sk-container-id-1 input.sk-hidden--visually {border: 0;clip: rect(1px 1px 1px 1px);clip: rect(1px, 1px, 1px, 1px);height: 1px;margin: -1px;overflow: hidden;padding: 0;position: absolute;width: 1px;}#sk-container-id-1 div.sk-estimator {font-family: monospace;background-color: #f0f8ff;border: 1px dotted black;border-radius: 0.25em;box-sizing: border-box;margin-bottom: 0.5em;}#sk-container-id-1 div.sk-estimator:hover {background-color: #d4ebff;}#sk-container-id-1 div.sk-parallel-item::after {content: \"\";width: 100%;border-bottom: 1px solid gray;flex-grow: 1;}#sk-container-id-1 div.sk-label:hover label.sk-toggleable__label {background-color: #d4ebff;}#sk-container-id-1 div.sk-serial::before {content: \"\";position: absolute;border-left: 1px solid gray;box-sizing: border-box;top: 0;bottom: 0;left: 50%;z-index: 0;}#sk-container-id-1 div.sk-serial {display: flex;flex-direction: column;align-items: center;background-color: white;padding-right: 0.2em;padding-left: 0.2em;position: relative;}#sk-container-id-1 div.sk-item {position: relative;z-index: 1;}#sk-container-id-1 div.sk-parallel {display: flex;align-items: stretch;justify-content: center;background-color: white;position: relative;}#sk-container-id-1 div.sk-item::before, #sk-container-id-1 div.sk-parallel-item::before {content: \"\";position: absolute;border-left: 1px solid gray;box-sizing: border-box;top: 0;bottom: 0;left: 50%;z-index: -1;}#sk-container-id-1 div.sk-parallel-item {display: flex;flex-direction: column;z-index: 1;position: relative;background-color: white;}#sk-container-id-1 div.sk-parallel-item:first-child::after {align-self: flex-end;width: 50%;}#sk-container-id-1 div.sk-parallel-item:last-child::after {align-self: flex-start;width: 50%;}#sk-container-id-1 div.sk-parallel-item:only-child::after {width: 0;}#sk-container-id-1 div.sk-dashed-wrapped {border: 1px dashed gray;margin: 0 0.4em 0.5em 0.4em;box-sizing: border-box;padding-bottom: 0.4em;background-color: white;}#sk-container-id-1 div.sk-label label {font-family: monospace;font-weight: bold;display: inline-block;line-height: 1.2em;}#sk-container-id-1 div.sk-label-container {text-align: center;}#sk-container-id-1 div.sk-container {/* jupyter's `normalize.less` sets `[hidden] { display: none; }` but bootstrap.min.css set `[hidden] { display: none !important; }` so we also need the `!important` here to be able to override the default hidden behavior on the sphinx rendered scikit-learn.org. See: https://github.com/scikit-learn/scikit-learn/issues/21755 */display: inline-block !important;position: relative;}#sk-container-id-1 div.sk-text-repr-fallback {display: none;}</style><div id=\"sk-container-id-1\" class=\"sk-top-container\"><div class=\"sk-text-repr-fallback\"><pre>DecisionTreeClassifier()</pre><b>In a Jupyter environment, please rerun this cell to show the HTML representation or trust the notebook. <br />On GitHub, the HTML representation is unable to render, please try loading this page with nbviewer.org.</b></div><div class=\"sk-container\" hidden><div class=\"sk-item\"><div class=\"sk-estimator sk-toggleable\"><input class=\"sk-toggleable__control sk-hidden--visually\" id=\"sk-estimator-id-1\" type=\"checkbox\" checked><label for=\"sk-estimator-id-1\" class=\"sk-toggleable__label sk-toggleable__label-arrow\">DecisionTreeClassifier</label><div class=\"sk-toggleable__content\"><pre>DecisionTreeClassifier()</pre></div></div></div></div></div>"
      ],
      "text/plain": [
       "DecisionTreeClassifier()"
      ]
     },
     "execution_count": 27,
     "metadata": {},
     "output_type": "execute_result"
    }
   ],
   "source": [
    "# model initilization\n",
    "clf_dt = DecisionTreeClassifier()\n",
    "clf_dt.fit(X_train_ns,y_train_ns)"
   ]
  },
  {
   "cell_type": "code",
   "execution_count": 28,
   "id": "973e26ea",
   "metadata": {},
   "outputs": [
    {
     "name": "stdout",
     "output_type": "stream",
     "text": [
      "====Training Score====\n",
      "Accuracy score : 100.000000%\n",
      "====Testing Score====\n",
      "Accuracy score : 89.500000%\n",
      "\n",
      " \n",
      " Classification report \n",
      "                precision    recall  f1-score   support\n",
      "\n",
      "           0       0.94      0.94      0.94       338\n",
      "           1       0.67      0.65      0.66        62\n",
      "\n",
      "    accuracy                           0.90       400\n",
      "   macro avg       0.80      0.79      0.80       400\n",
      "weighted avg       0.89      0.90      0.89       400\n",
      "\n"
     ]
    }
   ],
   "source": [
    "# call the function\n",
    "metric_score (clf_dt,X_train_ns,X_test,y_train_ns,y_test,train = True)\n",
    "metric_score (clf_dt,X_train_ns,X_test,y_train_ns,y_test,train=False)"
   ]
  },
  {
   "cell_type": "code",
   "execution_count": 29,
   "id": "9d00b55b",
   "metadata": {},
   "outputs": [],
   "source": [
    "# Training score for Decision Tree Classifier 100.000000%\n",
    "# Testing score for Decision Tree Classifier 89.500000%"
   ]
  },
  {
   "cell_type": "markdown",
   "id": "6aa5e0d0",
   "metadata": {},
   "source": [
    "## Hyperparameter Tuning fot Decision Tree"
   ]
  },
  {
   "cell_type": "code",
   "execution_count": 30,
   "id": "313f73a7",
   "metadata": {},
   "outputs": [],
   "source": [
    "# we are tuning 4 important hyperparameter rightnow we are passing the different value for both parameter\n",
    "grid_param = {\n",
    "                'criterion':['gini','entropy'],\n",
    "                'max_depth':range(1,30),\n",
    "                'min_samples_leaf':range(1,5),\n",
    "                'min_samples_split':range(5,10),\n",
    "                'max_leaf_nodes':range(1,10)\n",
    "}"
   ]
  },
  {
   "cell_type": "code",
   "execution_count": 31,
   "id": "2b3181d2",
   "metadata": {},
   "outputs": [],
   "source": [
    "# here we are define some parameter and ask gridsearchcv which one is best\n",
    "grid_search = GridSearchCV (estimator = clf_dt,param_grid=grid_param,cv=5,n_jobs=-1)"
   ]
  },
  {
   "cell_type": "code",
   "execution_count": 32,
   "id": "8542cc75",
   "metadata": {},
   "outputs": [
    {
     "data": {
      "text/html": [
       "<style>#sk-container-id-2 {color: black;background-color: white;}#sk-container-id-2 pre{padding: 0;}#sk-container-id-2 div.sk-toggleable {background-color: white;}#sk-container-id-2 label.sk-toggleable__label {cursor: pointer;display: block;width: 100%;margin-bottom: 0;padding: 0.3em;box-sizing: border-box;text-align: center;}#sk-container-id-2 label.sk-toggleable__label-arrow:before {content: \"▸\";float: left;margin-right: 0.25em;color: #696969;}#sk-container-id-2 label.sk-toggleable__label-arrow:hover:before {color: black;}#sk-container-id-2 div.sk-estimator:hover label.sk-toggleable__label-arrow:before {color: black;}#sk-container-id-2 div.sk-toggleable__content {max-height: 0;max-width: 0;overflow: hidden;text-align: left;background-color: #f0f8ff;}#sk-container-id-2 div.sk-toggleable__content pre {margin: 0.2em;color: black;border-radius: 0.25em;background-color: #f0f8ff;}#sk-container-id-2 input.sk-toggleable__control:checked~div.sk-toggleable__content {max-height: 200px;max-width: 100%;overflow: auto;}#sk-container-id-2 input.sk-toggleable__control:checked~label.sk-toggleable__label-arrow:before {content: \"▾\";}#sk-container-id-2 div.sk-estimator input.sk-toggleable__control:checked~label.sk-toggleable__label {background-color: #d4ebff;}#sk-container-id-2 div.sk-label input.sk-toggleable__control:checked~label.sk-toggleable__label {background-color: #d4ebff;}#sk-container-id-2 input.sk-hidden--visually {border: 0;clip: rect(1px 1px 1px 1px);clip: rect(1px, 1px, 1px, 1px);height: 1px;margin: -1px;overflow: hidden;padding: 0;position: absolute;width: 1px;}#sk-container-id-2 div.sk-estimator {font-family: monospace;background-color: #f0f8ff;border: 1px dotted black;border-radius: 0.25em;box-sizing: border-box;margin-bottom: 0.5em;}#sk-container-id-2 div.sk-estimator:hover {background-color: #d4ebff;}#sk-container-id-2 div.sk-parallel-item::after {content: \"\";width: 100%;border-bottom: 1px solid gray;flex-grow: 1;}#sk-container-id-2 div.sk-label:hover label.sk-toggleable__label {background-color: #d4ebff;}#sk-container-id-2 div.sk-serial::before {content: \"\";position: absolute;border-left: 1px solid gray;box-sizing: border-box;top: 0;bottom: 0;left: 50%;z-index: 0;}#sk-container-id-2 div.sk-serial {display: flex;flex-direction: column;align-items: center;background-color: white;padding-right: 0.2em;padding-left: 0.2em;position: relative;}#sk-container-id-2 div.sk-item {position: relative;z-index: 1;}#sk-container-id-2 div.sk-parallel {display: flex;align-items: stretch;justify-content: center;background-color: white;position: relative;}#sk-container-id-2 div.sk-item::before, #sk-container-id-2 div.sk-parallel-item::before {content: \"\";position: absolute;border-left: 1px solid gray;box-sizing: border-box;top: 0;bottom: 0;left: 50%;z-index: -1;}#sk-container-id-2 div.sk-parallel-item {display: flex;flex-direction: column;z-index: 1;position: relative;background-color: white;}#sk-container-id-2 div.sk-parallel-item:first-child::after {align-self: flex-end;width: 50%;}#sk-container-id-2 div.sk-parallel-item:last-child::after {align-self: flex-start;width: 50%;}#sk-container-id-2 div.sk-parallel-item:only-child::after {width: 0;}#sk-container-id-2 div.sk-dashed-wrapped {border: 1px dashed gray;margin: 0 0.4em 0.5em 0.4em;box-sizing: border-box;padding-bottom: 0.4em;background-color: white;}#sk-container-id-2 div.sk-label label {font-family: monospace;font-weight: bold;display: inline-block;line-height: 1.2em;}#sk-container-id-2 div.sk-label-container {text-align: center;}#sk-container-id-2 div.sk-container {/* jupyter's `normalize.less` sets `[hidden] { display: none; }` but bootstrap.min.css set `[hidden] { display: none !important; }` so we also need the `!important` here to be able to override the default hidden behavior on the sphinx rendered scikit-learn.org. See: https://github.com/scikit-learn/scikit-learn/issues/21755 */display: inline-block !important;position: relative;}#sk-container-id-2 div.sk-text-repr-fallback {display: none;}</style><div id=\"sk-container-id-2\" class=\"sk-top-container\"><div class=\"sk-text-repr-fallback\"><pre>GridSearchCV(cv=5, estimator=DecisionTreeClassifier(), n_jobs=-1,\n",
       "             param_grid={&#x27;criterion&#x27;: [&#x27;gini&#x27;, &#x27;entropy&#x27;],\n",
       "                         &#x27;max_depth&#x27;: range(1, 30),\n",
       "                         &#x27;max_leaf_nodes&#x27;: range(1, 10),\n",
       "                         &#x27;min_samples_leaf&#x27;: range(1, 5),\n",
       "                         &#x27;min_samples_split&#x27;: range(5, 10)})</pre><b>In a Jupyter environment, please rerun this cell to show the HTML representation or trust the notebook. <br />On GitHub, the HTML representation is unable to render, please try loading this page with nbviewer.org.</b></div><div class=\"sk-container\" hidden><div class=\"sk-item sk-dashed-wrapped\"><div class=\"sk-label-container\"><div class=\"sk-label sk-toggleable\"><input class=\"sk-toggleable__control sk-hidden--visually\" id=\"sk-estimator-id-2\" type=\"checkbox\" ><label for=\"sk-estimator-id-2\" class=\"sk-toggleable__label sk-toggleable__label-arrow\">GridSearchCV</label><div class=\"sk-toggleable__content\"><pre>GridSearchCV(cv=5, estimator=DecisionTreeClassifier(), n_jobs=-1,\n",
       "             param_grid={&#x27;criterion&#x27;: [&#x27;gini&#x27;, &#x27;entropy&#x27;],\n",
       "                         &#x27;max_depth&#x27;: range(1, 30),\n",
       "                         &#x27;max_leaf_nodes&#x27;: range(1, 10),\n",
       "                         &#x27;min_samples_leaf&#x27;: range(1, 5),\n",
       "                         &#x27;min_samples_split&#x27;: range(5, 10)})</pre></div></div></div><div class=\"sk-parallel\"><div class=\"sk-parallel-item\"><div class=\"sk-item\"><div class=\"sk-label-container\"><div class=\"sk-label sk-toggleable\"><input class=\"sk-toggleable__control sk-hidden--visually\" id=\"sk-estimator-id-3\" type=\"checkbox\" ><label for=\"sk-estimator-id-3\" class=\"sk-toggleable__label sk-toggleable__label-arrow\">estimator: DecisionTreeClassifier</label><div class=\"sk-toggleable__content\"><pre>DecisionTreeClassifier()</pre></div></div></div><div class=\"sk-serial\"><div class=\"sk-item\"><div class=\"sk-estimator sk-toggleable\"><input class=\"sk-toggleable__control sk-hidden--visually\" id=\"sk-estimator-id-4\" type=\"checkbox\" ><label for=\"sk-estimator-id-4\" class=\"sk-toggleable__label sk-toggleable__label-arrow\">DecisionTreeClassifier</label><div class=\"sk-toggleable__content\"><pre>DecisionTreeClassifier()</pre></div></div></div></div></div></div></div></div></div></div>"
      ],
      "text/plain": [
       "GridSearchCV(cv=5, estimator=DecisionTreeClassifier(), n_jobs=-1,\n",
       "             param_grid={'criterion': ['gini', 'entropy'],\n",
       "                         'max_depth': range(1, 30),\n",
       "                         'max_leaf_nodes': range(1, 10),\n",
       "                         'min_samples_leaf': range(1, 5),\n",
       "                         'min_samples_split': range(5, 10)})"
      ]
     },
     "execution_count": 32,
     "metadata": {},
     "output_type": "execute_result"
    }
   ],
   "source": [
    "#pass dataset to train \n",
    "grid_search.fit(X_train_ns,y_train_ns)"
   ]
  },
  {
   "cell_type": "code",
   "execution_count": 33,
   "id": "182cb6fc",
   "metadata": {},
   "outputs": [
    {
     "name": "stdout",
     "output_type": "stream",
     "text": [
      "{'criterion': 'gini', 'max_depth': 5, 'max_leaf_nodes': 8, 'min_samples_leaf': 1, 'min_samples_split': 5}\n"
     ]
    }
   ],
   "source": [
    "# see best parameters\n",
    "best_parameters = grid_search.best_params_\n",
    "print(best_parameters)"
   ]
  },
  {
   "cell_type": "code",
   "execution_count": 36,
   "id": "bcae6f26",
   "metadata": {},
   "outputs": [
    {
     "data": {
      "text/html": [
       "<style>#sk-container-id-4 {color: black;background-color: white;}#sk-container-id-4 pre{padding: 0;}#sk-container-id-4 div.sk-toggleable {background-color: white;}#sk-container-id-4 label.sk-toggleable__label {cursor: pointer;display: block;width: 100%;margin-bottom: 0;padding: 0.3em;box-sizing: border-box;text-align: center;}#sk-container-id-4 label.sk-toggleable__label-arrow:before {content: \"▸\";float: left;margin-right: 0.25em;color: #696969;}#sk-container-id-4 label.sk-toggleable__label-arrow:hover:before {color: black;}#sk-container-id-4 div.sk-estimator:hover label.sk-toggleable__label-arrow:before {color: black;}#sk-container-id-4 div.sk-toggleable__content {max-height: 0;max-width: 0;overflow: hidden;text-align: left;background-color: #f0f8ff;}#sk-container-id-4 div.sk-toggleable__content pre {margin: 0.2em;color: black;border-radius: 0.25em;background-color: #f0f8ff;}#sk-container-id-4 input.sk-toggleable__control:checked~div.sk-toggleable__content {max-height: 200px;max-width: 100%;overflow: auto;}#sk-container-id-4 input.sk-toggleable__control:checked~label.sk-toggleable__label-arrow:before {content: \"▾\";}#sk-container-id-4 div.sk-estimator input.sk-toggleable__control:checked~label.sk-toggleable__label {background-color: #d4ebff;}#sk-container-id-4 div.sk-label input.sk-toggleable__control:checked~label.sk-toggleable__label {background-color: #d4ebff;}#sk-container-id-4 input.sk-hidden--visually {border: 0;clip: rect(1px 1px 1px 1px);clip: rect(1px, 1px, 1px, 1px);height: 1px;margin: -1px;overflow: hidden;padding: 0;position: absolute;width: 1px;}#sk-container-id-4 div.sk-estimator {font-family: monospace;background-color: #f0f8ff;border: 1px dotted black;border-radius: 0.25em;box-sizing: border-box;margin-bottom: 0.5em;}#sk-container-id-4 div.sk-estimator:hover {background-color: #d4ebff;}#sk-container-id-4 div.sk-parallel-item::after {content: \"\";width: 100%;border-bottom: 1px solid gray;flex-grow: 1;}#sk-container-id-4 div.sk-label:hover label.sk-toggleable__label {background-color: #d4ebff;}#sk-container-id-4 div.sk-serial::before {content: \"\";position: absolute;border-left: 1px solid gray;box-sizing: border-box;top: 0;bottom: 0;left: 50%;z-index: 0;}#sk-container-id-4 div.sk-serial {display: flex;flex-direction: column;align-items: center;background-color: white;padding-right: 0.2em;padding-left: 0.2em;position: relative;}#sk-container-id-4 div.sk-item {position: relative;z-index: 1;}#sk-container-id-4 div.sk-parallel {display: flex;align-items: stretch;justify-content: center;background-color: white;position: relative;}#sk-container-id-4 div.sk-item::before, #sk-container-id-4 div.sk-parallel-item::before {content: \"\";position: absolute;border-left: 1px solid gray;box-sizing: border-box;top: 0;bottom: 0;left: 50%;z-index: -1;}#sk-container-id-4 div.sk-parallel-item {display: flex;flex-direction: column;z-index: 1;position: relative;background-color: white;}#sk-container-id-4 div.sk-parallel-item:first-child::after {align-self: flex-end;width: 50%;}#sk-container-id-4 div.sk-parallel-item:last-child::after {align-self: flex-start;width: 50%;}#sk-container-id-4 div.sk-parallel-item:only-child::after {width: 0;}#sk-container-id-4 div.sk-dashed-wrapped {border: 1px dashed gray;margin: 0 0.4em 0.5em 0.4em;box-sizing: border-box;padding-bottom: 0.4em;background-color: white;}#sk-container-id-4 div.sk-label label {font-family: monospace;font-weight: bold;display: inline-block;line-height: 1.2em;}#sk-container-id-4 div.sk-label-container {text-align: center;}#sk-container-id-4 div.sk-container {/* jupyter's `normalize.less` sets `[hidden] { display: none; }` but bootstrap.min.css set `[hidden] { display: none !important; }` so we also need the `!important` here to be able to override the default hidden behavior on the sphinx rendered scikit-learn.org. See: https://github.com/scikit-learn/scikit-learn/issues/21755 */display: inline-block !important;position: relative;}#sk-container-id-4 div.sk-text-repr-fallback {display: none;}</style><div id=\"sk-container-id-4\" class=\"sk-top-container\"><div class=\"sk-text-repr-fallback\"><pre>DecisionTreeClassifier(max_depth=20, min_samples_split=5)</pre><b>In a Jupyter environment, please rerun this cell to show the HTML representation or trust the notebook. <br />On GitHub, the HTML representation is unable to render, please try loading this page with nbviewer.org.</b></div><div class=\"sk-container\" hidden><div class=\"sk-item\"><div class=\"sk-estimator sk-toggleable\"><input class=\"sk-toggleable__control sk-hidden--visually\" id=\"sk-estimator-id-6\" type=\"checkbox\" checked><label for=\"sk-estimator-id-6\" class=\"sk-toggleable__label sk-toggleable__label-arrow\">DecisionTreeClassifier</label><div class=\"sk-toggleable__content\"><pre>DecisionTreeClassifier(max_depth=20, min_samples_split=5)</pre></div></div></div></div></div>"
      ],
      "text/plain": [
       "DecisionTreeClassifier(max_depth=20, min_samples_split=5)"
      ]
     },
     "execution_count": 36,
     "metadata": {},
     "output_type": "execute_result"
    }
   ],
   "source": [
    "#initiate what new parameter we got\n",
    "\n",
    "clf_dt=DecisionTreeClassifier(criterion= 'gini', max_depth = 20, min_samples_leaf= 1, min_samples_split= 5)\n",
    "clf_dt.fit(X_train_ns,y_train_ns)\n",
    "\n",
    "#i tried different combination and i find this is best parameter so using this instead of gridsearch parameters"
   ]
  },
  {
   "cell_type": "code",
   "execution_count": 37,
   "id": "c41bbd11",
   "metadata": {},
   "outputs": [
    {
     "name": "stdout",
     "output_type": "stream",
     "text": [
      "====Training Score====\n",
      "Accuracy score : 98.165138%\n",
      "====Testing Score====\n",
      "Accuracy score : 90.250000%\n",
      "\n",
      " \n",
      " Classification report \n",
      "                precision    recall  f1-score   support\n",
      "\n",
      "           0       0.93      0.96      0.94       338\n",
      "           1       0.73      0.60      0.65        62\n",
      "\n",
      "    accuracy                           0.90       400\n",
      "   macro avg       0.83      0.78      0.80       400\n",
      "weighted avg       0.90      0.90      0.90       400\n",
      "\n"
     ]
    }
   ],
   "source": [
    "# call the function\n",
    "metric_score (clf_dt,X_train_ns,X_test,y_train_ns,y_test,train = True)\n",
    "metric_score (clf_dt,X_train_ns,X_test,y_train_ns,y_test,train=False)"
   ]
  },
  {
   "cell_type": "code",
   "execution_count": null,
   "id": "f5108d42",
   "metadata": {},
   "outputs": [],
   "source": [
    "# Training Score after Hyperparameter Tuning is 98.165138%\n",
    "# Testing Score after Hyperparameter Tuning is 90.250000%"
   ]
  },
  {
   "cell_type": "code",
   "execution_count": null,
   "id": "7d0b2460",
   "metadata": {},
   "outputs": [],
   "source": []
  },
  {
   "cell_type": "markdown",
   "id": "8dbc115c",
   "metadata": {},
   "source": [
    "# RandomForestClassifier"
   ]
  },
  {
   "cell_type": "code",
   "execution_count": 38,
   "id": "8e1766b2",
   "metadata": {},
   "outputs": [],
   "source": [
    "#import necessary library\n",
    "\n",
    "import pandas as pd\n",
    "import numpy as np\n",
    "from sklearn.model_selection import train_test_split,GridSearchCV\n",
    "from sklearn.preprocessing import StandardScaler\n",
    "from sklearn.ensemble import RandomForestClassifier #RandomForestRegressor if regression problem\n",
    "from sklearn.metrics import accuracy_score,confusion_matrix,classification_report\n",
    "import matplotlib.pyplot as plt\n",
    "import seaborn as sns\n",
    "\n",
    "import warnings\n",
    "warnings.filterwarnings('ignore')"
   ]
  },
  {
   "cell_type": "code",
   "execution_count": 39,
   "id": "00fe1ffd",
   "metadata": {},
   "outputs": [
    {
     "data": {
      "text/html": [
       "<div>\n",
       "<style scoped>\n",
       "    .dataframe tbody tr th:only-of-type {\n",
       "        vertical-align: middle;\n",
       "    }\n",
       "\n",
       "    .dataframe tbody tr th {\n",
       "        vertical-align: top;\n",
       "    }\n",
       "\n",
       "    .dataframe thead th {\n",
       "        text-align: right;\n",
       "    }\n",
       "</style>\n",
       "<table border=\"1\" class=\"dataframe\">\n",
       "  <thead>\n",
       "    <tr style=\"text-align: right;\">\n",
       "      <th></th>\n",
       "      <th>fixed acidity</th>\n",
       "      <th>volatile acidity</th>\n",
       "      <th>citric acid</th>\n",
       "      <th>residual sugar</th>\n",
       "      <th>chlorides</th>\n",
       "      <th>free sulfur dioxide</th>\n",
       "      <th>total sulfur dioxide</th>\n",
       "      <th>density</th>\n",
       "      <th>pH</th>\n",
       "      <th>sulphates</th>\n",
       "      <th>alcohol</th>\n",
       "      <th>quality</th>\n",
       "    </tr>\n",
       "  </thead>\n",
       "  <tbody>\n",
       "    <tr>\n",
       "      <th>0</th>\n",
       "      <td>7.4</td>\n",
       "      <td>0.70</td>\n",
       "      <td>0.00</td>\n",
       "      <td>1.9</td>\n",
       "      <td>0.076</td>\n",
       "      <td>11.0</td>\n",
       "      <td>34.0</td>\n",
       "      <td>0.9978</td>\n",
       "      <td>3.51</td>\n",
       "      <td>0.56</td>\n",
       "      <td>9.4</td>\n",
       "      <td>5</td>\n",
       "    </tr>\n",
       "    <tr>\n",
       "      <th>1</th>\n",
       "      <td>7.8</td>\n",
       "      <td>0.88</td>\n",
       "      <td>0.00</td>\n",
       "      <td>2.6</td>\n",
       "      <td>0.098</td>\n",
       "      <td>25.0</td>\n",
       "      <td>67.0</td>\n",
       "      <td>0.9968</td>\n",
       "      <td>3.20</td>\n",
       "      <td>0.68</td>\n",
       "      <td>9.8</td>\n",
       "      <td>5</td>\n",
       "    </tr>\n",
       "    <tr>\n",
       "      <th>2</th>\n",
       "      <td>7.8</td>\n",
       "      <td>0.76</td>\n",
       "      <td>0.04</td>\n",
       "      <td>2.3</td>\n",
       "      <td>0.092</td>\n",
       "      <td>15.0</td>\n",
       "      <td>54.0</td>\n",
       "      <td>0.9970</td>\n",
       "      <td>3.26</td>\n",
       "      <td>0.65</td>\n",
       "      <td>9.8</td>\n",
       "      <td>5</td>\n",
       "    </tr>\n",
       "    <tr>\n",
       "      <th>3</th>\n",
       "      <td>11.2</td>\n",
       "      <td>0.28</td>\n",
       "      <td>0.56</td>\n",
       "      <td>1.9</td>\n",
       "      <td>0.075</td>\n",
       "      <td>17.0</td>\n",
       "      <td>60.0</td>\n",
       "      <td>0.9980</td>\n",
       "      <td>3.16</td>\n",
       "      <td>0.58</td>\n",
       "      <td>9.8</td>\n",
       "      <td>6</td>\n",
       "    </tr>\n",
       "    <tr>\n",
       "      <th>4</th>\n",
       "      <td>7.4</td>\n",
       "      <td>0.70</td>\n",
       "      <td>0.00</td>\n",
       "      <td>1.9</td>\n",
       "      <td>0.076</td>\n",
       "      <td>11.0</td>\n",
       "      <td>34.0</td>\n",
       "      <td>0.9978</td>\n",
       "      <td>3.51</td>\n",
       "      <td>0.56</td>\n",
       "      <td>9.4</td>\n",
       "      <td>5</td>\n",
       "    </tr>\n",
       "  </tbody>\n",
       "</table>\n",
       "</div>"
      ],
      "text/plain": [
       "   fixed acidity  volatile acidity  citric acid  residual sugar  chlorides  \\\n",
       "0            7.4              0.70         0.00             1.9      0.076   \n",
       "1            7.8              0.88         0.00             2.6      0.098   \n",
       "2            7.8              0.76         0.04             2.3      0.092   \n",
       "3           11.2              0.28         0.56             1.9      0.075   \n",
       "4            7.4              0.70         0.00             1.9      0.076   \n",
       "\n",
       "   free sulfur dioxide  total sulfur dioxide  density    pH  sulphates  \\\n",
       "0                 11.0                  34.0   0.9978  3.51       0.56   \n",
       "1                 25.0                  67.0   0.9968  3.20       0.68   \n",
       "2                 15.0                  54.0   0.9970  3.26       0.65   \n",
       "3                 17.0                  60.0   0.9980  3.16       0.58   \n",
       "4                 11.0                  34.0   0.9978  3.51       0.56   \n",
       "\n",
       "   alcohol  quality  \n",
       "0      9.4        5  \n",
       "1      9.8        5  \n",
       "2      9.8        5  \n",
       "3      9.8        6  \n",
       "4      9.4        5  "
      ]
     },
     "execution_count": 39,
     "metadata": {},
     "output_type": "execute_result"
    }
   ],
   "source": [
    "#import dataset\n",
    "data = pd.read_csv('winequality-red.csv')\n",
    "data.head()"
   ]
  },
  {
   "cell_type": "code",
   "execution_count": 40,
   "id": "5b0c9976",
   "metadata": {},
   "outputs": [
    {
     "data": {
      "text/plain": [
       "array([5, 6, 7, 4, 8, 3], dtype=int64)"
      ]
     },
     "execution_count": 40,
     "metadata": {},
     "output_type": "execute_result"
    }
   ],
   "source": [
    "# checking unique values present \n",
    "data['quality'].unique()"
   ]
  },
  {
   "cell_type": "code",
   "execution_count": 41,
   "id": "63b52ea7",
   "metadata": {},
   "outputs": [],
   "source": [
    "#replacing 3 to 0\n",
    "data['quality']=data['quality'].replace(3,0)\n",
    "#replacing 4 to 0\n",
    "data['quality']=data['quality'].replace(4,0)\n",
    "#replacing 5 to 0\n",
    "data['quality']=data['quality'].replace(5,0)\n",
    "#replacing 6 to 0\n",
    "data['quality']=data['quality'].replace(6,0)\n",
    "#replacing 7 to 1\n",
    "data['quality']=data['quality'].replace(7,1)\n",
    "#replacing 8 to 1\n",
    "data['quality']=data['quality'].replace(8,1)"
   ]
  },
  {
   "cell_type": "code",
   "execution_count": 42,
   "id": "f158d45e",
   "metadata": {},
   "outputs": [
    {
     "data": {
      "text/plain": [
       "0    1382\n",
       "1     217\n",
       "Name: quality, dtype: int64"
      ]
     },
     "execution_count": 42,
     "metadata": {},
     "output_type": "execute_result"
    }
   ],
   "source": [
    "data['quality'].value_counts()"
   ]
  },
  {
   "cell_type": "code",
   "execution_count": 43,
   "id": "edabbe73",
   "metadata": {},
   "outputs": [],
   "source": [
    "# seperate label n feature\n",
    "X=data.drop('quality' , axis=1)\n",
    "y=data.quality"
   ]
  },
  {
   "cell_type": "code",
   "execution_count": 44,
   "id": "5eb89a4f",
   "metadata": {},
   "outputs": [],
   "source": [
    "X_train,X_test,y_train,y_test=train_test_split(X,y,train_size=0.75,random_state=41)"
   ]
  },
  {
   "cell_type": "code",
   "execution_count": 45,
   "id": "9947122e",
   "metadata": {},
   "outputs": [
    {
     "data": {
      "text/plain": [
       "Counter({0: 1043, 1: 156})"
      ]
     },
     "execution_count": 45,
     "metadata": {},
     "output_type": "execute_result"
    }
   ],
   "source": [
    "#to see how much data is going to y_train set\n",
    "from collections import Counter\n",
    "Counter(y_train)"
   ]
  },
  {
   "cell_type": "code",
   "execution_count": 46,
   "id": "1c4c6c38",
   "metadata": {},
   "outputs": [],
   "source": [
    "#balancing the dataset using upsampling or Oversampling technique (SMOTE)\n",
    "from imblearn.over_sampling import SMOTE"
   ]
  },
  {
   "cell_type": "code",
   "execution_count": 47,
   "id": "52595959",
   "metadata": {},
   "outputs": [
    {
     "name": "stdout",
     "output_type": "stream",
     "text": [
      "the number of classes before fit:  Counter({0: 1043, 1: 156})\n",
      "the number of classes after fit:  Counter({0: 1043, 1: 782})\n"
     ]
    }
   ],
   "source": [
    "# coding for SMOTE\n",
    "ove_smp=SMOTE(0.75)  # how much extra data you want\n",
    "X_train_ns,y_train_ns=ove_smp.fit_resample(X_train,y_train)\n",
    "print('the number of classes before fit: ',format(Counter(y_train)))\n",
    "print('the number of classes after fit: ',format(Counter(y_train_ns)))\n",
    "\n",
    "\n",
    "# and for future we pass X_train_ns,X_test,y_train_ns,y_test=train_test_split"
   ]
  },
  {
   "cell_type": "code",
   "execution_count": 48,
   "id": "322c570f",
   "metadata": {},
   "outputs": [
    {
     "data": {
      "text/plain": [
       "(1599, 12)"
      ]
     },
     "execution_count": 48,
     "metadata": {},
     "output_type": "execute_result"
    }
   ],
   "source": [
    "data.shape"
   ]
  },
  {
   "cell_type": "code",
   "execution_count": 49,
   "id": "66b2d024",
   "metadata": {},
   "outputs": [
    {
     "data": {
      "text/html": [
       "<div>\n",
       "<style scoped>\n",
       "    .dataframe tbody tr th:only-of-type {\n",
       "        vertical-align: middle;\n",
       "    }\n",
       "\n",
       "    .dataframe tbody tr th {\n",
       "        vertical-align: top;\n",
       "    }\n",
       "\n",
       "    .dataframe thead th {\n",
       "        text-align: right;\n",
       "    }\n",
       "</style>\n",
       "<table border=\"1\" class=\"dataframe\">\n",
       "  <thead>\n",
       "    <tr style=\"text-align: right;\">\n",
       "      <th></th>\n",
       "      <th>fixed acidity</th>\n",
       "      <th>volatile acidity</th>\n",
       "      <th>citric acid</th>\n",
       "      <th>residual sugar</th>\n",
       "      <th>chlorides</th>\n",
       "      <th>free sulfur dioxide</th>\n",
       "      <th>total sulfur dioxide</th>\n",
       "      <th>density</th>\n",
       "      <th>pH</th>\n",
       "      <th>sulphates</th>\n",
       "      <th>alcohol</th>\n",
       "      <th>quality</th>\n",
       "    </tr>\n",
       "  </thead>\n",
       "  <tbody>\n",
       "    <tr>\n",
       "      <th>count</th>\n",
       "      <td>1599.000000</td>\n",
       "      <td>1599.000000</td>\n",
       "      <td>1599.000000</td>\n",
       "      <td>1599.000000</td>\n",
       "      <td>1599.000000</td>\n",
       "      <td>1599.000000</td>\n",
       "      <td>1599.000000</td>\n",
       "      <td>1599.000000</td>\n",
       "      <td>1599.000000</td>\n",
       "      <td>1599.000000</td>\n",
       "      <td>1599.000000</td>\n",
       "      <td>1599.000000</td>\n",
       "    </tr>\n",
       "    <tr>\n",
       "      <th>mean</th>\n",
       "      <td>8.319637</td>\n",
       "      <td>0.527821</td>\n",
       "      <td>0.270976</td>\n",
       "      <td>2.538806</td>\n",
       "      <td>0.087467</td>\n",
       "      <td>15.874922</td>\n",
       "      <td>46.467792</td>\n",
       "      <td>0.996747</td>\n",
       "      <td>3.311113</td>\n",
       "      <td>0.658149</td>\n",
       "      <td>10.422983</td>\n",
       "      <td>0.135710</td>\n",
       "    </tr>\n",
       "    <tr>\n",
       "      <th>std</th>\n",
       "      <td>1.741096</td>\n",
       "      <td>0.179060</td>\n",
       "      <td>0.194801</td>\n",
       "      <td>1.409928</td>\n",
       "      <td>0.047065</td>\n",
       "      <td>10.460157</td>\n",
       "      <td>32.895324</td>\n",
       "      <td>0.001887</td>\n",
       "      <td>0.154386</td>\n",
       "      <td>0.169507</td>\n",
       "      <td>1.065668</td>\n",
       "      <td>0.342587</td>\n",
       "    </tr>\n",
       "    <tr>\n",
       "      <th>min</th>\n",
       "      <td>4.600000</td>\n",
       "      <td>0.120000</td>\n",
       "      <td>0.000000</td>\n",
       "      <td>0.900000</td>\n",
       "      <td>0.012000</td>\n",
       "      <td>1.000000</td>\n",
       "      <td>6.000000</td>\n",
       "      <td>0.990070</td>\n",
       "      <td>2.740000</td>\n",
       "      <td>0.330000</td>\n",
       "      <td>8.400000</td>\n",
       "      <td>0.000000</td>\n",
       "    </tr>\n",
       "    <tr>\n",
       "      <th>25%</th>\n",
       "      <td>7.100000</td>\n",
       "      <td>0.390000</td>\n",
       "      <td>0.090000</td>\n",
       "      <td>1.900000</td>\n",
       "      <td>0.070000</td>\n",
       "      <td>7.000000</td>\n",
       "      <td>22.000000</td>\n",
       "      <td>0.995600</td>\n",
       "      <td>3.210000</td>\n",
       "      <td>0.550000</td>\n",
       "      <td>9.500000</td>\n",
       "      <td>0.000000</td>\n",
       "    </tr>\n",
       "    <tr>\n",
       "      <th>50%</th>\n",
       "      <td>7.900000</td>\n",
       "      <td>0.520000</td>\n",
       "      <td>0.260000</td>\n",
       "      <td>2.200000</td>\n",
       "      <td>0.079000</td>\n",
       "      <td>14.000000</td>\n",
       "      <td>38.000000</td>\n",
       "      <td>0.996750</td>\n",
       "      <td>3.310000</td>\n",
       "      <td>0.620000</td>\n",
       "      <td>10.200000</td>\n",
       "      <td>0.000000</td>\n",
       "    </tr>\n",
       "    <tr>\n",
       "      <th>75%</th>\n",
       "      <td>9.200000</td>\n",
       "      <td>0.640000</td>\n",
       "      <td>0.420000</td>\n",
       "      <td>2.600000</td>\n",
       "      <td>0.090000</td>\n",
       "      <td>21.000000</td>\n",
       "      <td>62.000000</td>\n",
       "      <td>0.997835</td>\n",
       "      <td>3.400000</td>\n",
       "      <td>0.730000</td>\n",
       "      <td>11.100000</td>\n",
       "      <td>0.000000</td>\n",
       "    </tr>\n",
       "    <tr>\n",
       "      <th>max</th>\n",
       "      <td>15.900000</td>\n",
       "      <td>1.580000</td>\n",
       "      <td>1.000000</td>\n",
       "      <td>15.500000</td>\n",
       "      <td>0.611000</td>\n",
       "      <td>72.000000</td>\n",
       "      <td>289.000000</td>\n",
       "      <td>1.003690</td>\n",
       "      <td>4.010000</td>\n",
       "      <td>2.000000</td>\n",
       "      <td>14.900000</td>\n",
       "      <td>1.000000</td>\n",
       "    </tr>\n",
       "  </tbody>\n",
       "</table>\n",
       "</div>"
      ],
      "text/plain": [
       "       fixed acidity  volatile acidity  citric acid  residual sugar  \\\n",
       "count    1599.000000       1599.000000  1599.000000     1599.000000   \n",
       "mean        8.319637          0.527821     0.270976        2.538806   \n",
       "std         1.741096          0.179060     0.194801        1.409928   \n",
       "min         4.600000          0.120000     0.000000        0.900000   \n",
       "25%         7.100000          0.390000     0.090000        1.900000   \n",
       "50%         7.900000          0.520000     0.260000        2.200000   \n",
       "75%         9.200000          0.640000     0.420000        2.600000   \n",
       "max        15.900000          1.580000     1.000000       15.500000   \n",
       "\n",
       "         chlorides  free sulfur dioxide  total sulfur dioxide      density  \\\n",
       "count  1599.000000          1599.000000           1599.000000  1599.000000   \n",
       "mean      0.087467            15.874922             46.467792     0.996747   \n",
       "std       0.047065            10.460157             32.895324     0.001887   \n",
       "min       0.012000             1.000000              6.000000     0.990070   \n",
       "25%       0.070000             7.000000             22.000000     0.995600   \n",
       "50%       0.079000            14.000000             38.000000     0.996750   \n",
       "75%       0.090000            21.000000             62.000000     0.997835   \n",
       "max       0.611000            72.000000            289.000000     1.003690   \n",
       "\n",
       "                pH    sulphates      alcohol      quality  \n",
       "count  1599.000000  1599.000000  1599.000000  1599.000000  \n",
       "mean      3.311113     0.658149    10.422983     0.135710  \n",
       "std       0.154386     0.169507     1.065668     0.342587  \n",
       "min       2.740000     0.330000     8.400000     0.000000  \n",
       "25%       3.210000     0.550000     9.500000     0.000000  \n",
       "50%       3.310000     0.620000    10.200000     0.000000  \n",
       "75%       3.400000     0.730000    11.100000     0.000000  \n",
       "max       4.010000     2.000000    14.900000     1.000000  "
      ]
     },
     "execution_count": 49,
     "metadata": {},
     "output_type": "execute_result"
    }
   ],
   "source": [
    "#describe dataset\n",
    "data.describe()"
   ]
  },
  {
   "cell_type": "code",
   "execution_count": 50,
   "id": "25f82039",
   "metadata": {},
   "outputs": [
    {
     "data": {
      "text/plain": [
       "fixed acidity           0\n",
       "volatile acidity        0\n",
       "citric acid             0\n",
       "residual sugar          0\n",
       "chlorides               0\n",
       "free sulfur dioxide     0\n",
       "total sulfur dioxide    0\n",
       "density                 0\n",
       "pH                      0\n",
       "sulphates               0\n",
       "alcohol                 0\n",
       "quality                 0\n",
       "dtype: int64"
      ]
     },
     "execution_count": 50,
     "metadata": {},
     "output_type": "execute_result"
    }
   ],
   "source": [
    "# checking null values\n",
    "data.isnull().sum()"
   ]
  },
  {
   "cell_type": "code",
   "execution_count": 51,
   "id": "d87fea53",
   "metadata": {},
   "outputs": [],
   "source": [
    "#observations\n",
    "# 1) there is no null values present in dataset\n",
    "# 2) there is no problem in dataset \n",
    "# 3) residual sugar and total sulfur dioxide i suspect some skewness we will see"
   ]
  },
  {
   "cell_type": "code",
   "execution_count": 52,
   "id": "2ff1d8cc",
   "metadata": {},
   "outputs": [],
   "source": [
    "# from scipy import stats\n",
    "\n",
    "from scipy.stats import zscore"
   ]
  },
  {
   "cell_type": "code",
   "execution_count": 53,
   "id": "a09b1f18",
   "metadata": {},
   "outputs": [
    {
     "data": {
      "text/html": [
       "<div>\n",
       "<style scoped>\n",
       "    .dataframe tbody tr th:only-of-type {\n",
       "        vertical-align: middle;\n",
       "    }\n",
       "\n",
       "    .dataframe tbody tr th {\n",
       "        vertical-align: top;\n",
       "    }\n",
       "\n",
       "    .dataframe thead th {\n",
       "        text-align: right;\n",
       "    }\n",
       "</style>\n",
       "<table border=\"1\" class=\"dataframe\">\n",
       "  <thead>\n",
       "    <tr style=\"text-align: right;\">\n",
       "      <th></th>\n",
       "      <th>fixed acidity</th>\n",
       "      <th>volatile acidity</th>\n",
       "      <th>citric acid</th>\n",
       "      <th>residual sugar</th>\n",
       "      <th>chlorides</th>\n",
       "      <th>free sulfur dioxide</th>\n",
       "      <th>total sulfur dioxide</th>\n",
       "      <th>density</th>\n",
       "      <th>pH</th>\n",
       "      <th>sulphates</th>\n",
       "      <th>alcohol</th>\n",
       "      <th>quality</th>\n",
       "    </tr>\n",
       "  </thead>\n",
       "  <tbody>\n",
       "    <tr>\n",
       "      <th>count</th>\n",
       "      <td>1458.000000</td>\n",
       "      <td>1458.000000</td>\n",
       "      <td>1458.000000</td>\n",
       "      <td>1458.000000</td>\n",
       "      <td>1458.000000</td>\n",
       "      <td>1458.000000</td>\n",
       "      <td>1458.000000</td>\n",
       "      <td>1458.000000</td>\n",
       "      <td>1458.000000</td>\n",
       "      <td>1458.000000</td>\n",
       "      <td>1458.000000</td>\n",
       "      <td>1458.000000</td>\n",
       "    </tr>\n",
       "    <tr>\n",
       "      <th>mean</th>\n",
       "      <td>8.312551</td>\n",
       "      <td>0.524050</td>\n",
       "      <td>0.265281</td>\n",
       "      <td>2.388717</td>\n",
       "      <td>0.081531</td>\n",
       "      <td>15.089849</td>\n",
       "      <td>43.660494</td>\n",
       "      <td>0.996718</td>\n",
       "      <td>3.316152</td>\n",
       "      <td>0.642414</td>\n",
       "      <td>10.417798</td>\n",
       "      <td>0.137860</td>\n",
       "    </tr>\n",
       "    <tr>\n",
       "      <th>std</th>\n",
       "      <td>1.647635</td>\n",
       "      <td>0.169451</td>\n",
       "      <td>0.191271</td>\n",
       "      <td>0.865307</td>\n",
       "      <td>0.021218</td>\n",
       "      <td>9.317669</td>\n",
       "      <td>29.414615</td>\n",
       "      <td>0.001718</td>\n",
       "      <td>0.141052</td>\n",
       "      <td>0.129753</td>\n",
       "      <td>1.021649</td>\n",
       "      <td>0.344871</td>\n",
       "    </tr>\n",
       "    <tr>\n",
       "      <th>min</th>\n",
       "      <td>5.000000</td>\n",
       "      <td>0.120000</td>\n",
       "      <td>0.000000</td>\n",
       "      <td>1.200000</td>\n",
       "      <td>0.038000</td>\n",
       "      <td>1.000000</td>\n",
       "      <td>6.000000</td>\n",
       "      <td>0.991500</td>\n",
       "      <td>2.880000</td>\n",
       "      <td>0.330000</td>\n",
       "      <td>8.400000</td>\n",
       "      <td>0.000000</td>\n",
       "    </tr>\n",
       "    <tr>\n",
       "      <th>25%</th>\n",
       "      <td>7.100000</td>\n",
       "      <td>0.390000</td>\n",
       "      <td>0.090000</td>\n",
       "      <td>1.900000</td>\n",
       "      <td>0.070000</td>\n",
       "      <td>7.000000</td>\n",
       "      <td>21.000000</td>\n",
       "      <td>0.995600</td>\n",
       "      <td>3.220000</td>\n",
       "      <td>0.550000</td>\n",
       "      <td>9.500000</td>\n",
       "      <td>0.000000</td>\n",
       "    </tr>\n",
       "    <tr>\n",
       "      <th>50%</th>\n",
       "      <td>7.900000</td>\n",
       "      <td>0.520000</td>\n",
       "      <td>0.250000</td>\n",
       "      <td>2.200000</td>\n",
       "      <td>0.079000</td>\n",
       "      <td>13.000000</td>\n",
       "      <td>36.000000</td>\n",
       "      <td>0.996700</td>\n",
       "      <td>3.315000</td>\n",
       "      <td>0.620000</td>\n",
       "      <td>10.200000</td>\n",
       "      <td>0.000000</td>\n",
       "    </tr>\n",
       "    <tr>\n",
       "      <th>75%</th>\n",
       "      <td>9.200000</td>\n",
       "      <td>0.635000</td>\n",
       "      <td>0.420000</td>\n",
       "      <td>2.600000</td>\n",
       "      <td>0.089000</td>\n",
       "      <td>21.000000</td>\n",
       "      <td>58.000000</td>\n",
       "      <td>0.997800</td>\n",
       "      <td>3.400000</td>\n",
       "      <td>0.720000</td>\n",
       "      <td>11.100000</td>\n",
       "      <td>0.000000</td>\n",
       "    </tr>\n",
       "    <tr>\n",
       "      <th>max</th>\n",
       "      <td>13.500000</td>\n",
       "      <td>1.040000</td>\n",
       "      <td>0.790000</td>\n",
       "      <td>6.700000</td>\n",
       "      <td>0.226000</td>\n",
       "      <td>47.000000</td>\n",
       "      <td>145.000000</td>\n",
       "      <td>1.002200</td>\n",
       "      <td>3.750000</td>\n",
       "      <td>1.160000</td>\n",
       "      <td>13.600000</td>\n",
       "      <td>1.000000</td>\n",
       "    </tr>\n",
       "  </tbody>\n",
       "</table>\n",
       "</div>"
      ],
      "text/plain": [
       "       fixed acidity  volatile acidity  citric acid  residual sugar  \\\n",
       "count    1458.000000       1458.000000  1458.000000     1458.000000   \n",
       "mean        8.312551          0.524050     0.265281        2.388717   \n",
       "std         1.647635          0.169451     0.191271        0.865307   \n",
       "min         5.000000          0.120000     0.000000        1.200000   \n",
       "25%         7.100000          0.390000     0.090000        1.900000   \n",
       "50%         7.900000          0.520000     0.250000        2.200000   \n",
       "75%         9.200000          0.635000     0.420000        2.600000   \n",
       "max        13.500000          1.040000     0.790000        6.700000   \n",
       "\n",
       "         chlorides  free sulfur dioxide  total sulfur dioxide      density  \\\n",
       "count  1458.000000          1458.000000           1458.000000  1458.000000   \n",
       "mean      0.081531            15.089849             43.660494     0.996718   \n",
       "std       0.021218             9.317669             29.414615     0.001718   \n",
       "min       0.038000             1.000000              6.000000     0.991500   \n",
       "25%       0.070000             7.000000             21.000000     0.995600   \n",
       "50%       0.079000            13.000000             36.000000     0.996700   \n",
       "75%       0.089000            21.000000             58.000000     0.997800   \n",
       "max       0.226000            47.000000            145.000000     1.002200   \n",
       "\n",
       "                pH    sulphates      alcohol      quality  \n",
       "count  1458.000000  1458.000000  1458.000000  1458.000000  \n",
       "mean      3.316152     0.642414    10.417798     0.137860  \n",
       "std       0.141052     0.129753     1.021649     0.344871  \n",
       "min       2.880000     0.330000     8.400000     0.000000  \n",
       "25%       3.220000     0.550000     9.500000     0.000000  \n",
       "50%       3.315000     0.620000    10.200000     0.000000  \n",
       "75%       3.400000     0.720000    11.100000     0.000000  \n",
       "max       3.750000     1.160000    13.600000     1.000000  "
      ]
     },
     "execution_count": 53,
     "metadata": {},
     "output_type": "execute_result"
    }
   ],
   "source": [
    "# new code for deleting outlier here we take std = 3\n",
    "z_score = zscore(X)\n",
    "abs_z_score = np.abs(z_score)\n",
    "\n",
    "filtering_entry = (abs_z_score < 3 ).all(axis=1)\n",
    "\n",
    "data = data[filtering_entry]\n",
    "\n",
    "data.describe()"
   ]
  },
  {
   "cell_type": "code",
   "execution_count": 55,
   "id": "8fe08bee",
   "metadata": {},
   "outputs": [
    {
     "data": {
      "text/plain": [
       "(1458, 12)"
      ]
     },
     "execution_count": 55,
     "metadata": {},
     "output_type": "execute_result"
    }
   ],
   "source": [
    "data.shape"
   ]
  },
  {
   "cell_type": "code",
   "execution_count": 59,
   "id": "882bf229",
   "metadata": {},
   "outputs": [
    {
     "data": {
      "image/png": "[encoded data removed]",
      "text/plain": [
       "<Figure size 1440x1080 with 2 Axes>"
      ]
     },
     "metadata": {
      "needs_background": "light"
     },
     "output_type": "display_data"
    }
   ],
   "source": [
    "# check for multicollinarity problem exist or not using heat map\n",
    "\n",
    "df_corr = data.corr().abs()\n",
    "plt.figure(figsize=(20,15))\n",
    "sns.heatmap (df_corr , annot = True , annot_kws = {'size':10}\n",
    "            )\n",
    "plt.show()"
   ]
  },
  {
   "cell_type": "code",
   "execution_count": 58,
   "id": "f757d153",
   "metadata": {},
   "outputs": [],
   "source": [
    "#1)  now in heatmap here we see all relationship featue vs feature and feature vs label\n",
    "#2) darker is less reationship and lighter is higher relation ship\n",
    "#3) for multicollinerity we have to take higher relationship ,,  \n",
    "#4)for example i assume more than 75% relationship then there is multicollinear can be exist im basically suspecting \n",
    "#5) after seeing all the data there is no such multicollinear problem exist so going forward"
   ]
  },
  {
   "cell_type": "code",
   "execution_count": 65,
   "id": "042f5ed9",
   "metadata": {},
   "outputs": [
    {
     "name": "stdout",
     "output_type": "stream",
     "text": [
      "Testing Accuracy 0.865 RandomState 1\n",
      "\n",
      "\n",
      "MAXINING TESTING SCORE 0.865 ON RANDOM STATE OF 1\n",
      "Testing Accuracy 0.8525 RandomState 2\n",
      "\n",
      "\n",
      "Testing Accuracy 0.905 RandomState 3\n",
      "\n",
      "\n",
      "MAXINING TESTING SCORE 0.905 ON RANDOM STATE OF 3\n",
      "Testing Accuracy 0.8875 RandomState 4\n",
      "\n",
      "\n",
      "Testing Accuracy 0.8675 RandomState 5\n",
      "\n",
      "\n",
      "Testing Accuracy 0.89 RandomState 6\n",
      "\n",
      "\n",
      "Testing Accuracy 0.845 RandomState 7\n",
      "\n",
      "\n",
      "Testing Accuracy 0.865 RandomState 8\n",
      "\n",
      "\n",
      "Testing Accuracy 0.8775 RandomState 9\n",
      "\n",
      "\n",
      "Testing Accuracy 0.845 RandomState 10\n",
      "\n",
      "\n",
      "Testing Accuracy 0.89 RandomState 11\n",
      "\n",
      "\n",
      "Testing Accuracy 0.875 RandomState 12\n",
      "\n",
      "\n",
      "Testing Accuracy 0.87 RandomState 13\n",
      "\n",
      "\n",
      "Testing Accuracy 0.88 RandomState 14\n",
      "\n",
      "\n",
      "Testing Accuracy 0.8875 RandomState 15\n",
      "\n",
      "\n",
      "Testing Accuracy 0.8775 RandomState 16\n",
      "\n",
      "\n",
      "Testing Accuracy 0.8625 RandomState 17\n",
      "\n",
      "\n",
      "Testing Accuracy 0.865 RandomState 18\n",
      "\n",
      "\n",
      "Testing Accuracy 0.8675 RandomState 19\n",
      "\n",
      "\n",
      "Testing Accuracy 0.87 RandomState 20\n",
      "\n",
      "\n",
      "Testing Accuracy 0.8775 RandomState 21\n",
      "\n",
      "\n",
      "Testing Accuracy 0.895 RandomState 22\n",
      "\n",
      "\n",
      "Testing Accuracy 0.8825 RandomState 23\n",
      "\n",
      "\n",
      "Testing Accuracy 0.8725 RandomState 24\n",
      "\n",
      "\n",
      "Testing Accuracy 0.8425 RandomState 25\n",
      "\n",
      "\n",
      "Testing Accuracy 0.91 RandomState 26\n",
      "\n",
      "\n",
      "MAXINING TESTING SCORE 0.91 ON RANDOM STATE OF 26\n",
      "Testing Accuracy 0.865 RandomState 27\n",
      "\n",
      "\n",
      "Testing Accuracy 0.8625 RandomState 28\n",
      "\n",
      "\n",
      "Testing Accuracy 0.8725 RandomState 29\n",
      "\n",
      "\n",
      "Testing Accuracy 0.84 RandomState 30\n",
      "\n",
      "\n",
      "Testing Accuracy 0.8975 RandomState 31\n",
      "\n",
      "\n",
      "Testing Accuracy 0.8775 RandomState 32\n",
      "\n",
      "\n",
      "Testing Accuracy 0.8525 RandomState 33\n",
      "\n",
      "\n",
      "Testing Accuracy 0.8675 RandomState 34\n",
      "\n",
      "\n",
      "Testing Accuracy 0.8575 RandomState 35\n",
      "\n",
      "\n",
      "Testing Accuracy 0.8475 RandomState 36\n",
      "\n",
      "\n",
      "Testing Accuracy 0.8675 RandomState 37\n",
      "\n",
      "\n",
      "Testing Accuracy 0.8875 RandomState 38\n",
      "\n",
      "\n",
      "Testing Accuracy 0.8825 RandomState 39\n",
      "\n",
      "\n",
      "Testing Accuracy 0.895 RandomState 40\n",
      "\n",
      "\n",
      "Testing Accuracy 0.8775 RandomState 41\n",
      "\n",
      "\n",
      "Testing Accuracy 0.895 RandomState 42\n",
      "\n",
      "\n",
      "Testing Accuracy 0.8675 RandomState 43\n",
      "\n",
      "\n",
      "Testing Accuracy 0.87 RandomState 44\n",
      "\n",
      "\n",
      "Testing Accuracy 0.8425 RandomState 45\n",
      "\n",
      "\n",
      "Testing Accuracy 0.84 RandomState 46\n",
      "\n",
      "\n",
      "Testing Accuracy 0.855 RandomState 47\n",
      "\n",
      "\n",
      "Testing Accuracy 0.885 RandomState 48\n",
      "\n",
      "\n",
      "Testing Accuracy 0.87 RandomState 49\n",
      "\n",
      "\n",
      "Testing Accuracy 0.905 RandomState 50\n",
      "\n",
      "\n",
      "Testing Accuracy 0.895 RandomState 51\n",
      "\n",
      "\n",
      "Testing Accuracy 0.86 RandomState 52\n",
      "\n",
      "\n",
      "Testing Accuracy 0.8775 RandomState 53\n",
      "\n",
      "\n",
      "Testing Accuracy 0.895 RandomState 54\n",
      "\n",
      "\n",
      "Testing Accuracy 0.89 RandomState 55\n",
      "\n",
      "\n",
      "Testing Accuracy 0.9 RandomState 56\n",
      "\n",
      "\n",
      "Testing Accuracy 0.86 RandomState 57\n",
      "\n",
      "\n",
      "Testing Accuracy 0.835 RandomState 58\n",
      "\n",
      "\n",
      "Testing Accuracy 0.8625 RandomState 59\n",
      "\n",
      "\n",
      "Testing Accuracy 0.8425 RandomState 60\n",
      "\n",
      "\n",
      "Testing Accuracy 0.895 RandomState 61\n",
      "\n",
      "\n",
      "Testing Accuracy 0.8775 RandomState 62\n",
      "\n",
      "\n",
      "Testing Accuracy 0.8325 RandomState 63\n",
      "\n",
      "\n",
      "Testing Accuracy 0.8725 RandomState 64\n",
      "\n",
      "\n",
      "Testing Accuracy 0.8525 RandomState 65\n",
      "\n",
      "\n",
      "Testing Accuracy 0.865 RandomState 66\n",
      "\n",
      "\n",
      "Testing Accuracy 0.89 RandomState 67\n",
      "\n",
      "\n",
      "Testing Accuracy 0.8925 RandomState 68\n",
      "\n",
      "\n",
      "Testing Accuracy 0.885 RandomState 69\n",
      "\n",
      "\n",
      "Testing Accuracy 0.875 RandomState 70\n",
      "\n",
      "\n",
      "Testing Accuracy 0.88 RandomState 71\n",
      "\n",
      "\n",
      "Testing Accuracy 0.87 RandomState 72\n",
      "\n",
      "\n",
      "Testing Accuracy 0.8425 RandomState 73\n",
      "\n",
      "\n",
      "Testing Accuracy 0.9025 RandomState 74\n",
      "\n",
      "\n",
      "Testing Accuracy 0.87 RandomState 75\n",
      "\n",
      "\n",
      "Testing Accuracy 0.8825 RandomState 76\n",
      "\n",
      "\n",
      "Testing Accuracy 0.8975 RandomState 77\n",
      "\n",
      "\n",
      "Testing Accuracy 0.895 RandomState 78\n",
      "\n",
      "\n",
      "Testing Accuracy 0.85 RandomState 79\n",
      "\n",
      "\n",
      "Testing Accuracy 0.8925 RandomState 80\n",
      "\n",
      "\n",
      "Testing Accuracy 0.8925 RandomState 81\n",
      "\n",
      "\n",
      "Testing Accuracy 0.8625 RandomState 82\n",
      "\n",
      "\n",
      "Testing Accuracy 0.9125 RandomState 83\n",
      "\n",
      "\n",
      "MAXINING TESTING SCORE 0.9125 ON RANDOM STATE OF 83\n",
      "Testing Accuracy 0.8675 RandomState 84\n",
      "\n",
      "\n",
      "Testing Accuracy 0.8675 RandomState 85\n",
      "\n",
      "\n",
      "Testing Accuracy 0.9075 RandomState 86\n",
      "\n",
      "\n",
      "Testing Accuracy 0.865 RandomState 87\n",
      "\n",
      "\n",
      "Testing Accuracy 0.91 RandomState 88\n",
      "\n",
      "\n",
      "Testing Accuracy 0.87 RandomState 89\n",
      "\n",
      "\n",
      "Testing Accuracy 0.87 RandomState 90\n",
      "\n",
      "\n",
      "Testing Accuracy 0.8725 RandomState 91\n",
      "\n",
      "\n",
      "Testing Accuracy 0.8775 RandomState 92\n",
      "\n",
      "\n",
      "Testing Accuracy 0.8675 RandomState 93\n",
      "\n",
      "\n",
      "Testing Accuracy 0.8875 RandomState 94\n",
      "\n",
      "\n",
      "Testing Accuracy 0.8475 RandomState 95\n",
      "\n",
      "\n",
      "Testing Accuracy 0.8625 RandomState 96\n",
      "\n",
      "\n",
      "Testing Accuracy 0.8975 RandomState 97\n",
      "\n",
      "\n",
      "Testing Accuracy 0.8625 RandomState 98\n",
      "\n",
      "\n",
      "Testing Accuracy 0.8875 RandomState 99\n",
      "\n",
      "\n"
     ]
    }
   ],
   "source": [
    "#Finding the Best Random State\n",
    "MaxAccu=0\n",
    "MaxRS=0\n",
    "\n",
    "for i in range (1,100):\n",
    "    X_train_ns,X_test,y_train_ns,y_test=train_test_split(X,y,test_size=0.25,random_state=i)\n",
    "    rf = RandomForestClassifier()\n",
    "    rf.fit(X_train_ns,y_train_ns)\n",
    "    \n",
    "    y_pred=rf.predict(X_test)\n",
    "    accuracy=accuracy_score(y_test,y_pred)\n",
    "    print ('Testing Accuracy' , accuracy , 'RandomState' ,i)\n",
    "    print('\\n')\n",
    "    \n",
    "    \n",
    "    if accuracy>MaxAccu:\n",
    "        MaxAccu=accuracy\n",
    "        MaxRS=i\n",
    "        print('MAXINING TESTING SCORE' , MaxAccu , 'ON RANDOM STATE OF' , i)"
   ]
  },
  {
   "cell_type": "code",
   "execution_count": 66,
   "id": "c0235ae7",
   "metadata": {},
   "outputs": [
    {
     "name": "stdout",
     "output_type": "stream",
     "text": [
      "Best Accuracy is  0.9125 On Random State 83\n"
     ]
    }
   ],
   "source": [
    "print('Best Accuracy is ' , MaxAccu , 'On Random State' , MaxRS)"
   ]
  },
  {
   "cell_type": "code",
   "execution_count": 67,
   "id": "602bea10",
   "metadata": {},
   "outputs": [],
   "source": [
    "# train test split\n",
    "X_train_ns,X_test,y_train_ns,y_test=train_test_split(X,y,test_size=0.25,random_state=83)"
   ]
  },
  {
   "cell_type": "code",
   "execution_count": 68,
   "id": "49e96098",
   "metadata": {},
   "outputs": [],
   "source": [
    "#write one function and call as many time as you want\n",
    "def metric_score (clf,X_train_ns,X_test,y_train_ns,y_test,train=True):\n",
    "    if train:\n",
    "        y_pred = clf.predict(X_train_ns)\n",
    "        print ('====Training Score====')\n",
    "        print (f\"Accuracy score : {accuracy_score(y_train_ns,y_pred)*100:2f}%\")\n",
    "        \n",
    "    elif train==False:\n",
    "        pred = clf.predict(X_test)\n",
    "        print ('====Testing Score====')\n",
    "        print (f\"Accuracy score : {accuracy_score(y_test,pred)*100:2f}%\")\n",
    "        \n",
    "        print ('\\n \\n Classification report \\n ' , classification_report(y_test,pred,digits=2))"
   ]
  },
  {
   "cell_type": "code",
   "execution_count": 69,
   "id": "66ee357d",
   "metadata": {},
   "outputs": [
    {
     "data": {
      "text/html": [
       "<style>#sk-container-id-5 {color: black;background-color: white;}#sk-container-id-5 pre{padding: 0;}#sk-container-id-5 div.sk-toggleable {background-color: white;}#sk-container-id-5 label.sk-toggleable__label {cursor: pointer;display: block;width: 100%;margin-bottom: 0;padding: 0.3em;box-sizing: border-box;text-align: center;}#sk-container-id-5 label.sk-toggleable__label-arrow:before {content: \"▸\";float: left;margin-right: 0.25em;color: #696969;}#sk-container-id-5 label.sk-toggleable__label-arrow:hover:before {color: black;}#sk-container-id-5 div.sk-estimator:hover label.sk-toggleable__label-arrow:before {color: black;}#sk-container-id-5 div.sk-toggleable__content {max-height: 0;max-width: 0;overflow: hidden;text-align: left;background-color: #f0f8ff;}#sk-container-id-5 div.sk-toggleable__content pre {margin: 0.2em;color: black;border-radius: 0.25em;background-color: #f0f8ff;}#sk-container-id-5 input.sk-toggleable__control:checked~div.sk-toggleable__content {max-height: 200px;max-width: 100%;overflow: auto;}#sk-container-id-5 input.sk-toggleable__control:checked~label.sk-toggleable__label-arrow:before {content: \"▾\";}#sk-container-id-5 div.sk-estimator input.sk-toggleable__control:checked~label.sk-toggleable__label {background-color: #d4ebff;}#sk-container-id-5 div.sk-label input.sk-toggleable__control:checked~label.sk-toggleable__label {background-color: #d4ebff;}#sk-container-id-5 input.sk-hidden--visually {border: 0;clip: rect(1px 1px 1px 1px);clip: rect(1px, 1px, 1px, 1px);height: 1px;margin: -1px;overflow: hidden;padding: 0;position: absolute;width: 1px;}#sk-container-id-5 div.sk-estimator {font-family: monospace;background-color: #f0f8ff;border: 1px dotted black;border-radius: 0.25em;box-sizing: border-box;margin-bottom: 0.5em;}#sk-container-id-5 div.sk-estimator:hover {background-color: #d4ebff;}#sk-container-id-5 div.sk-parallel-item::after {content: \"\";width: 100%;border-bottom: 1px solid gray;flex-grow: 1;}#sk-container-id-5 div.sk-label:hover label.sk-toggleable__label {background-color: #d4ebff;}#sk-container-id-5 div.sk-serial::before {content: \"\";position: absolute;border-left: 1px solid gray;box-sizing: border-box;top: 0;bottom: 0;left: 50%;z-index: 0;}#sk-container-id-5 div.sk-serial {display: flex;flex-direction: column;align-items: center;background-color: white;padding-right: 0.2em;padding-left: 0.2em;position: relative;}#sk-container-id-5 div.sk-item {position: relative;z-index: 1;}#sk-container-id-5 div.sk-parallel {display: flex;align-items: stretch;justify-content: center;background-color: white;position: relative;}#sk-container-id-5 div.sk-item::before, #sk-container-id-5 div.sk-parallel-item::before {content: \"\";position: absolute;border-left: 1px solid gray;box-sizing: border-box;top: 0;bottom: 0;left: 50%;z-index: -1;}#sk-container-id-5 div.sk-parallel-item {display: flex;flex-direction: column;z-index: 1;position: relative;background-color: white;}#sk-container-id-5 div.sk-parallel-item:first-child::after {align-self: flex-end;width: 50%;}#sk-container-id-5 div.sk-parallel-item:last-child::after {align-self: flex-start;width: 50%;}#sk-container-id-5 div.sk-parallel-item:only-child::after {width: 0;}#sk-container-id-5 div.sk-dashed-wrapped {border: 1px dashed gray;margin: 0 0.4em 0.5em 0.4em;box-sizing: border-box;padding-bottom: 0.4em;background-color: white;}#sk-container-id-5 div.sk-label label {font-family: monospace;font-weight: bold;display: inline-block;line-height: 1.2em;}#sk-container-id-5 div.sk-label-container {text-align: center;}#sk-container-id-5 div.sk-container {/* jupyter's `normalize.less` sets `[hidden] { display: none; }` but bootstrap.min.css set `[hidden] { display: none !important; }` so we also need the `!important` here to be able to override the default hidden behavior on the sphinx rendered scikit-learn.org. See: https://github.com/scikit-learn/scikit-learn/issues/21755 */display: inline-block !important;position: relative;}#sk-container-id-5 div.sk-text-repr-fallback {display: none;}</style><div id=\"sk-container-id-5\" class=\"sk-top-container\"><div class=\"sk-text-repr-fallback\"><pre>RandomForestClassifier()</pre><b>In a Jupyter environment, please rerun this cell to show the HTML representation or trust the notebook. <br />On GitHub, the HTML representation is unable to render, please try loading this page with nbviewer.org.</b></div><div class=\"sk-container\" hidden><div class=\"sk-item\"><div class=\"sk-estimator sk-toggleable\"><input class=\"sk-toggleable__control sk-hidden--visually\" id=\"sk-estimator-id-7\" type=\"checkbox\" checked><label for=\"sk-estimator-id-7\" class=\"sk-toggleable__label sk-toggleable__label-arrow\">RandomForestClassifier</label><div class=\"sk-toggleable__content\"><pre>RandomForestClassifier()</pre></div></div></div></div></div>"
      ],
      "text/plain": [
       "RandomForestClassifier()"
      ]
     },
     "execution_count": 69,
     "metadata": {},
     "output_type": "execute_result"
    }
   ],
   "source": [
    "# model initilization\n",
    "clf_rf = RandomForestClassifier()\n",
    "clf_rf.fit(X_train_ns,y_train_ns)\n"
   ]
  },
  {
   "cell_type": "code",
   "execution_count": 70,
   "id": "0e910867",
   "metadata": {},
   "outputs": [
    {
     "name": "stdout",
     "output_type": "stream",
     "text": [
      "====Training Score====\n",
      "Accuracy score : 100.000000%\n",
      "====Testing Score====\n",
      "Accuracy score : 90.750000%\n",
      "\n",
      " \n",
      " Classification report \n",
      "                precision    recall  f1-score   support\n",
      "\n",
      "           0       0.92      0.98      0.95       340\n",
      "           1       0.79      0.52      0.63        60\n",
      "\n",
      "    accuracy                           0.91       400\n",
      "   macro avg       0.86      0.75      0.79       400\n",
      "weighted avg       0.90      0.91      0.90       400\n",
      "\n"
     ]
    }
   ],
   "source": [
    "# call the function\n",
    "metric_score (clf_rf,X_train_ns,X_test,y_train_ns,y_test,train = True)\n",
    "metric_score (clf_rf,X_train_ns,X_test,y_train_ns,y_test,train=False)"
   ]
  },
  {
   "cell_type": "markdown",
   "id": "eaf03e13",
   "metadata": {},
   "source": [
    "## Hyperparameter Tuning for  Random Forest"
   ]
  },
  {
   "cell_type": "code",
   "execution_count": 71,
   "id": "cc5234d9",
   "metadata": {},
   "outputs": [],
   "source": [
    "# we are tuning 4 important hyperparameter rightnow we are passing the different value for both parameter\n",
    "params_grid = {'n_estimators' : range(1,5),\n",
    "               'criterion' : ['entropy' , 'gini'],\n",
    "               'max_depth' : range(1,30),\n",
    "               'min_samples_split' :range(5,10),\n",
    "               'min_samples_leaf':range(1,10)}"
   ]
  },
  {
   "cell_type": "code",
   "execution_count": 73,
   "id": "1fdaa652",
   "metadata": {},
   "outputs": [],
   "source": [
    "# here we are define some parameter and ask gridsearchcv which one is best\n",
    "grd = GridSearchCV(clf_rf,param_grid = params_grid)\n"
   ]
  },
  {
   "cell_type": "code",
   "execution_count": 74,
   "id": "3b5f4f3c",
   "metadata": {},
   "outputs": [
    {
     "data": {
      "text/html": [
       "<style>#sk-container-id-6 {color: black;background-color: white;}#sk-container-id-6 pre{padding: 0;}#sk-container-id-6 div.sk-toggleable {background-color: white;}#sk-container-id-6 label.sk-toggleable__label {cursor: pointer;display: block;width: 100%;margin-bottom: 0;padding: 0.3em;box-sizing: border-box;text-align: center;}#sk-container-id-6 label.sk-toggleable__label-arrow:before {content: \"▸\";float: left;margin-right: 0.25em;color: #696969;}#sk-container-id-6 label.sk-toggleable__label-arrow:hover:before {color: black;}#sk-container-id-6 div.sk-estimator:hover label.sk-toggleable__label-arrow:before {color: black;}#sk-container-id-6 div.sk-toggleable__content {max-height: 0;max-width: 0;overflow: hidden;text-align: left;background-color: #f0f8ff;}#sk-container-id-6 div.sk-toggleable__content pre {margin: 0.2em;color: black;border-radius: 0.25em;background-color: #f0f8ff;}#sk-container-id-6 input.sk-toggleable__control:checked~div.sk-toggleable__content {max-height: 200px;max-width: 100%;overflow: auto;}#sk-container-id-6 input.sk-toggleable__control:checked~label.sk-toggleable__label-arrow:before {content: \"▾\";}#sk-container-id-6 div.sk-estimator input.sk-toggleable__control:checked~label.sk-toggleable__label {background-color: #d4ebff;}#sk-container-id-6 div.sk-label input.sk-toggleable__control:checked~label.sk-toggleable__label {background-color: #d4ebff;}#sk-container-id-6 input.sk-hidden--visually {border: 0;clip: rect(1px 1px 1px 1px);clip: rect(1px, 1px, 1px, 1px);height: 1px;margin: -1px;overflow: hidden;padding: 0;position: absolute;width: 1px;}#sk-container-id-6 div.sk-estimator {font-family: monospace;background-color: #f0f8ff;border: 1px dotted black;border-radius: 0.25em;box-sizing: border-box;margin-bottom: 0.5em;}#sk-container-id-6 div.sk-estimator:hover {background-color: #d4ebff;}#sk-container-id-6 div.sk-parallel-item::after {content: \"\";width: 100%;border-bottom: 1px solid gray;flex-grow: 1;}#sk-container-id-6 div.sk-label:hover label.sk-toggleable__label {background-color: #d4ebff;}#sk-container-id-6 div.sk-serial::before {content: \"\";position: absolute;border-left: 1px solid gray;box-sizing: border-box;top: 0;bottom: 0;left: 50%;z-index: 0;}#sk-container-id-6 div.sk-serial {display: flex;flex-direction: column;align-items: center;background-color: white;padding-right: 0.2em;padding-left: 0.2em;position: relative;}#sk-container-id-6 div.sk-item {position: relative;z-index: 1;}#sk-container-id-6 div.sk-parallel {display: flex;align-items: stretch;justify-content: center;background-color: white;position: relative;}#sk-container-id-6 div.sk-item::before, #sk-container-id-6 div.sk-parallel-item::before {content: \"\";position: absolute;border-left: 1px solid gray;box-sizing: border-box;top: 0;bottom: 0;left: 50%;z-index: -1;}#sk-container-id-6 div.sk-parallel-item {display: flex;flex-direction: column;z-index: 1;position: relative;background-color: white;}#sk-container-id-6 div.sk-parallel-item:first-child::after {align-self: flex-end;width: 50%;}#sk-container-id-6 div.sk-parallel-item:last-child::after {align-self: flex-start;width: 50%;}#sk-container-id-6 div.sk-parallel-item:only-child::after {width: 0;}#sk-container-id-6 div.sk-dashed-wrapped {border: 1px dashed gray;margin: 0 0.4em 0.5em 0.4em;box-sizing: border-box;padding-bottom: 0.4em;background-color: white;}#sk-container-id-6 div.sk-label label {font-family: monospace;font-weight: bold;display: inline-block;line-height: 1.2em;}#sk-container-id-6 div.sk-label-container {text-align: center;}#sk-container-id-6 div.sk-container {/* jupyter's `normalize.less` sets `[hidden] { display: none; }` but bootstrap.min.css set `[hidden] { display: none !important; }` so we also need the `!important` here to be able to override the default hidden behavior on the sphinx rendered scikit-learn.org. See: https://github.com/scikit-learn/scikit-learn/issues/21755 */display: inline-block !important;position: relative;}#sk-container-id-6 div.sk-text-repr-fallback {display: none;}</style><div id=\"sk-container-id-6\" class=\"sk-top-container\"><div class=\"sk-text-repr-fallback\"><pre>GridSearchCV(estimator=RandomForestClassifier(),\n",
       "             param_grid={&#x27;criterion&#x27;: [&#x27;entropy&#x27;, &#x27;gini&#x27;],\n",
       "                         &#x27;max_depth&#x27;: range(1, 30),\n",
       "                         &#x27;min_samples_leaf&#x27;: range(1, 10),\n",
       "                         &#x27;min_samples_split&#x27;: range(5, 10),\n",
       "                         &#x27;n_estimators&#x27;: range(1, 5)})</pre><b>In a Jupyter environment, please rerun this cell to show the HTML representation or trust the notebook. <br />On GitHub, the HTML representation is unable to render, please try loading this page with nbviewer.org.</b></div><div class=\"sk-container\" hidden><div class=\"sk-item sk-dashed-wrapped\"><div class=\"sk-label-container\"><div class=\"sk-label sk-toggleable\"><input class=\"sk-toggleable__control sk-hidden--visually\" id=\"sk-estimator-id-8\" type=\"checkbox\" ><label for=\"sk-estimator-id-8\" class=\"sk-toggleable__label sk-toggleable__label-arrow\">GridSearchCV</label><div class=\"sk-toggleable__content\"><pre>GridSearchCV(estimator=RandomForestClassifier(),\n",
       "             param_grid={&#x27;criterion&#x27;: [&#x27;entropy&#x27;, &#x27;gini&#x27;],\n",
       "                         &#x27;max_depth&#x27;: range(1, 30),\n",
       "                         &#x27;min_samples_leaf&#x27;: range(1, 10),\n",
       "                         &#x27;min_samples_split&#x27;: range(5, 10),\n",
       "                         &#x27;n_estimators&#x27;: range(1, 5)})</pre></div></div></div><div class=\"sk-parallel\"><div class=\"sk-parallel-item\"><div class=\"sk-item\"><div class=\"sk-label-container\"><div class=\"sk-label sk-toggleable\"><input class=\"sk-toggleable__control sk-hidden--visually\" id=\"sk-estimator-id-9\" type=\"checkbox\" ><label for=\"sk-estimator-id-9\" class=\"sk-toggleable__label sk-toggleable__label-arrow\">estimator: RandomForestClassifier</label><div class=\"sk-toggleable__content\"><pre>RandomForestClassifier()</pre></div></div></div><div class=\"sk-serial\"><div class=\"sk-item\"><div class=\"sk-estimator sk-toggleable\"><input class=\"sk-toggleable__control sk-hidden--visually\" id=\"sk-estimator-id-10\" type=\"checkbox\" ><label for=\"sk-estimator-id-10\" class=\"sk-toggleable__label sk-toggleable__label-arrow\">RandomForestClassifier</label><div class=\"sk-toggleable__content\"><pre>RandomForestClassifier()</pre></div></div></div></div></div></div></div></div></div></div>"
      ],
      "text/plain": [
       "GridSearchCV(estimator=RandomForestClassifier(),\n",
       "             param_grid={'criterion': ['entropy', 'gini'],\n",
       "                         'max_depth': range(1, 30),\n",
       "                         'min_samples_leaf': range(1, 10),\n",
       "                         'min_samples_split': range(5, 10),\n",
       "                         'n_estimators': range(1, 5)})"
      ]
     },
     "execution_count": 74,
     "metadata": {},
     "output_type": "execute_result"
    }
   ],
   "source": [
    "#pass dataset to train \n",
    "grd.fit(X_train_ns,y_train_ns)"
   ]
  },
  {
   "cell_type": "code",
   "execution_count": 75,
   "id": "c5ec32ee",
   "metadata": {},
   "outputs": [
    {
     "name": "stdout",
     "output_type": "stream",
     "text": [
      "Best parameters :  {'criterion': 'gini', 'max_depth': 12, 'min_samples_leaf': 1, 'min_samples_split': 6, 'n_estimators': 3}\n"
     ]
    }
   ],
   "source": [
    "print ('Best parameters : ' , grd.best_params_) #printing best parameters"
   ]
  },
  {
   "cell_type": "code",
   "execution_count": 90,
   "id": "9f40d5d5",
   "metadata": {},
   "outputs": [
    {
     "data": {
      "text/html": [
       "<style>#sk-container-id-14 {color: black;background-color: white;}#sk-container-id-14 pre{padding: 0;}#sk-container-id-14 div.sk-toggleable {background-color: white;}#sk-container-id-14 label.sk-toggleable__label {cursor: pointer;display: block;width: 100%;margin-bottom: 0;padding: 0.3em;box-sizing: border-box;text-align: center;}#sk-container-id-14 label.sk-toggleable__label-arrow:before {content: \"▸\";float: left;margin-right: 0.25em;color: #696969;}#sk-container-id-14 label.sk-toggleable__label-arrow:hover:before {color: black;}#sk-container-id-14 div.sk-estimator:hover label.sk-toggleable__label-arrow:before {color: black;}#sk-container-id-14 div.sk-toggleable__content {max-height: 0;max-width: 0;overflow: hidden;text-align: left;background-color: #f0f8ff;}#sk-container-id-14 div.sk-toggleable__content pre {margin: 0.2em;color: black;border-radius: 0.25em;background-color: #f0f8ff;}#sk-container-id-14 input.sk-toggleable__control:checked~div.sk-toggleable__content {max-height: 200px;max-width: 100%;overflow: auto;}#sk-container-id-14 input.sk-toggleable__control:checked~label.sk-toggleable__label-arrow:before {content: \"▾\";}#sk-container-id-14 div.sk-estimator input.sk-toggleable__control:checked~label.sk-toggleable__label {background-color: #d4ebff;}#sk-container-id-14 div.sk-label input.sk-toggleable__control:checked~label.sk-toggleable__label {background-color: #d4ebff;}#sk-container-id-14 input.sk-hidden--visually {border: 0;clip: rect(1px 1px 1px 1px);clip: rect(1px, 1px, 1px, 1px);height: 1px;margin: -1px;overflow: hidden;padding: 0;position: absolute;width: 1px;}#sk-container-id-14 div.sk-estimator {font-family: monospace;background-color: #f0f8ff;border: 1px dotted black;border-radius: 0.25em;box-sizing: border-box;margin-bottom: 0.5em;}#sk-container-id-14 div.sk-estimator:hover {background-color: #d4ebff;}#sk-container-id-14 div.sk-parallel-item::after {content: \"\";width: 100%;border-bottom: 1px solid gray;flex-grow: 1;}#sk-container-id-14 div.sk-label:hover label.sk-toggleable__label {background-color: #d4ebff;}#sk-container-id-14 div.sk-serial::before {content: \"\";position: absolute;border-left: 1px solid gray;box-sizing: border-box;top: 0;bottom: 0;left: 50%;z-index: 0;}#sk-container-id-14 div.sk-serial {display: flex;flex-direction: column;align-items: center;background-color: white;padding-right: 0.2em;padding-left: 0.2em;position: relative;}#sk-container-id-14 div.sk-item {position: relative;z-index: 1;}#sk-container-id-14 div.sk-parallel {display: flex;align-items: stretch;justify-content: center;background-color: white;position: relative;}#sk-container-id-14 div.sk-item::before, #sk-container-id-14 div.sk-parallel-item::before {content: \"\";position: absolute;border-left: 1px solid gray;box-sizing: border-box;top: 0;bottom: 0;left: 50%;z-index: -1;}#sk-container-id-14 div.sk-parallel-item {display: flex;flex-direction: column;z-index: 1;position: relative;background-color: white;}#sk-container-id-14 div.sk-parallel-item:first-child::after {align-self: flex-end;width: 50%;}#sk-container-id-14 div.sk-parallel-item:last-child::after {align-self: flex-start;width: 50%;}#sk-container-id-14 div.sk-parallel-item:only-child::after {width: 0;}#sk-container-id-14 div.sk-dashed-wrapped {border: 1px dashed gray;margin: 0 0.4em 0.5em 0.4em;box-sizing: border-box;padding-bottom: 0.4em;background-color: white;}#sk-container-id-14 div.sk-label label {font-family: monospace;font-weight: bold;display: inline-block;line-height: 1.2em;}#sk-container-id-14 div.sk-label-container {text-align: center;}#sk-container-id-14 div.sk-container {/* jupyter's `normalize.less` sets `[hidden] { display: none; }` but bootstrap.min.css set `[hidden] { display: none !important; }` so we also need the `!important` here to be able to override the default hidden behavior on the sphinx rendered scikit-learn.org. See: https://github.com/scikit-learn/scikit-learn/issues/21755 */display: inline-block !important;position: relative;}#sk-container-id-14 div.sk-text-repr-fallback {display: none;}</style><div id=\"sk-container-id-14\" class=\"sk-top-container\"><div class=\"sk-text-repr-fallback\"><pre>RandomForestClassifier(criterion=&#x27;entropy&#x27;, max_depth=30, min_samples_leaf=2,\n",
       "                       min_samples_split=5, n_estimators=50)</pre><b>In a Jupyter environment, please rerun this cell to show the HTML representation or trust the notebook. <br />On GitHub, the HTML representation is unable to render, please try loading this page with nbviewer.org.</b></div><div class=\"sk-container\" hidden><div class=\"sk-item\"><div class=\"sk-estimator sk-toggleable\"><input class=\"sk-toggleable__control sk-hidden--visually\" id=\"sk-estimator-id-18\" type=\"checkbox\" checked><label for=\"sk-estimator-id-18\" class=\"sk-toggleable__label sk-toggleable__label-arrow\">RandomForestClassifier</label><div class=\"sk-toggleable__content\"><pre>RandomForestClassifier(criterion=&#x27;entropy&#x27;, max_depth=30, min_samples_leaf=2,\n",
       "                       min_samples_split=5, n_estimators=50)</pre></div></div></div></div></div>"
      ],
      "text/plain": [
       "RandomForestClassifier(criterion='entropy', max_depth=30, min_samples_leaf=2,\n",
       "                       min_samples_split=5, n_estimators=50)"
      ]
     },
     "execution_count": 90,
     "metadata": {},
     "output_type": "execute_result"
    }
   ],
   "source": [
    "#initiate what new parameter we got\n",
    "rf=RandomForestClassifier(criterion= 'entropy', max_depth = 30, min_samples_leaf= 2, min_samples_split= 5,n_estimators= 50)\n",
    "rf.fit(X_train_ns,y_train_ns)\n",
    "\n",
    "#i tried different combination and i find this is best parameter so using this instead of gridsearch parameters"
   ]
  },
  {
   "cell_type": "code",
   "execution_count": 91,
   "id": "0d6c27cf",
   "metadata": {},
   "outputs": [
    {
     "name": "stdout",
     "output_type": "stream",
     "text": [
      "====Training Score====\n",
      "Accuracy score : 98.748957%\n",
      "====Testing Score====\n",
      "Accuracy score : 90.000000%\n",
      "\n",
      " \n",
      " Classification report \n",
      "                precision    recall  f1-score   support\n",
      "\n",
      "           0       0.91      0.98      0.94       340\n",
      "           1       0.78      0.47      0.58        60\n",
      "\n",
      "    accuracy                           0.90       400\n",
      "   macro avg       0.84      0.72      0.76       400\n",
      "weighted avg       0.89      0.90      0.89       400\n",
      "\n"
     ]
    }
   ],
   "source": [
    "# call the function\n",
    "metric_score (rf,X_train_ns,X_test,y_train_ns,y_test,train = True)\n",
    "metric_score (rf,X_train_ns,X_test,y_train_ns,y_test,train=False)"
   ]
  },
  {
   "cell_type": "code",
   "execution_count": 92,
   "id": "0414f8d4",
   "metadata": {},
   "outputs": [],
   "source": [
    "# Training Score for Random Forest after hyperparameter is 98.748957%\n",
    "# Testing Score for Random Forest after hyperparameter is 90.000000%"
   ]
  },
  {
   "cell_type": "code",
   "execution_count": null,
   "id": "0bbdd9b6",
   "metadata": {},
   "outputs": [],
   "source": []
  },
  {
   "cell_type": "markdown",
   "id": "3211f3e9",
   "metadata": {},
   "source": [
    "# Support Vector Machine (SVC)"
   ]
  },
  {
   "cell_type": "code",
   "execution_count": 93,
   "id": "1b09455c",
   "metadata": {},
   "outputs": [],
   "source": [
    "# Import necessary model #\n",
    "import pandas as pd\n",
    "import numpy as np\n",
    "import matplotlib.pyplot as plt\n",
    "import seaborn as sns\n",
    "from sklearn.model_selection import train_test_split\n",
    "from sklearn.metrics import confusion_matrix , classification_report , accuracy_score\n",
    "from sklearn.decomposition import PCA\n",
    "from sklearn.preprocessing import StandardScaler\n",
    "\n",
    "import warnings\n",
    "warnings.filterwarnings('ignore')\n",
    "# svc model \n",
    "# for classification\n",
    "from sklearn.svm import SVC"
   ]
  },
  {
   "cell_type": "code",
   "execution_count": 94,
   "id": "58f4a48e",
   "metadata": {},
   "outputs": [
    {
     "data": {
      "text/html": [
       "<div>\n",
       "<style scoped>\n",
       "    .dataframe tbody tr th:only-of-type {\n",
       "        vertical-align: middle;\n",
       "    }\n",
       "\n",
       "    .dataframe tbody tr th {\n",
       "        vertical-align: top;\n",
       "    }\n",
       "\n",
       "    .dataframe thead th {\n",
       "        text-align: right;\n",
       "    }\n",
       "</style>\n",
       "<table border=\"1\" class=\"dataframe\">\n",
       "  <thead>\n",
       "    <tr style=\"text-align: right;\">\n",
       "      <th></th>\n",
       "      <th>fixed acidity</th>\n",
       "      <th>volatile acidity</th>\n",
       "      <th>citric acid</th>\n",
       "      <th>residual sugar</th>\n",
       "      <th>chlorides</th>\n",
       "      <th>free sulfur dioxide</th>\n",
       "      <th>total sulfur dioxide</th>\n",
       "      <th>density</th>\n",
       "      <th>pH</th>\n",
       "      <th>sulphates</th>\n",
       "      <th>alcohol</th>\n",
       "      <th>quality</th>\n",
       "    </tr>\n",
       "  </thead>\n",
       "  <tbody>\n",
       "    <tr>\n",
       "      <th>0</th>\n",
       "      <td>7.4</td>\n",
       "      <td>0.70</td>\n",
       "      <td>0.00</td>\n",
       "      <td>1.9</td>\n",
       "      <td>0.076</td>\n",
       "      <td>11.0</td>\n",
       "      <td>34.0</td>\n",
       "      <td>0.9978</td>\n",
       "      <td>3.51</td>\n",
       "      <td>0.56</td>\n",
       "      <td>9.4</td>\n",
       "      <td>5</td>\n",
       "    </tr>\n",
       "    <tr>\n",
       "      <th>1</th>\n",
       "      <td>7.8</td>\n",
       "      <td>0.88</td>\n",
       "      <td>0.00</td>\n",
       "      <td>2.6</td>\n",
       "      <td>0.098</td>\n",
       "      <td>25.0</td>\n",
       "      <td>67.0</td>\n",
       "      <td>0.9968</td>\n",
       "      <td>3.20</td>\n",
       "      <td>0.68</td>\n",
       "      <td>9.8</td>\n",
       "      <td>5</td>\n",
       "    </tr>\n",
       "    <tr>\n",
       "      <th>2</th>\n",
       "      <td>7.8</td>\n",
       "      <td>0.76</td>\n",
       "      <td>0.04</td>\n",
       "      <td>2.3</td>\n",
       "      <td>0.092</td>\n",
       "      <td>15.0</td>\n",
       "      <td>54.0</td>\n",
       "      <td>0.9970</td>\n",
       "      <td>3.26</td>\n",
       "      <td>0.65</td>\n",
       "      <td>9.8</td>\n",
       "      <td>5</td>\n",
       "    </tr>\n",
       "    <tr>\n",
       "      <th>3</th>\n",
       "      <td>11.2</td>\n",
       "      <td>0.28</td>\n",
       "      <td>0.56</td>\n",
       "      <td>1.9</td>\n",
       "      <td>0.075</td>\n",
       "      <td>17.0</td>\n",
       "      <td>60.0</td>\n",
       "      <td>0.9980</td>\n",
       "      <td>3.16</td>\n",
       "      <td>0.58</td>\n",
       "      <td>9.8</td>\n",
       "      <td>6</td>\n",
       "    </tr>\n",
       "    <tr>\n",
       "      <th>4</th>\n",
       "      <td>7.4</td>\n",
       "      <td>0.70</td>\n",
       "      <td>0.00</td>\n",
       "      <td>1.9</td>\n",
       "      <td>0.076</td>\n",
       "      <td>11.0</td>\n",
       "      <td>34.0</td>\n",
       "      <td>0.9978</td>\n",
       "      <td>3.51</td>\n",
       "      <td>0.56</td>\n",
       "      <td>9.4</td>\n",
       "      <td>5</td>\n",
       "    </tr>\n",
       "  </tbody>\n",
       "</table>\n",
       "</div>"
      ],
      "text/plain": [
       "   fixed acidity  volatile acidity  citric acid  residual sugar  chlorides  \\\n",
       "0            7.4              0.70         0.00             1.9      0.076   \n",
       "1            7.8              0.88         0.00             2.6      0.098   \n",
       "2            7.8              0.76         0.04             2.3      0.092   \n",
       "3           11.2              0.28         0.56             1.9      0.075   \n",
       "4            7.4              0.70         0.00             1.9      0.076   \n",
       "\n",
       "   free sulfur dioxide  total sulfur dioxide  density    pH  sulphates  \\\n",
       "0                 11.0                  34.0   0.9978  3.51       0.56   \n",
       "1                 25.0                  67.0   0.9968  3.20       0.68   \n",
       "2                 15.0                  54.0   0.9970  3.26       0.65   \n",
       "3                 17.0                  60.0   0.9980  3.16       0.58   \n",
       "4                 11.0                  34.0   0.9978  3.51       0.56   \n",
       "\n",
       "   alcohol  quality  \n",
       "0      9.4        5  \n",
       "1      9.8        5  \n",
       "2      9.8        5  \n",
       "3      9.8        6  \n",
       "4      9.4        5  "
      ]
     },
     "execution_count": 94,
     "metadata": {},
     "output_type": "execute_result"
    }
   ],
   "source": [
    "#import dataset\n",
    "data = pd.read_csv('winequality-red.csv')\n",
    "data.head()"
   ]
  },
  {
   "cell_type": "code",
   "execution_count": 95,
   "id": "e9f1c122",
   "metadata": {},
   "outputs": [
    {
     "data": {
      "text/plain": [
       "array([5, 6, 7, 4, 8, 3], dtype=int64)"
      ]
     },
     "execution_count": 95,
     "metadata": {},
     "output_type": "execute_result"
    }
   ],
   "source": [
    "# checking unique values present \n",
    "data['quality'].unique()"
   ]
  },
  {
   "cell_type": "code",
   "execution_count": 96,
   "id": "0b253bbd",
   "metadata": {},
   "outputs": [],
   "source": [
    "#replacing 3 to 0\n",
    "data['quality']=data['quality'].replace(3,0)\n",
    "#replacing 4 to 0\n",
    "data['quality']=data['quality'].replace(4,0)\n",
    "#replacing 5 to 0\n",
    "data['quality']=data['quality'].replace(5,0)\n",
    "#replacing 6 to 0\n",
    "data['quality']=data['quality'].replace(6,0)\n",
    "#replacing 7 to 1\n",
    "data['quality']=data['quality'].replace(7,1)\n",
    "#replacing 8 to 1\n",
    "data['quality']=data['quality'].replace(8,1)"
   ]
  },
  {
   "cell_type": "code",
   "execution_count": 97,
   "id": "381d3c79",
   "metadata": {},
   "outputs": [
    {
     "data": {
      "text/plain": [
       "0    1382\n",
       "1     217\n",
       "Name: quality, dtype: int64"
      ]
     },
     "execution_count": 97,
     "metadata": {},
     "output_type": "execute_result"
    }
   ],
   "source": [
    "data['quality'].value_counts()"
   ]
  },
  {
   "cell_type": "code",
   "execution_count": 98,
   "id": "888e8c04",
   "metadata": {},
   "outputs": [],
   "source": [
    "# seperate label n feature\n",
    "X=data.drop('quality' , axis=1)\n",
    "y=data.quality"
   ]
  },
  {
   "cell_type": "code",
   "execution_count": 99,
   "id": "649fd2e7",
   "metadata": {},
   "outputs": [],
   "source": [
    "X_train,X_test,y_train,y_test=train_test_split(X,y,train_size=0.75,random_state=41)"
   ]
  },
  {
   "cell_type": "code",
   "execution_count": 100,
   "id": "eb62533b",
   "metadata": {},
   "outputs": [
    {
     "data": {
      "text/plain": [
       "Counter({0: 1043, 1: 156})"
      ]
     },
     "execution_count": 100,
     "metadata": {},
     "output_type": "execute_result"
    }
   ],
   "source": [
    "#to see how much data is going to y_train set\n",
    "from collections import Counter\n",
    "Counter(y_train)"
   ]
  },
  {
   "cell_type": "code",
   "execution_count": 101,
   "id": "360d6d84",
   "metadata": {},
   "outputs": [],
   "source": [
    "#balancing the dataset using upsampling or Oversampling technique (SMOTE)\n",
    "from imblearn.over_sampling import SMOTE"
   ]
  },
  {
   "cell_type": "code",
   "execution_count": 102,
   "id": "3e220c13",
   "metadata": {},
   "outputs": [
    {
     "name": "stdout",
     "output_type": "stream",
     "text": [
      "the number of classes before fit:  Counter({0: 1043, 1: 156})\n",
      "the number of classes after fit:  Counter({0: 1043, 1: 782})\n"
     ]
    }
   ],
   "source": [
    "# coding for SMOTE\n",
    "ove_smp=SMOTE(0.75)  # how much extra data you want\n",
    "X_train_ns,y_train_ns=ove_smp.fit_resample(X_train,y_train)\n",
    "print('the number of classes before fit: ',format(Counter(y_train)))\n",
    "print('the number of classes after fit: ',format(Counter(y_train_ns)))\n",
    "\n",
    "\n",
    "# and for future we pass X_train_ns,X_test,y_train_ns,y_test=train_test_split"
   ]
  },
  {
   "cell_type": "code",
   "execution_count": 103,
   "id": "f2b3c0df",
   "metadata": {},
   "outputs": [
    {
     "data": {
      "text/plain": [
       "(1599, 12)"
      ]
     },
     "execution_count": 103,
     "metadata": {},
     "output_type": "execute_result"
    }
   ],
   "source": [
    "data.shape"
   ]
  },
  {
   "cell_type": "code",
   "execution_count": 104,
   "id": "2a6aae93",
   "metadata": {},
   "outputs": [
    {
     "data": {
      "text/html": [
       "<div>\n",
       "<style scoped>\n",
       "    .dataframe tbody tr th:only-of-type {\n",
       "        vertical-align: middle;\n",
       "    }\n",
       "\n",
       "    .dataframe tbody tr th {\n",
       "        vertical-align: top;\n",
       "    }\n",
       "\n",
       "    .dataframe thead th {\n",
       "        text-align: right;\n",
       "    }\n",
       "</style>\n",
       "<table border=\"1\" class=\"dataframe\">\n",
       "  <thead>\n",
       "    <tr style=\"text-align: right;\">\n",
       "      <th></th>\n",
       "      <th>fixed acidity</th>\n",
       "      <th>volatile acidity</th>\n",
       "      <th>citric acid</th>\n",
       "      <th>residual sugar</th>\n",
       "      <th>chlorides</th>\n",
       "      <th>free sulfur dioxide</th>\n",
       "      <th>total sulfur dioxide</th>\n",
       "      <th>density</th>\n",
       "      <th>pH</th>\n",
       "      <th>sulphates</th>\n",
       "      <th>alcohol</th>\n",
       "      <th>quality</th>\n",
       "    </tr>\n",
       "  </thead>\n",
       "  <tbody>\n",
       "    <tr>\n",
       "      <th>count</th>\n",
       "      <td>1599.000000</td>\n",
       "      <td>1599.000000</td>\n",
       "      <td>1599.000000</td>\n",
       "      <td>1599.000000</td>\n",
       "      <td>1599.000000</td>\n",
       "      <td>1599.000000</td>\n",
       "      <td>1599.000000</td>\n",
       "      <td>1599.000000</td>\n",
       "      <td>1599.000000</td>\n",
       "      <td>1599.000000</td>\n",
       "      <td>1599.000000</td>\n",
       "      <td>1599.000000</td>\n",
       "    </tr>\n",
       "    <tr>\n",
       "      <th>mean</th>\n",
       "      <td>8.319637</td>\n",
       "      <td>0.527821</td>\n",
       "      <td>0.270976</td>\n",
       "      <td>2.538806</td>\n",
       "      <td>0.087467</td>\n",
       "      <td>15.874922</td>\n",
       "      <td>46.467792</td>\n",
       "      <td>0.996747</td>\n",
       "      <td>3.311113</td>\n",
       "      <td>0.658149</td>\n",
       "      <td>10.422983</td>\n",
       "      <td>0.135710</td>\n",
       "    </tr>\n",
       "    <tr>\n",
       "      <th>std</th>\n",
       "      <td>1.741096</td>\n",
       "      <td>0.179060</td>\n",
       "      <td>0.194801</td>\n",
       "      <td>1.409928</td>\n",
       "      <td>0.047065</td>\n",
       "      <td>10.460157</td>\n",
       "      <td>32.895324</td>\n",
       "      <td>0.001887</td>\n",
       "      <td>0.154386</td>\n",
       "      <td>0.169507</td>\n",
       "      <td>1.065668</td>\n",
       "      <td>0.342587</td>\n",
       "    </tr>\n",
       "    <tr>\n",
       "      <th>min</th>\n",
       "      <td>4.600000</td>\n",
       "      <td>0.120000</td>\n",
       "      <td>0.000000</td>\n",
       "      <td>0.900000</td>\n",
       "      <td>0.012000</td>\n",
       "      <td>1.000000</td>\n",
       "      <td>6.000000</td>\n",
       "      <td>0.990070</td>\n",
       "      <td>2.740000</td>\n",
       "      <td>0.330000</td>\n",
       "      <td>8.400000</td>\n",
       "      <td>0.000000</td>\n",
       "    </tr>\n",
       "    <tr>\n",
       "      <th>25%</th>\n",
       "      <td>7.100000</td>\n",
       "      <td>0.390000</td>\n",
       "      <td>0.090000</td>\n",
       "      <td>1.900000</td>\n",
       "      <td>0.070000</td>\n",
       "      <td>7.000000</td>\n",
       "      <td>22.000000</td>\n",
       "      <td>0.995600</td>\n",
       "      <td>3.210000</td>\n",
       "      <td>0.550000</td>\n",
       "      <td>9.500000</td>\n",
       "      <td>0.000000</td>\n",
       "    </tr>\n",
       "    <tr>\n",
       "      <th>50%</th>\n",
       "      <td>7.900000</td>\n",
       "      <td>0.520000</td>\n",
       "      <td>0.260000</td>\n",
       "      <td>2.200000</td>\n",
       "      <td>0.079000</td>\n",
       "      <td>14.000000</td>\n",
       "      <td>38.000000</td>\n",
       "      <td>0.996750</td>\n",
       "      <td>3.310000</td>\n",
       "      <td>0.620000</td>\n",
       "      <td>10.200000</td>\n",
       "      <td>0.000000</td>\n",
       "    </tr>\n",
       "    <tr>\n",
       "      <th>75%</th>\n",
       "      <td>9.200000</td>\n",
       "      <td>0.640000</td>\n",
       "      <td>0.420000</td>\n",
       "      <td>2.600000</td>\n",
       "      <td>0.090000</td>\n",
       "      <td>21.000000</td>\n",
       "      <td>62.000000</td>\n",
       "      <td>0.997835</td>\n",
       "      <td>3.400000</td>\n",
       "      <td>0.730000</td>\n",
       "      <td>11.100000</td>\n",
       "      <td>0.000000</td>\n",
       "    </tr>\n",
       "    <tr>\n",
       "      <th>max</th>\n",
       "      <td>15.900000</td>\n",
       "      <td>1.580000</td>\n",
       "      <td>1.000000</td>\n",
       "      <td>15.500000</td>\n",
       "      <td>0.611000</td>\n",
       "      <td>72.000000</td>\n",
       "      <td>289.000000</td>\n",
       "      <td>1.003690</td>\n",
       "      <td>4.010000</td>\n",
       "      <td>2.000000</td>\n",
       "      <td>14.900000</td>\n",
       "      <td>1.000000</td>\n",
       "    </tr>\n",
       "  </tbody>\n",
       "</table>\n",
       "</div>"
      ],
      "text/plain": [
       "       fixed acidity  volatile acidity  citric acid  residual sugar  \\\n",
       "count    1599.000000       1599.000000  1599.000000     1599.000000   \n",
       "mean        8.319637          0.527821     0.270976        2.538806   \n",
       "std         1.741096          0.179060     0.194801        1.409928   \n",
       "min         4.600000          0.120000     0.000000        0.900000   \n",
       "25%         7.100000          0.390000     0.090000        1.900000   \n",
       "50%         7.900000          0.520000     0.260000        2.200000   \n",
       "75%         9.200000          0.640000     0.420000        2.600000   \n",
       "max        15.900000          1.580000     1.000000       15.500000   \n",
       "\n",
       "         chlorides  free sulfur dioxide  total sulfur dioxide      density  \\\n",
       "count  1599.000000          1599.000000           1599.000000  1599.000000   \n",
       "mean      0.087467            15.874922             46.467792     0.996747   \n",
       "std       0.047065            10.460157             32.895324     0.001887   \n",
       "min       0.012000             1.000000              6.000000     0.990070   \n",
       "25%       0.070000             7.000000             22.000000     0.995600   \n",
       "50%       0.079000            14.000000             38.000000     0.996750   \n",
       "75%       0.090000            21.000000             62.000000     0.997835   \n",
       "max       0.611000            72.000000            289.000000     1.003690   \n",
       "\n",
       "                pH    sulphates      alcohol      quality  \n",
       "count  1599.000000  1599.000000  1599.000000  1599.000000  \n",
       "mean      3.311113     0.658149    10.422983     0.135710  \n",
       "std       0.154386     0.169507     1.065668     0.342587  \n",
       "min       2.740000     0.330000     8.400000     0.000000  \n",
       "25%       3.210000     0.550000     9.500000     0.000000  \n",
       "50%       3.310000     0.620000    10.200000     0.000000  \n",
       "75%       3.400000     0.730000    11.100000     0.000000  \n",
       "max       4.010000     2.000000    14.900000     1.000000  "
      ]
     },
     "execution_count": 104,
     "metadata": {},
     "output_type": "execute_result"
    }
   ],
   "source": [
    "#describe dataset\n",
    "data.describe()"
   ]
  },
  {
   "cell_type": "code",
   "execution_count": 105,
   "id": "a0b0e5be",
   "metadata": {},
   "outputs": [
    {
     "data": {
      "text/plain": [
       "fixed acidity           0\n",
       "volatile acidity        0\n",
       "citric acid             0\n",
       "residual sugar          0\n",
       "chlorides               0\n",
       "free sulfur dioxide     0\n",
       "total sulfur dioxide    0\n",
       "density                 0\n",
       "pH                      0\n",
       "sulphates               0\n",
       "alcohol                 0\n",
       "quality                 0\n",
       "dtype: int64"
      ]
     },
     "execution_count": 105,
     "metadata": {},
     "output_type": "execute_result"
    }
   ],
   "source": [
    "# checking null values\n",
    "data.isnull().sum()"
   ]
  },
  {
   "cell_type": "code",
   "execution_count": 106,
   "id": "12b1a256",
   "metadata": {},
   "outputs": [],
   "source": [
    "#observations\n",
    "# 1) there is no null values present in dataset\n",
    "# 2) there is no problem in dataset \n",
    "# 3) residual sugar and total sulfur dioxide i suspect some skewness we will see"
   ]
  },
  {
   "cell_type": "code",
   "execution_count": 107,
   "id": "e39ae3d3",
   "metadata": {},
   "outputs": [],
   "source": [
    "# from scipy import stats\n",
    "\n",
    "from scipy.stats import zscore"
   ]
  },
  {
   "cell_type": "code",
   "execution_count": 108,
   "id": "c41c38b9",
   "metadata": {},
   "outputs": [
    {
     "data": {
      "text/html": [
       "<div>\n",
       "<style scoped>\n",
       "    .dataframe tbody tr th:only-of-type {\n",
       "        vertical-align: middle;\n",
       "    }\n",
       "\n",
       "    .dataframe tbody tr th {\n",
       "        vertical-align: top;\n",
       "    }\n",
       "\n",
       "    .dataframe thead th {\n",
       "        text-align: right;\n",
       "    }\n",
       "</style>\n",
       "<table border=\"1\" class=\"dataframe\">\n",
       "  <thead>\n",
       "    <tr style=\"text-align: right;\">\n",
       "      <th></th>\n",
       "      <th>fixed acidity</th>\n",
       "      <th>volatile acidity</th>\n",
       "      <th>citric acid</th>\n",
       "      <th>residual sugar</th>\n",
       "      <th>chlorides</th>\n",
       "      <th>free sulfur dioxide</th>\n",
       "      <th>total sulfur dioxide</th>\n",
       "      <th>density</th>\n",
       "      <th>pH</th>\n",
       "      <th>sulphates</th>\n",
       "      <th>alcohol</th>\n",
       "      <th>quality</th>\n",
       "    </tr>\n",
       "  </thead>\n",
       "  <tbody>\n",
       "    <tr>\n",
       "      <th>count</th>\n",
       "      <td>1458.000000</td>\n",
       "      <td>1458.000000</td>\n",
       "      <td>1458.000000</td>\n",
       "      <td>1458.000000</td>\n",
       "      <td>1458.000000</td>\n",
       "      <td>1458.000000</td>\n",
       "      <td>1458.000000</td>\n",
       "      <td>1458.000000</td>\n",
       "      <td>1458.000000</td>\n",
       "      <td>1458.000000</td>\n",
       "      <td>1458.000000</td>\n",
       "      <td>1458.000000</td>\n",
       "    </tr>\n",
       "    <tr>\n",
       "      <th>mean</th>\n",
       "      <td>8.312551</td>\n",
       "      <td>0.524050</td>\n",
       "      <td>0.265281</td>\n",
       "      <td>2.388717</td>\n",
       "      <td>0.081531</td>\n",
       "      <td>15.089849</td>\n",
       "      <td>43.660494</td>\n",
       "      <td>0.996718</td>\n",
       "      <td>3.316152</td>\n",
       "      <td>0.642414</td>\n",
       "      <td>10.417798</td>\n",
       "      <td>0.137860</td>\n",
       "    </tr>\n",
       "    <tr>\n",
       "      <th>std</th>\n",
       "      <td>1.647635</td>\n",
       "      <td>0.169451</td>\n",
       "      <td>0.191271</td>\n",
       "      <td>0.865307</td>\n",
       "      <td>0.021218</td>\n",
       "      <td>9.317669</td>\n",
       "      <td>29.414615</td>\n",
       "      <td>0.001718</td>\n",
       "      <td>0.141052</td>\n",
       "      <td>0.129753</td>\n",
       "      <td>1.021649</td>\n",
       "      <td>0.344871</td>\n",
       "    </tr>\n",
       "    <tr>\n",
       "      <th>min</th>\n",
       "      <td>5.000000</td>\n",
       "      <td>0.120000</td>\n",
       "      <td>0.000000</td>\n",
       "      <td>1.200000</td>\n",
       "      <td>0.038000</td>\n",
       "      <td>1.000000</td>\n",
       "      <td>6.000000</td>\n",
       "      <td>0.991500</td>\n",
       "      <td>2.880000</td>\n",
       "      <td>0.330000</td>\n",
       "      <td>8.400000</td>\n",
       "      <td>0.000000</td>\n",
       "    </tr>\n",
       "    <tr>\n",
       "      <th>25%</th>\n",
       "      <td>7.100000</td>\n",
       "      <td>0.390000</td>\n",
       "      <td>0.090000</td>\n",
       "      <td>1.900000</td>\n",
       "      <td>0.070000</td>\n",
       "      <td>7.000000</td>\n",
       "      <td>21.000000</td>\n",
       "      <td>0.995600</td>\n",
       "      <td>3.220000</td>\n",
       "      <td>0.550000</td>\n",
       "      <td>9.500000</td>\n",
       "      <td>0.000000</td>\n",
       "    </tr>\n",
       "    <tr>\n",
       "      <th>50%</th>\n",
       "      <td>7.900000</td>\n",
       "      <td>0.520000</td>\n",
       "      <td>0.250000</td>\n",
       "      <td>2.200000</td>\n",
       "      <td>0.079000</td>\n",
       "      <td>13.000000</td>\n",
       "      <td>36.000000</td>\n",
       "      <td>0.996700</td>\n",
       "      <td>3.315000</td>\n",
       "      <td>0.620000</td>\n",
       "      <td>10.200000</td>\n",
       "      <td>0.000000</td>\n",
       "    </tr>\n",
       "    <tr>\n",
       "      <th>75%</th>\n",
       "      <td>9.200000</td>\n",
       "      <td>0.635000</td>\n",
       "      <td>0.420000</td>\n",
       "      <td>2.600000</td>\n",
       "      <td>0.089000</td>\n",
       "      <td>21.000000</td>\n",
       "      <td>58.000000</td>\n",
       "      <td>0.997800</td>\n",
       "      <td>3.400000</td>\n",
       "      <td>0.720000</td>\n",
       "      <td>11.100000</td>\n",
       "      <td>0.000000</td>\n",
       "    </tr>\n",
       "    <tr>\n",
       "      <th>max</th>\n",
       "      <td>13.500000</td>\n",
       "      <td>1.040000</td>\n",
       "      <td>0.790000</td>\n",
       "      <td>6.700000</td>\n",
       "      <td>0.226000</td>\n",
       "      <td>47.000000</td>\n",
       "      <td>145.000000</td>\n",
       "      <td>1.002200</td>\n",
       "      <td>3.750000</td>\n",
       "      <td>1.160000</td>\n",
       "      <td>13.600000</td>\n",
       "      <td>1.000000</td>\n",
       "    </tr>\n",
       "  </tbody>\n",
       "</table>\n",
       "</div>"
      ],
      "text/plain": [
       "       fixed acidity  volatile acidity  citric acid  residual sugar  \\\n",
       "count    1458.000000       1458.000000  1458.000000     1458.000000   \n",
       "mean        8.312551          0.524050     0.265281        2.388717   \n",
       "std         1.647635          0.169451     0.191271        0.865307   \n",
       "min         5.000000          0.120000     0.000000        1.200000   \n",
       "25%         7.100000          0.390000     0.090000        1.900000   \n",
       "50%         7.900000          0.520000     0.250000        2.200000   \n",
       "75%         9.200000          0.635000     0.420000        2.600000   \n",
       "max        13.500000          1.040000     0.790000        6.700000   \n",
       "\n",
       "         chlorides  free sulfur dioxide  total sulfur dioxide      density  \\\n",
       "count  1458.000000          1458.000000           1458.000000  1458.000000   \n",
       "mean      0.081531            15.089849             43.660494     0.996718   \n",
       "std       0.021218             9.317669             29.414615     0.001718   \n",
       "min       0.038000             1.000000              6.000000     0.991500   \n",
       "25%       0.070000             7.000000             21.000000     0.995600   \n",
       "50%       0.079000            13.000000             36.000000     0.996700   \n",
       "75%       0.089000            21.000000             58.000000     0.997800   \n",
       "max       0.226000            47.000000            145.000000     1.002200   \n",
       "\n",
       "                pH    sulphates      alcohol      quality  \n",
       "count  1458.000000  1458.000000  1458.000000  1458.000000  \n",
       "mean      3.316152     0.642414    10.417798     0.137860  \n",
       "std       0.141052     0.129753     1.021649     0.344871  \n",
       "min       2.880000     0.330000     8.400000     0.000000  \n",
       "25%       3.220000     0.550000     9.500000     0.000000  \n",
       "50%       3.315000     0.620000    10.200000     0.000000  \n",
       "75%       3.400000     0.720000    11.100000     0.000000  \n",
       "max       3.750000     1.160000    13.600000     1.000000  "
      ]
     },
     "execution_count": 108,
     "metadata": {},
     "output_type": "execute_result"
    }
   ],
   "source": [
    "# new code for deleting outlier here we take std = 3\n",
    "z_score = zscore(X)\n",
    "abs_z_score = np.abs(z_score)\n",
    "\n",
    "filtering_entry = (abs_z_score < 3 ).all(axis=1)\n",
    "\n",
    "data = data[filtering_entry]\n",
    "\n",
    "data.describe()"
   ]
  },
  {
   "cell_type": "code",
   "execution_count": 109,
   "id": "d4b2a20f",
   "metadata": {},
   "outputs": [
    {
     "data": {
      "text/plain": [
       "(1458, 12)"
      ]
     },
     "execution_count": 109,
     "metadata": {},
     "output_type": "execute_result"
    }
   ],
   "source": [
    "data.shape"
   ]
  },
  {
   "cell_type": "code",
   "execution_count": 110,
   "id": "8de8d124",
   "metadata": {},
   "outputs": [],
   "source": [
    "# scale x data\n",
    "scaler = StandardScaler()\n",
    "X_scaled = scaler.fit_transform(X)"
   ]
  },
  {
   "cell_type": "code",
   "execution_count": 111,
   "id": "e62ea186",
   "metadata": {},
   "outputs": [
    {
     "data": {
      "text/plain": [
       "array([[-1.61952988,  0.45095009, -1.77445415, ...,  0.00509804,\n",
       "        -0.26775943,  0.04863012],\n",
       "       [-0.79916993,  1.85655306, -0.91169017, ..., -0.52070667,\n",
       "         0.06283285, -0.13814189],\n",
       "       [-0.74847909,  0.88203886, -1.17139423, ..., -0.08685693,\n",
       "        -0.18744237, -0.11822866],\n",
       "       ...,\n",
       "       [-1.45612897,  0.31174559,  1.12423941, ..., -0.80877339,\n",
       "         0.24224843, -0.40291033],\n",
       "       [-2.27051793,  0.97979111,  0.62796456, ..., -0.61224806,\n",
       "         0.77940384,  0.04092255],\n",
       "       [-0.42697475, -0.53669021,  1.6289552 , ...,  0.40430898,\n",
       "         0.77943963, -0.44978056]])"
      ]
     },
     "execution_count": 111,
     "metadata": {},
     "output_type": "execute_result"
    }
   ],
   "source": [
    "pca=PCA()\n",
    "pca.fit_transform(X_scaled)   # here you will get eighen values"
   ]
  },
  {
   "cell_type": "code",
   "execution_count": 112,
   "id": "9cc1687f",
   "metadata": {},
   "outputs": [
    {
     "data": {
      "image/png": "[encoded data removed]",
      "text/plain": [
       "<Figure size 432x288 with 1 Axes>"
      ]
     },
     "metadata": {
      "needs_background": "light"
     },
     "output_type": "display_data"
    }
   ],
   "source": [
    "# lets plot scree plot to check the best components to select\n",
    "plt.figure()\n",
    "plt.plot(np.cumsum(pca.explained_variance_ratio_))\n",
    "plt.xlabel('principal components')\n",
    "plt.ylabel('variance covered')\n",
    "plt.title('PCA')\n",
    "plt.show()"
   ]
  },
  {
   "cell_type": "code",
   "execution_count": 113,
   "id": "2004ddad",
   "metadata": {},
   "outputs": [],
   "source": [
    "# after looking into graph around 9 principal components are able to cover more than 95% of data and it is acceptable to loose less than 5% of data so selecting (9pc)"
   ]
  },
  {
   "cell_type": "code",
   "execution_count": 114,
   "id": "6992dff8",
   "metadata": {},
   "outputs": [
    {
     "data": {
      "text/html": [
       "<div>\n",
       "<style scoped>\n",
       "    .dataframe tbody tr th:only-of-type {\n",
       "        vertical-align: middle;\n",
       "    }\n",
       "\n",
       "    .dataframe tbody tr th {\n",
       "        vertical-align: top;\n",
       "    }\n",
       "\n",
       "    .dataframe thead th {\n",
       "        text-align: right;\n",
       "    }\n",
       "</style>\n",
       "<table border=\"1\" class=\"dataframe\">\n",
       "  <thead>\n",
       "    <tr style=\"text-align: right;\">\n",
       "      <th></th>\n",
       "      <th>PC1</th>\n",
       "      <th>PC2</th>\n",
       "      <th>PC3</th>\n",
       "      <th>PC4</th>\n",
       "      <th>PC5</th>\n",
       "      <th>PC6</th>\n",
       "      <th>PC7</th>\n",
       "      <th>PC8</th>\n",
       "      <th>PC9</th>\n",
       "    </tr>\n",
       "  </thead>\n",
       "  <tbody>\n",
       "    <tr>\n",
       "      <th>0</th>\n",
       "      <td>-1.619530</td>\n",
       "      <td>0.450950</td>\n",
       "      <td>-1.774454</td>\n",
       "      <td>0.043740</td>\n",
       "      <td>0.067014</td>\n",
       "      <td>-0.913921</td>\n",
       "      <td>-0.161043</td>\n",
       "      <td>-0.282258</td>\n",
       "      <td>0.005098</td>\n",
       "    </tr>\n",
       "    <tr>\n",
       "      <th>1</th>\n",
       "      <td>-0.799170</td>\n",
       "      <td>1.856553</td>\n",
       "      <td>-0.911690</td>\n",
       "      <td>0.548066</td>\n",
       "      <td>-0.018392</td>\n",
       "      <td>0.929714</td>\n",
       "      <td>-1.009829</td>\n",
       "      <td>0.762587</td>\n",
       "      <td>-0.520707</td>\n",
       "    </tr>\n",
       "    <tr>\n",
       "      <th>2</th>\n",
       "      <td>-0.748479</td>\n",
       "      <td>0.882039</td>\n",
       "      <td>-1.171394</td>\n",
       "      <td>0.411021</td>\n",
       "      <td>-0.043531</td>\n",
       "      <td>0.401473</td>\n",
       "      <td>-0.539553</td>\n",
       "      <td>0.597946</td>\n",
       "      <td>-0.086857</td>\n",
       "    </tr>\n",
       "    <tr>\n",
       "      <th>3</th>\n",
       "      <td>2.357673</td>\n",
       "      <td>-0.269976</td>\n",
       "      <td>0.243489</td>\n",
       "      <td>-0.928450</td>\n",
       "      <td>-1.499149</td>\n",
       "      <td>-0.131017</td>\n",
       "      <td>0.344290</td>\n",
       "      <td>-0.455375</td>\n",
       "      <td>0.091577</td>\n",
       "    </tr>\n",
       "    <tr>\n",
       "      <th>4</th>\n",
       "      <td>-1.619530</td>\n",
       "      <td>0.450950</td>\n",
       "      <td>-1.774454</td>\n",
       "      <td>0.043740</td>\n",
       "      <td>0.067014</td>\n",
       "      <td>-0.913921</td>\n",
       "      <td>-0.161043</td>\n",
       "      <td>-0.282258</td>\n",
       "      <td>0.005098</td>\n",
       "    </tr>\n",
       "    <tr>\n",
       "      <th>...</th>\n",
       "      <td>...</td>\n",
       "      <td>...</td>\n",
       "      <td>...</td>\n",
       "      <td>...</td>\n",
       "      <td>...</td>\n",
       "      <td>...</td>\n",
       "      <td>...</td>\n",
       "      <td>...</td>\n",
       "      <td>...</td>\n",
       "    </tr>\n",
       "    <tr>\n",
       "      <th>1594</th>\n",
       "      <td>-2.150500</td>\n",
       "      <td>0.814286</td>\n",
       "      <td>0.617063</td>\n",
       "      <td>0.407687</td>\n",
       "      <td>-0.240936</td>\n",
       "      <td>0.054835</td>\n",
       "      <td>0.170812</td>\n",
       "      <td>-0.355866</td>\n",
       "      <td>-0.971524</td>\n",
       "    </tr>\n",
       "    <tr>\n",
       "      <th>1595</th>\n",
       "      <td>-2.214496</td>\n",
       "      <td>0.893101</td>\n",
       "      <td>1.807402</td>\n",
       "      <td>0.414003</td>\n",
       "      <td>0.119592</td>\n",
       "      <td>-0.674711</td>\n",
       "      <td>-0.607970</td>\n",
       "      <td>-0.247640</td>\n",
       "      <td>-1.058135</td>\n",
       "    </tr>\n",
       "    <tr>\n",
       "      <th>1596</th>\n",
       "      <td>-1.456129</td>\n",
       "      <td>0.311746</td>\n",
       "      <td>1.124239</td>\n",
       "      <td>0.491877</td>\n",
       "      <td>0.193716</td>\n",
       "      <td>-0.506410</td>\n",
       "      <td>-0.231082</td>\n",
       "      <td>0.079382</td>\n",
       "      <td>-0.808773</td>\n",
       "    </tr>\n",
       "    <tr>\n",
       "      <th>1597</th>\n",
       "      <td>-2.270518</td>\n",
       "      <td>0.979791</td>\n",
       "      <td>0.627965</td>\n",
       "      <td>0.639770</td>\n",
       "      <td>0.067735</td>\n",
       "      <td>-0.860408</td>\n",
       "      <td>-0.321487</td>\n",
       "      <td>-0.468876</td>\n",
       "      <td>-0.612248</td>\n",
       "    </tr>\n",
       "    <tr>\n",
       "      <th>1598</th>\n",
       "      <td>-0.426975</td>\n",
       "      <td>-0.536690</td>\n",
       "      <td>1.628955</td>\n",
       "      <td>-0.391716</td>\n",
       "      <td>0.450482</td>\n",
       "      <td>-0.496154</td>\n",
       "      <td>1.189132</td>\n",
       "      <td>0.042176</td>\n",
       "      <td>0.404309</td>\n",
       "    </tr>\n",
       "  </tbody>\n",
       "</table>\n",
       "<p>1599 rows × 9 columns</p>\n",
       "</div>"
      ],
      "text/plain": [
       "           PC1       PC2       PC3       PC4       PC5       PC6       PC7  \\\n",
       "0    -1.619530  0.450950 -1.774454  0.043740  0.067014 -0.913921 -0.161043   \n",
       "1    -0.799170  1.856553 -0.911690  0.548066 -0.018392  0.929714 -1.009829   \n",
       "2    -0.748479  0.882039 -1.171394  0.411021 -0.043531  0.401473 -0.539553   \n",
       "3     2.357673 -0.269976  0.243489 -0.928450 -1.499149 -0.131017  0.344290   \n",
       "4    -1.619530  0.450950 -1.774454  0.043740  0.067014 -0.913921 -0.161043   \n",
       "...        ...       ...       ...       ...       ...       ...       ...   \n",
       "1594 -2.150500  0.814286  0.617063  0.407687 -0.240936  0.054835  0.170812   \n",
       "1595 -2.214496  0.893101  1.807402  0.414003  0.119592 -0.674711 -0.607970   \n",
       "1596 -1.456129  0.311746  1.124239  0.491877  0.193716 -0.506410 -0.231082   \n",
       "1597 -2.270518  0.979791  0.627965  0.639770  0.067735 -0.860408 -0.321487   \n",
       "1598 -0.426975 -0.536690  1.628955 -0.391716  0.450482 -0.496154  1.189132   \n",
       "\n",
       "           PC8       PC9  \n",
       "0    -0.282258  0.005098  \n",
       "1     0.762587 -0.520707  \n",
       "2     0.597946 -0.086857  \n",
       "3    -0.455375  0.091577  \n",
       "4    -0.282258  0.005098  \n",
       "...        ...       ...  \n",
       "1594 -0.355866 -0.971524  \n",
       "1595 -0.247640 -1.058135  \n",
       "1596  0.079382 -0.808773  \n",
       "1597 -0.468876 -0.612248  \n",
       "1598  0.042176  0.404309  \n",
       "\n",
       "[1599 rows x 9 columns]"
      ]
     },
     "execution_count": 114,
     "metadata": {},
     "output_type": "execute_result"
    }
   ],
   "source": [
    "#selecting pc=9\n",
    "pca=PCA(n_components=9)\n",
    "new_pcomp=pca.fit_transform(X_scaled)\n",
    "principal_comp=pd.DataFrame(new_pcomp,columns=['PC1','PC2','PC3','PC4','PC5','PC6','PC7','PC8','PC9'])\n",
    "principal_comp"
   ]
  },
  {
   "cell_type": "code",
   "execution_count": 127,
   "id": "b62009b6",
   "metadata": {},
   "outputs": [
    {
     "name": "stdout",
     "output_type": "stream",
     "text": [
      "Testing Accuracy 0.89 RandomState 1\n",
      "\n",
      "\n",
      "MAXINING TESTING SCORE 0.89 ON RANDOM STATE OF 1\n",
      "Testing Accuracy 0.87 RandomState 2\n",
      "\n",
      "\n",
      "Testing Accuracy 0.875 RandomState 3\n",
      "\n",
      "\n",
      "Testing Accuracy 0.8725 RandomState 4\n",
      "\n",
      "\n",
      "Testing Accuracy 0.85 RandomState 5\n",
      "\n",
      "\n",
      "Testing Accuracy 0.8925 RandomState 6\n",
      "\n",
      "\n",
      "MAXINING TESTING SCORE 0.8925 ON RANDOM STATE OF 6\n",
      "Testing Accuracy 0.8725 RandomState 7\n",
      "\n",
      "\n",
      "Testing Accuracy 0.88 RandomState 8\n",
      "\n",
      "\n",
      "Testing Accuracy 0.8875 RandomState 9\n",
      "\n",
      "\n",
      "Testing Accuracy 0.8525 RandomState 10\n",
      "\n",
      "\n",
      "Testing Accuracy 0.8525 RandomState 11\n",
      "\n",
      "\n",
      "Testing Accuracy 0.88 RandomState 12\n",
      "\n",
      "\n",
      "Testing Accuracy 0.8625 RandomState 13\n",
      "\n",
      "\n",
      "Testing Accuracy 0.8525 RandomState 14\n",
      "\n",
      "\n",
      "Testing Accuracy 0.88 RandomState 15\n",
      "\n",
      "\n",
      "Testing Accuracy 0.8825 RandomState 16\n",
      "\n",
      "\n",
      "Testing Accuracy 0.8775 RandomState 17\n",
      "\n",
      "\n",
      "Testing Accuracy 0.855 RandomState 18\n",
      "\n",
      "\n",
      "Testing Accuracy 0.84 RandomState 19\n",
      "\n",
      "\n",
      "Testing Accuracy 0.87 RandomState 20\n",
      "\n",
      "\n",
      "Testing Accuracy 0.86 RandomState 21\n",
      "\n",
      "\n",
      "Testing Accuracy 0.8775 RandomState 22\n",
      "\n",
      "\n",
      "Testing Accuracy 0.88 RandomState 23\n",
      "\n",
      "\n",
      "Testing Accuracy 0.865 RandomState 24\n",
      "\n",
      "\n",
      "Testing Accuracy 0.885 RandomState 25\n",
      "\n",
      "\n",
      "Testing Accuracy 0.8925 RandomState 26\n",
      "\n",
      "\n",
      "Testing Accuracy 0.845 RandomState 27\n",
      "\n",
      "\n",
      "Testing Accuracy 0.85 RandomState 28\n",
      "\n",
      "\n",
      "Testing Accuracy 0.8525 RandomState 29\n",
      "\n",
      "\n",
      "Testing Accuracy 0.8775 RandomState 30\n",
      "\n",
      "\n",
      "Testing Accuracy 0.885 RandomState 31\n",
      "\n",
      "\n",
      "Testing Accuracy 0.86 RandomState 32\n",
      "\n",
      "\n",
      "Testing Accuracy 0.855 RandomState 33\n",
      "\n",
      "\n",
      "Testing Accuracy 0.8525 RandomState 34\n",
      "\n",
      "\n",
      "Testing Accuracy 0.845 RandomState 35\n",
      "\n",
      "\n",
      "Testing Accuracy 0.855 RandomState 36\n",
      "\n",
      "\n",
      "Testing Accuracy 0.87 RandomState 37\n",
      "\n",
      "\n",
      "Testing Accuracy 0.895 RandomState 38\n",
      "\n",
      "\n",
      "MAXINING TESTING SCORE 0.895 ON RANDOM STATE OF 38\n",
      "Testing Accuracy 0.825 RandomState 39\n",
      "\n",
      "\n",
      "Testing Accuracy 0.85 RandomState 40\n",
      "\n",
      "\n",
      "Testing Accuracy 0.8475 RandomState 41\n",
      "\n",
      "\n",
      "Testing Accuracy 0.87 RandomState 42\n",
      "\n",
      "\n",
      "Testing Accuracy 0.8575 RandomState 43\n",
      "\n",
      "\n",
      "Testing Accuracy 0.88 RandomState 44\n",
      "\n",
      "\n",
      "Testing Accuracy 0.8825 RandomState 45\n",
      "\n",
      "\n",
      "Testing Accuracy 0.84 RandomState 46\n",
      "\n",
      "\n",
      "Testing Accuracy 0.855 RandomState 47\n",
      "\n",
      "\n",
      "Testing Accuracy 0.885 RandomState 48\n",
      "\n",
      "\n",
      "Testing Accuracy 0.865 RandomState 49\n",
      "\n",
      "\n",
      "Testing Accuracy 0.895 RandomState 50\n",
      "\n",
      "\n",
      "Testing Accuracy 0.8725 RandomState 51\n",
      "\n",
      "\n",
      "Testing Accuracy 0.8525 RandomState 52\n",
      "\n",
      "\n",
      "Testing Accuracy 0.85 RandomState 53\n",
      "\n",
      "\n",
      "Testing Accuracy 0.8475 RandomState 54\n",
      "\n",
      "\n",
      "Testing Accuracy 0.8575 RandomState 55\n",
      "\n",
      "\n",
      "Testing Accuracy 0.8775 RandomState 56\n",
      "\n",
      "\n",
      "Testing Accuracy 0.865 RandomState 57\n",
      "\n",
      "\n",
      "Testing Accuracy 0.83 RandomState 58\n",
      "\n",
      "\n",
      "Testing Accuracy 0.8625 RandomState 59\n",
      "\n",
      "\n",
      "Testing Accuracy 0.8375 RandomState 60\n",
      "\n",
      "\n",
      "Testing Accuracy 0.8575 RandomState 61\n",
      "\n",
      "\n",
      "Testing Accuracy 0.875 RandomState 62\n",
      "\n",
      "\n",
      "Testing Accuracy 0.8475 RandomState 63\n",
      "\n",
      "\n",
      "Testing Accuracy 0.855 RandomState 64\n",
      "\n",
      "\n",
      "Testing Accuracy 0.8575 RandomState 65\n",
      "\n",
      "\n",
      "Testing Accuracy 0.8725 RandomState 66\n",
      "\n",
      "\n",
      "Testing Accuracy 0.8825 RandomState 67\n",
      "\n",
      "\n",
      "Testing Accuracy 0.8925 RandomState 68\n",
      "\n",
      "\n",
      "Testing Accuracy 0.8425 RandomState 69\n",
      "\n",
      "\n",
      "Testing Accuracy 0.875 RandomState 70\n",
      "\n",
      "\n",
      "Testing Accuracy 0.865 RandomState 71\n",
      "\n",
      "\n",
      "Testing Accuracy 0.855 RandomState 72\n",
      "\n",
      "\n",
      "Testing Accuracy 0.8925 RandomState 73\n",
      "\n",
      "\n",
      "Testing Accuracy 0.8725 RandomState 74\n",
      "\n",
      "\n",
      "Testing Accuracy 0.865 RandomState 75\n",
      "\n",
      "\n",
      "Testing Accuracy 0.86 RandomState 76\n",
      "\n",
      "\n",
      "Testing Accuracy 0.845 RandomState 77\n",
      "\n",
      "\n",
      "Testing Accuracy 0.8475 RandomState 78\n",
      "\n",
      "\n",
      "Testing Accuracy 0.83 RandomState 79\n",
      "\n",
      "\n",
      "Testing Accuracy 0.885 RandomState 80\n",
      "\n",
      "\n",
      "Testing Accuracy 0.84 RandomState 81\n",
      "\n",
      "\n",
      "Testing Accuracy 0.87 RandomState 82\n",
      "\n",
      "\n",
      "Testing Accuracy 0.85 RandomState 83\n",
      "\n",
      "\n",
      "Testing Accuracy 0.8825 RandomState 84\n",
      "\n",
      "\n",
      "Testing Accuracy 0.8475 RandomState 85\n",
      "\n",
      "\n",
      "Testing Accuracy 0.87 RandomState 86\n",
      "\n",
      "\n",
      "Testing Accuracy 0.885 RandomState 87\n",
      "\n",
      "\n",
      "Testing Accuracy 0.875 RandomState 88\n",
      "\n",
      "\n",
      "Testing Accuracy 0.8325 RandomState 89\n",
      "\n",
      "\n",
      "Testing Accuracy 0.855 RandomState 90\n",
      "\n",
      "\n",
      "Testing Accuracy 0.86 RandomState 91\n",
      "\n",
      "\n",
      "Testing Accuracy 0.8825 RandomState 92\n",
      "\n",
      "\n",
      "Testing Accuracy 0.85 RandomState 93\n",
      "\n",
      "\n",
      "Testing Accuracy 0.8925 RandomState 94\n",
      "\n",
      "\n",
      "Testing Accuracy 0.8725 RandomState 95\n",
      "\n",
      "\n",
      "Testing Accuracy 0.8775 RandomState 96\n",
      "\n",
      "\n",
      "Testing Accuracy 0.8725 RandomState 97\n",
      "\n",
      "\n",
      "Testing Accuracy 0.8575 RandomState 98\n",
      "\n",
      "\n",
      "Testing Accuracy 0.8875 RandomState 99\n",
      "\n",
      "\n"
     ]
    }
   ],
   "source": [
    "#Finding the Best Random State\n",
    "MaxAccu=0\n",
    "MaxRS=0\n",
    "\n",
    "for i in range (1,100):\n",
    "    X_train_ns,X_test,y_train_ns,y_test=train_test_split(X,y,test_size=0.25,random_state=i)\n",
    "    svc=SVC()\n",
    "    svc.fit(X_train_ns,y_train_ns)\n",
    "    \n",
    "    y_pred=svc.predict(X_test)\n",
    "    accuracy=accuracy_score(y_test,y_pred)\n",
    "    print ('Testing Accuracy' , accuracy , 'RandomState' ,i)\n",
    "    print('\\n')\n",
    "    \n",
    "    \n",
    "    if accuracy>MaxAccu:\n",
    "        MaxAccu=accuracy\n",
    "        MaxRS=i\n",
    "        print('MAXINING TESTING SCORE' , MaxAccu , 'ON RANDOM STATE OF' , i)"
   ]
  },
  {
   "cell_type": "code",
   "execution_count": 128,
   "id": "e83643a6",
   "metadata": {},
   "outputs": [
    {
     "name": "stdout",
     "output_type": "stream",
     "text": [
      "Best Accuracy is  0.895 On Random State 38\n"
     ]
    }
   ],
   "source": [
    "print('Best Accuracy is ' , MaxAccu , 'On Random State' , MaxRS)"
   ]
  },
  {
   "cell_type": "code",
   "execution_count": 129,
   "id": "a87480c4",
   "metadata": {},
   "outputs": [],
   "source": [
    "# train test split\n",
    "X_train_ns,X_test,y_train_ns,y_test=train_test_split(X,y,test_size=0.25,random_state=38)"
   ]
  },
  {
   "cell_type": "code",
   "execution_count": 130,
   "id": "9498b3c6",
   "metadata": {},
   "outputs": [],
   "source": [
    "#write one function and call as many time as you want\n",
    "def metric_score (clf,X_train_ns,X_test,y_train_ns,y_test,train=True):\n",
    "    if train:\n",
    "        y_pred = clf.predict(X_train_ns)\n",
    "        print ('====Training Score====')\n",
    "        print (f\"Accuracy score : {accuracy_score(y_train_ns,y_pred)*100:2f}%\")\n",
    "        \n",
    "    elif train==False:\n",
    "        pred = clf.predict(X_test)\n",
    "        print ('====Testing Score====')\n",
    "        print (f\"Accuracy score : {accuracy_score(y_test,pred)*100:2f}%\")\n",
    "        \n",
    "        print ('\\n \\n Classification report \\n ' , classification_report(y_test,pred,digits=2))"
   ]
  },
  {
   "cell_type": "code",
   "execution_count": 131,
   "id": "16e7acc4",
   "metadata": {},
   "outputs": [
    {
     "data": {
      "text/html": [
       "<style>#sk-container-id-17 {color: black;background-color: white;}#sk-container-id-17 pre{padding: 0;}#sk-container-id-17 div.sk-toggleable {background-color: white;}#sk-container-id-17 label.sk-toggleable__label {cursor: pointer;display: block;width: 100%;margin-bottom: 0;padding: 0.3em;box-sizing: border-box;text-align: center;}#sk-container-id-17 label.sk-toggleable__label-arrow:before {content: \"▸\";float: left;margin-right: 0.25em;color: #696969;}#sk-container-id-17 label.sk-toggleable__label-arrow:hover:before {color: black;}#sk-container-id-17 div.sk-estimator:hover label.sk-toggleable__label-arrow:before {color: black;}#sk-container-id-17 div.sk-toggleable__content {max-height: 0;max-width: 0;overflow: hidden;text-align: left;background-color: #f0f8ff;}#sk-container-id-17 div.sk-toggleable__content pre {margin: 0.2em;color: black;border-radius: 0.25em;background-color: #f0f8ff;}#sk-container-id-17 input.sk-toggleable__control:checked~div.sk-toggleable__content {max-height: 200px;max-width: 100%;overflow: auto;}#sk-container-id-17 input.sk-toggleable__control:checked~label.sk-toggleable__label-arrow:before {content: \"▾\";}#sk-container-id-17 div.sk-estimator input.sk-toggleable__control:checked~label.sk-toggleable__label {background-color: #d4ebff;}#sk-container-id-17 div.sk-label input.sk-toggleable__control:checked~label.sk-toggleable__label {background-color: #d4ebff;}#sk-container-id-17 input.sk-hidden--visually {border: 0;clip: rect(1px 1px 1px 1px);clip: rect(1px, 1px, 1px, 1px);height: 1px;margin: -1px;overflow: hidden;padding: 0;position: absolute;width: 1px;}#sk-container-id-17 div.sk-estimator {font-family: monospace;background-color: #f0f8ff;border: 1px dotted black;border-radius: 0.25em;box-sizing: border-box;margin-bottom: 0.5em;}#sk-container-id-17 div.sk-estimator:hover {background-color: #d4ebff;}#sk-container-id-17 div.sk-parallel-item::after {content: \"\";width: 100%;border-bottom: 1px solid gray;flex-grow: 1;}#sk-container-id-17 div.sk-label:hover label.sk-toggleable__label {background-color: #d4ebff;}#sk-container-id-17 div.sk-serial::before {content: \"\";position: absolute;border-left: 1px solid gray;box-sizing: border-box;top: 0;bottom: 0;left: 50%;z-index: 0;}#sk-container-id-17 div.sk-serial {display: flex;flex-direction: column;align-items: center;background-color: white;padding-right: 0.2em;padding-left: 0.2em;position: relative;}#sk-container-id-17 div.sk-item {position: relative;z-index: 1;}#sk-container-id-17 div.sk-parallel {display: flex;align-items: stretch;justify-content: center;background-color: white;position: relative;}#sk-container-id-17 div.sk-item::before, #sk-container-id-17 div.sk-parallel-item::before {content: \"\";position: absolute;border-left: 1px solid gray;box-sizing: border-box;top: 0;bottom: 0;left: 50%;z-index: -1;}#sk-container-id-17 div.sk-parallel-item {display: flex;flex-direction: column;z-index: 1;position: relative;background-color: white;}#sk-container-id-17 div.sk-parallel-item:first-child::after {align-self: flex-end;width: 50%;}#sk-container-id-17 div.sk-parallel-item:last-child::after {align-self: flex-start;width: 50%;}#sk-container-id-17 div.sk-parallel-item:only-child::after {width: 0;}#sk-container-id-17 div.sk-dashed-wrapped {border: 1px dashed gray;margin: 0 0.4em 0.5em 0.4em;box-sizing: border-box;padding-bottom: 0.4em;background-color: white;}#sk-container-id-17 div.sk-label label {font-family: monospace;font-weight: bold;display: inline-block;line-height: 1.2em;}#sk-container-id-17 div.sk-label-container {text-align: center;}#sk-container-id-17 div.sk-container {/* jupyter's `normalize.less` sets `[hidden] { display: none; }` but bootstrap.min.css set `[hidden] { display: none !important; }` so we also need the `!important` here to be able to override the default hidden behavior on the sphinx rendered scikit-learn.org. See: https://github.com/scikit-learn/scikit-learn/issues/21755 */display: inline-block !important;position: relative;}#sk-container-id-17 div.sk-text-repr-fallback {display: none;}</style><div id=\"sk-container-id-17\" class=\"sk-top-container\"><div class=\"sk-text-repr-fallback\"><pre>SVC()</pre><b>In a Jupyter environment, please rerun this cell to show the HTML representation or trust the notebook. <br />On GitHub, the HTML representation is unable to render, please try loading this page with nbviewer.org.</b></div><div class=\"sk-container\" hidden><div class=\"sk-item\"><div class=\"sk-estimator sk-toggleable\"><input class=\"sk-toggleable__control sk-hidden--visually\" id=\"sk-estimator-id-21\" type=\"checkbox\" checked><label for=\"sk-estimator-id-21\" class=\"sk-toggleable__label sk-toggleable__label-arrow\">SVC</label><div class=\"sk-toggleable__content\"><pre>SVC()</pre></div></div></div></div></div>"
      ],
      "text/plain": [
       "SVC()"
      ]
     },
     "execution_count": 131,
     "metadata": {},
     "output_type": "execute_result"
    }
   ],
   "source": [
    "clf_svc=SVC()\n",
    "clf_svc.fit(X_train_ns,y_train_ns)"
   ]
  },
  {
   "cell_type": "code",
   "execution_count": 132,
   "id": "04df56e3",
   "metadata": {},
   "outputs": [
    {
     "name": "stdout",
     "output_type": "stream",
     "text": [
      "====Training Score====\n",
      "Accuracy score : 85.571309%\n",
      "====Testing Score====\n",
      "Accuracy score : 89.500000%\n",
      "\n",
      " \n",
      " Classification report \n",
      "                precision    recall  f1-score   support\n",
      "\n",
      "           0       0.90      1.00      0.94       358\n",
      "           1       0.00      0.00      0.00        42\n",
      "\n",
      "    accuracy                           0.90       400\n",
      "   macro avg       0.45      0.50      0.47       400\n",
      "weighted avg       0.80      0.90      0.85       400\n",
      "\n"
     ]
    }
   ],
   "source": [
    "# call the function\n",
    "metric_score (clf_svc,X_train_ns,X_test,y_train_ns,y_test,train = True)\n",
    "metric_score (clf_svc,X_train_ns,X_test,y_train_ns,y_test,train=False)"
   ]
  },
  {
   "cell_type": "markdown",
   "id": "83e50e14",
   "metadata": {},
   "source": [
    "## Hyperparameter Tuning for SVC"
   ]
  },
  {
   "cell_type": "code",
   "execution_count": 133,
   "id": "29ea7389",
   "metadata": {},
   "outputs": [],
   "source": [
    "## HYPERPARAMETER TUNING ##\n",
    "# here we tune only 2 parameter c and gamma\n",
    "# where c = how much error we allow model to do \n",
    "# gamma = it decide how much curvature we want in a decision boundary \n",
    "\n",
    "from sklearn.model_selection import GridSearchCV"
   ]
  },
  {
   "cell_type": "code",
   "execution_count": 134,
   "id": "89123a91",
   "metadata": {},
   "outputs": [],
   "source": [
    "param_grid={'C':[1,5,10,20],\n",
    "           'gamma':[0.001,0.01,0.02,0.002]}"
   ]
  },
  {
   "cell_type": "code",
   "execution_count": 135,
   "id": "a6faf013",
   "metadata": {},
   "outputs": [],
   "source": [
    "# here we are define some parameter and ask gridsearchcv which one is best\n",
    "gridsearch=GridSearchCV(svc,param_grid)"
   ]
  },
  {
   "cell_type": "code",
   "execution_count": 136,
   "id": "c62a3d95",
   "metadata": {},
   "outputs": [
    {
     "data": {
      "text/html": [
       "<style>#sk-container-id-18 {color: black;background-color: white;}#sk-container-id-18 pre{padding: 0;}#sk-container-id-18 div.sk-toggleable {background-color: white;}#sk-container-id-18 label.sk-toggleable__label {cursor: pointer;display: block;width: 100%;margin-bottom: 0;padding: 0.3em;box-sizing: border-box;text-align: center;}#sk-container-id-18 label.sk-toggleable__label-arrow:before {content: \"▸\";float: left;margin-right: 0.25em;color: #696969;}#sk-container-id-18 label.sk-toggleable__label-arrow:hover:before {color: black;}#sk-container-id-18 div.sk-estimator:hover label.sk-toggleable__label-arrow:before {color: black;}#sk-container-id-18 div.sk-toggleable__content {max-height: 0;max-width: 0;overflow: hidden;text-align: left;background-color: #f0f8ff;}#sk-container-id-18 div.sk-toggleable__content pre {margin: 0.2em;color: black;border-radius: 0.25em;background-color: #f0f8ff;}#sk-container-id-18 input.sk-toggleable__control:checked~div.sk-toggleable__content {max-height: 200px;max-width: 100%;overflow: auto;}#sk-container-id-18 input.sk-toggleable__control:checked~label.sk-toggleable__label-arrow:before {content: \"▾\";}#sk-container-id-18 div.sk-estimator input.sk-toggleable__control:checked~label.sk-toggleable__label {background-color: #d4ebff;}#sk-container-id-18 div.sk-label input.sk-toggleable__control:checked~label.sk-toggleable__label {background-color: #d4ebff;}#sk-container-id-18 input.sk-hidden--visually {border: 0;clip: rect(1px 1px 1px 1px);clip: rect(1px, 1px, 1px, 1px);height: 1px;margin: -1px;overflow: hidden;padding: 0;position: absolute;width: 1px;}#sk-container-id-18 div.sk-estimator {font-family: monospace;background-color: #f0f8ff;border: 1px dotted black;border-radius: 0.25em;box-sizing: border-box;margin-bottom: 0.5em;}#sk-container-id-18 div.sk-estimator:hover {background-color: #d4ebff;}#sk-container-id-18 div.sk-parallel-item::after {content: \"\";width: 100%;border-bottom: 1px solid gray;flex-grow: 1;}#sk-container-id-18 div.sk-label:hover label.sk-toggleable__label {background-color: #d4ebff;}#sk-container-id-18 div.sk-serial::before {content: \"\";position: absolute;border-left: 1px solid gray;box-sizing: border-box;top: 0;bottom: 0;left: 50%;z-index: 0;}#sk-container-id-18 div.sk-serial {display: flex;flex-direction: column;align-items: center;background-color: white;padding-right: 0.2em;padding-left: 0.2em;position: relative;}#sk-container-id-18 div.sk-item {position: relative;z-index: 1;}#sk-container-id-18 div.sk-parallel {display: flex;align-items: stretch;justify-content: center;background-color: white;position: relative;}#sk-container-id-18 div.sk-item::before, #sk-container-id-18 div.sk-parallel-item::before {content: \"\";position: absolute;border-left: 1px solid gray;box-sizing: border-box;top: 0;bottom: 0;left: 50%;z-index: -1;}#sk-container-id-18 div.sk-parallel-item {display: flex;flex-direction: column;z-index: 1;position: relative;background-color: white;}#sk-container-id-18 div.sk-parallel-item:first-child::after {align-self: flex-end;width: 50%;}#sk-container-id-18 div.sk-parallel-item:last-child::after {align-self: flex-start;width: 50%;}#sk-container-id-18 div.sk-parallel-item:only-child::after {width: 0;}#sk-container-id-18 div.sk-dashed-wrapped {border: 1px dashed gray;margin: 0 0.4em 0.5em 0.4em;box-sizing: border-box;padding-bottom: 0.4em;background-color: white;}#sk-container-id-18 div.sk-label label {font-family: monospace;font-weight: bold;display: inline-block;line-height: 1.2em;}#sk-container-id-18 div.sk-label-container {text-align: center;}#sk-container-id-18 div.sk-container {/* jupyter's `normalize.less` sets `[hidden] { display: none; }` but bootstrap.min.css set `[hidden] { display: none !important; }` so we also need the `!important` here to be able to override the default hidden behavior on the sphinx rendered scikit-learn.org. See: https://github.com/scikit-learn/scikit-learn/issues/21755 */display: inline-block !important;position: relative;}#sk-container-id-18 div.sk-text-repr-fallback {display: none;}</style><div id=\"sk-container-id-18\" class=\"sk-top-container\"><div class=\"sk-text-repr-fallback\"><pre>GridSearchCV(estimator=SVC(),\n",
       "             param_grid={&#x27;C&#x27;: [1, 5, 10, 20],\n",
       "                         &#x27;gamma&#x27;: [0.001, 0.01, 0.02, 0.002]})</pre><b>In a Jupyter environment, please rerun this cell to show the HTML representation or trust the notebook. <br />On GitHub, the HTML representation is unable to render, please try loading this page with nbviewer.org.</b></div><div class=\"sk-container\" hidden><div class=\"sk-item sk-dashed-wrapped\"><div class=\"sk-label-container\"><div class=\"sk-label sk-toggleable\"><input class=\"sk-toggleable__control sk-hidden--visually\" id=\"sk-estimator-id-22\" type=\"checkbox\" ><label for=\"sk-estimator-id-22\" class=\"sk-toggleable__label sk-toggleable__label-arrow\">GridSearchCV</label><div class=\"sk-toggleable__content\"><pre>GridSearchCV(estimator=SVC(),\n",
       "             param_grid={&#x27;C&#x27;: [1, 5, 10, 20],\n",
       "                         &#x27;gamma&#x27;: [0.001, 0.01, 0.02, 0.002]})</pre></div></div></div><div class=\"sk-parallel\"><div class=\"sk-parallel-item\"><div class=\"sk-item\"><div class=\"sk-label-container\"><div class=\"sk-label sk-toggleable\"><input class=\"sk-toggleable__control sk-hidden--visually\" id=\"sk-estimator-id-23\" type=\"checkbox\" ><label for=\"sk-estimator-id-23\" class=\"sk-toggleable__label sk-toggleable__label-arrow\">estimator: SVC</label><div class=\"sk-toggleable__content\"><pre>SVC()</pre></div></div></div><div class=\"sk-serial\"><div class=\"sk-item\"><div class=\"sk-estimator sk-toggleable\"><input class=\"sk-toggleable__control sk-hidden--visually\" id=\"sk-estimator-id-24\" type=\"checkbox\" ><label for=\"sk-estimator-id-24\" class=\"sk-toggleable__label sk-toggleable__label-arrow\">SVC</label><div class=\"sk-toggleable__content\"><pre>SVC()</pre></div></div></div></div></div></div></div></div></div></div>"
      ],
      "text/plain": [
       "GridSearchCV(estimator=SVC(),\n",
       "             param_grid={'C': [1, 5, 10, 20],\n",
       "                         'gamma': [0.001, 0.01, 0.02, 0.002]})"
      ]
     },
     "execution_count": 136,
     "metadata": {},
     "output_type": "execute_result"
    }
   ],
   "source": [
    "#pass dataset to train \n",
    "gridsearch.fit(X_train_ns,y_train_ns)"
   ]
  },
  {
   "cell_type": "code",
   "execution_count": 137,
   "id": "26da469f",
   "metadata": {},
   "outputs": [
    {
     "data": {
      "text/plain": [
       "{'C': 20, 'gamma': 0.02}"
      ]
     },
     "execution_count": 137,
     "metadata": {},
     "output_type": "execute_result"
    }
   ],
   "source": [
    "#best parameters\n",
    "gridsearch.best_params_"
   ]
  },
  {
   "cell_type": "code",
   "execution_count": 160,
   "id": "a8f916e5",
   "metadata": {},
   "outputs": [
    {
     "data": {
      "text/html": [
       "<style>#sk-container-id-20 {color: black;background-color: white;}#sk-container-id-20 pre{padding: 0;}#sk-container-id-20 div.sk-toggleable {background-color: white;}#sk-container-id-20 label.sk-toggleable__label {cursor: pointer;display: block;width: 100%;margin-bottom: 0;padding: 0.3em;box-sizing: border-box;text-align: center;}#sk-container-id-20 label.sk-toggleable__label-arrow:before {content: \"▸\";float: left;margin-right: 0.25em;color: #696969;}#sk-container-id-20 label.sk-toggleable__label-arrow:hover:before {color: black;}#sk-container-id-20 div.sk-estimator:hover label.sk-toggleable__label-arrow:before {color: black;}#sk-container-id-20 div.sk-toggleable__content {max-height: 0;max-width: 0;overflow: hidden;text-align: left;background-color: #f0f8ff;}#sk-container-id-20 div.sk-toggleable__content pre {margin: 0.2em;color: black;border-radius: 0.25em;background-color: #f0f8ff;}#sk-container-id-20 input.sk-toggleable__control:checked~div.sk-toggleable__content {max-height: 200px;max-width: 100%;overflow: auto;}#sk-container-id-20 input.sk-toggleable__control:checked~label.sk-toggleable__label-arrow:before {content: \"▾\";}#sk-container-id-20 div.sk-estimator input.sk-toggleable__control:checked~label.sk-toggleable__label {background-color: #d4ebff;}#sk-container-id-20 div.sk-label input.sk-toggleable__control:checked~label.sk-toggleable__label {background-color: #d4ebff;}#sk-container-id-20 input.sk-hidden--visually {border: 0;clip: rect(1px 1px 1px 1px);clip: rect(1px, 1px, 1px, 1px);height: 1px;margin: -1px;overflow: hidden;padding: 0;position: absolute;width: 1px;}#sk-container-id-20 div.sk-estimator {font-family: monospace;background-color: #f0f8ff;border: 1px dotted black;border-radius: 0.25em;box-sizing: border-box;margin-bottom: 0.5em;}#sk-container-id-20 div.sk-estimator:hover {background-color: #d4ebff;}#sk-container-id-20 div.sk-parallel-item::after {content: \"\";width: 100%;border-bottom: 1px solid gray;flex-grow: 1;}#sk-container-id-20 div.sk-label:hover label.sk-toggleable__label {background-color: #d4ebff;}#sk-container-id-20 div.sk-serial::before {content: \"\";position: absolute;border-left: 1px solid gray;box-sizing: border-box;top: 0;bottom: 0;left: 50%;z-index: 0;}#sk-container-id-20 div.sk-serial {display: flex;flex-direction: column;align-items: center;background-color: white;padding-right: 0.2em;padding-left: 0.2em;position: relative;}#sk-container-id-20 div.sk-item {position: relative;z-index: 1;}#sk-container-id-20 div.sk-parallel {display: flex;align-items: stretch;justify-content: center;background-color: white;position: relative;}#sk-container-id-20 div.sk-item::before, #sk-container-id-20 div.sk-parallel-item::before {content: \"\";position: absolute;border-left: 1px solid gray;box-sizing: border-box;top: 0;bottom: 0;left: 50%;z-index: -1;}#sk-container-id-20 div.sk-parallel-item {display: flex;flex-direction: column;z-index: 1;position: relative;background-color: white;}#sk-container-id-20 div.sk-parallel-item:first-child::after {align-self: flex-end;width: 50%;}#sk-container-id-20 div.sk-parallel-item:last-child::after {align-self: flex-start;width: 50%;}#sk-container-id-20 div.sk-parallel-item:only-child::after {width: 0;}#sk-container-id-20 div.sk-dashed-wrapped {border: 1px dashed gray;margin: 0 0.4em 0.5em 0.4em;box-sizing: border-box;padding-bottom: 0.4em;background-color: white;}#sk-container-id-20 div.sk-label label {font-family: monospace;font-weight: bold;display: inline-block;line-height: 1.2em;}#sk-container-id-20 div.sk-label-container {text-align: center;}#sk-container-id-20 div.sk-container {/* jupyter's `normalize.less` sets `[hidden] { display: none; }` but bootstrap.min.css set `[hidden] { display: none !important; }` so we also need the `!important` here to be able to override the default hidden behavior on the sphinx rendered scikit-learn.org. See: https://github.com/scikit-learn/scikit-learn/issues/21755 */display: inline-block !important;position: relative;}#sk-container-id-20 div.sk-text-repr-fallback {display: none;}</style><div id=\"sk-container-id-20\" class=\"sk-top-container\"><div class=\"sk-text-repr-fallback\"><pre>SVC(C=20, gamma=0.02)</pre><b>In a Jupyter environment, please rerun this cell to show the HTML representation or trust the notebook. <br />On GitHub, the HTML representation is unable to render, please try loading this page with nbviewer.org.</b></div><div class=\"sk-container\" hidden><div class=\"sk-item\"><div class=\"sk-estimator sk-toggleable\"><input class=\"sk-toggleable__control sk-hidden--visually\" id=\"sk-estimator-id-26\" type=\"checkbox\" checked><label for=\"sk-estimator-id-26\" class=\"sk-toggleable__label sk-toggleable__label-arrow\">SVC</label><div class=\"sk-toggleable__content\"><pre>SVC(C=20, gamma=0.02)</pre></div></div></div></div></div>"
      ],
      "text/plain": [
       "SVC(C=20, gamma=0.02)"
      ]
     },
     "execution_count": 160,
     "metadata": {},
     "output_type": "execute_result"
    }
   ],
   "source": [
    "# update our model and train again for new score \n",
    "svc=SVC(C=20,gamma=0.02)\n",
    "svc.fit(X_train_ns,y_train_ns)"
   ]
  },
  {
   "cell_type": "code",
   "execution_count": 161,
   "id": "9fa1dace",
   "metadata": {},
   "outputs": [
    {
     "name": "stdout",
     "output_type": "stream",
     "text": [
      "====Training Score====\n",
      "Accuracy score : 92.827356%\n",
      "====Testing Score====\n",
      "Accuracy score : 90.000000%\n",
      "\n",
      " \n",
      " Classification report \n",
      "                precision    recall  f1-score   support\n",
      "\n",
      "           0       0.95      0.94      0.94       358\n",
      "           1       0.52      0.57      0.55        42\n",
      "\n",
      "    accuracy                           0.90       400\n",
      "   macro avg       0.74      0.75      0.74       400\n",
      "weighted avg       0.90      0.90      0.90       400\n",
      "\n"
     ]
    }
   ],
   "source": [
    "# call the function\n",
    "metric_score (svc,X_train_ns,X_test,y_train_ns,y_test,train = True)\n",
    "metric_score (svc,X_train_ns,X_test,y_train_ns,y_test,train=False)"
   ]
  },
  {
   "cell_type": "code",
   "execution_count": null,
   "id": "fb1bd428",
   "metadata": {},
   "outputs": [],
   "source": []
  },
  {
   "cell_type": "code",
   "execution_count": null,
   "id": "8650db5b",
   "metadata": {},
   "outputs": [],
   "source": []
  },
  {
   "cell_type": "markdown",
   "id": "aeefd7ea",
   "metadata": {},
   "source": [
    "# PLOT AUC-ROC CURVE"
   ]
  },
  {
   "cell_type": "markdown",
   "id": "7f3c1faa",
   "metadata": {},
   "source": [
    "## auc-roc curve for without hyperparameter tuning"
   ]
  },
  {
   "cell_type": "code",
   "execution_count": 150,
   "id": "2834c166",
   "metadata": {},
   "outputs": [],
   "source": [
    "from sklearn.tree import DecisionTreeClassifier\n",
    "from sklearn.ensemble import RandomForestClassifier\n",
    "from sklearn.svm import SVC"
   ]
  },
  {
   "cell_type": "code",
   "execution_count": 151,
   "id": "c6d1f04d",
   "metadata": {},
   "outputs": [],
   "source": [
    "dt=DecisionTreeClassifier()\n",
    "rf=RandomForestClassifier()\n",
    "svc=SVC()"
   ]
  },
  {
   "cell_type": "code",
   "execution_count": 152,
   "id": "7eb5337e",
   "metadata": {},
   "outputs": [],
   "source": [
    "X_train_ns,X_test,y_train_ns,y_test=train_test_split(X,y,test_size=0.25,random_state=38)"
   ]
  },
  {
   "cell_type": "code",
   "execution_count": 153,
   "id": "84585b4b",
   "metadata": {},
   "outputs": [
    {
     "name": "stdout",
     "output_type": "stream",
     "text": [
      "All model are trained\n"
     ]
    }
   ],
   "source": [
    "dt.fit(X_train_ns,y_train_ns)\n",
    "rf.fit(X_train_ns,y_train_ns)\n",
    "svc.fit(X_train_ns,y_train_ns)\n",
    "print('All model are trained')"
   ]
  },
  {
   "cell_type": "code",
   "execution_count": 154,
   "id": "6757e8ed",
   "metadata": {},
   "outputs": [
    {
     "name": "stdout",
     "output_type": "stream",
     "text": [
      "All model are trained\n"
     ]
    }
   ],
   "source": [
    "dt.score(X_train_ns,y_train_ns)\n",
    "rf.score(X_train_ns,y_train_ns)\n",
    "svc.score(X_train_ns,y_train_ns)\n",
    "print('All model are trained')"
   ]
  },
  {
   "cell_type": "code",
   "execution_count": 155,
   "id": "b4519a20",
   "metadata": {},
   "outputs": [
    {
     "data": {
      "image/png": "[encoded data removed]",
      "text/plain": [
       "<Figure size 432x288 with 1 Axes>"
      ]
     },
     "metadata": {
      "needs_background": "light"
     },
     "output_type": "display_data"
    }
   ],
   "source": [
    "from sklearn.metrics import roc_auc_score,roc_curve\n",
    "from sklearn.metrics import plot_roc_curve\n",
    "\n",
    "# how well our model works on training data \n",
    "\n",
    "disp = plot_roc_curve(dt,X_train_ns,y_train_ns)\n",
    "\n",
    "plot_roc_curve(rf,X_train_ns,y_train_ns,ax=disp.ax_)\n",
    "\n",
    "plot_roc_curve(svc,X_train_ns,y_train_ns,ax=disp.ax_)\n",
    "\n",
    "plt.legend (prop = {'size':10} , loc='lower right')\n",
    "\n",
    "plt.show()\n"
   ]
  },
  {
   "cell_type": "code",
   "execution_count": 156,
   "id": "d7ce7501",
   "metadata": {},
   "outputs": [
    {
     "data": {
      "image/png": "[encoded data removed]",
      "text/plain": [
       "<Figure size 432x288 with 1 Axes>"
      ]
     },
     "metadata": {
      "needs_background": "light"
     },
     "output_type": "display_data"
    }
   ],
   "source": [
    "# how well our model works on testing data \n",
    "\n",
    "disp = plot_roc_curve(dt,X_test,y_test)\n",
    "\n",
    "plot_roc_curve(rf,X_test,y_test,ax=disp.ax_)\n",
    "\n",
    "plot_roc_curve(svc,X_test,y_test,ax=disp.ax_)\n",
    "\n",
    "plt.legend (prop = {'size':10} , loc='lower right')\n",
    "\n",
    "plt.show()"
   ]
  },
  {
   "cell_type": "code",
   "execution_count": null,
   "id": "454368a6",
   "metadata": {},
   "outputs": [],
   "source": []
  },
  {
   "cell_type": "markdown",
   "id": "9660a39f",
   "metadata": {},
   "source": [
    "## auc-roc curve for hyperparameter tuning"
   ]
  },
  {
   "cell_type": "code",
   "execution_count": 157,
   "id": "9c21a7c1",
   "metadata": {},
   "outputs": [],
   "source": [
    "from sklearn.tree import DecisionTreeClassifier\n",
    "from sklearn.ensemble import RandomForestClassifier\n",
    "from sklearn.svm import SVC"
   ]
  },
  {
   "cell_type": "code",
   "execution_count": 158,
   "id": "6f91c6c7",
   "metadata": {},
   "outputs": [],
   "source": [
    "dt=DecisionTreeClassifier()\n",
    "rf=RandomForestClassifier()\n",
    "svc=SVC()"
   ]
  },
  {
   "cell_type": "code",
   "execution_count": 159,
   "id": "6b66e365",
   "metadata": {},
   "outputs": [],
   "source": [
    "X_train_ns,X_test,y_train_ns,y_test=train_test_split(X,y,test_size=0.25,random_state=38)"
   ]
  },
  {
   "cell_type": "code",
   "execution_count": 165,
   "id": "6f1c5333",
   "metadata": {},
   "outputs": [
    {
     "data": {
      "text/html": [
       "<style>#sk-container-id-24 {color: black;background-color: white;}#sk-container-id-24 pre{padding: 0;}#sk-container-id-24 div.sk-toggleable {background-color: white;}#sk-container-id-24 label.sk-toggleable__label {cursor: pointer;display: block;width: 100%;margin-bottom: 0;padding: 0.3em;box-sizing: border-box;text-align: center;}#sk-container-id-24 label.sk-toggleable__label-arrow:before {content: \"▸\";float: left;margin-right: 0.25em;color: #696969;}#sk-container-id-24 label.sk-toggleable__label-arrow:hover:before {color: black;}#sk-container-id-24 div.sk-estimator:hover label.sk-toggleable__label-arrow:before {color: black;}#sk-container-id-24 div.sk-toggleable__content {max-height: 0;max-width: 0;overflow: hidden;text-align: left;background-color: #f0f8ff;}#sk-container-id-24 div.sk-toggleable__content pre {margin: 0.2em;color: black;border-radius: 0.25em;background-color: #f0f8ff;}#sk-container-id-24 input.sk-toggleable__control:checked~div.sk-toggleable__content {max-height: 200px;max-width: 100%;overflow: auto;}#sk-container-id-24 input.sk-toggleable__control:checked~label.sk-toggleable__label-arrow:before {content: \"▾\";}#sk-container-id-24 div.sk-estimator input.sk-toggleable__control:checked~label.sk-toggleable__label {background-color: #d4ebff;}#sk-container-id-24 div.sk-label input.sk-toggleable__control:checked~label.sk-toggleable__label {background-color: #d4ebff;}#sk-container-id-24 input.sk-hidden--visually {border: 0;clip: rect(1px 1px 1px 1px);clip: rect(1px, 1px, 1px, 1px);height: 1px;margin: -1px;overflow: hidden;padding: 0;position: absolute;width: 1px;}#sk-container-id-24 div.sk-estimator {font-family: monospace;background-color: #f0f8ff;border: 1px dotted black;border-radius: 0.25em;box-sizing: border-box;margin-bottom: 0.5em;}#sk-container-id-24 div.sk-estimator:hover {background-color: #d4ebff;}#sk-container-id-24 div.sk-parallel-item::after {content: \"\";width: 100%;border-bottom: 1px solid gray;flex-grow: 1;}#sk-container-id-24 div.sk-label:hover label.sk-toggleable__label {background-color: #d4ebff;}#sk-container-id-24 div.sk-serial::before {content: \"\";position: absolute;border-left: 1px solid gray;box-sizing: border-box;top: 0;bottom: 0;left: 50%;z-index: 0;}#sk-container-id-24 div.sk-serial {display: flex;flex-direction: column;align-items: center;background-color: white;padding-right: 0.2em;padding-left: 0.2em;position: relative;}#sk-container-id-24 div.sk-item {position: relative;z-index: 1;}#sk-container-id-24 div.sk-parallel {display: flex;align-items: stretch;justify-content: center;background-color: white;position: relative;}#sk-container-id-24 div.sk-item::before, #sk-container-id-24 div.sk-parallel-item::before {content: \"\";position: absolute;border-left: 1px solid gray;box-sizing: border-box;top: 0;bottom: 0;left: 50%;z-index: -1;}#sk-container-id-24 div.sk-parallel-item {display: flex;flex-direction: column;z-index: 1;position: relative;background-color: white;}#sk-container-id-24 div.sk-parallel-item:first-child::after {align-self: flex-end;width: 50%;}#sk-container-id-24 div.sk-parallel-item:last-child::after {align-self: flex-start;width: 50%;}#sk-container-id-24 div.sk-parallel-item:only-child::after {width: 0;}#sk-container-id-24 div.sk-dashed-wrapped {border: 1px dashed gray;margin: 0 0.4em 0.5em 0.4em;box-sizing: border-box;padding-bottom: 0.4em;background-color: white;}#sk-container-id-24 div.sk-label label {font-family: monospace;font-weight: bold;display: inline-block;line-height: 1.2em;}#sk-container-id-24 div.sk-label-container {text-align: center;}#sk-container-id-24 div.sk-container {/* jupyter's `normalize.less` sets `[hidden] { display: none; }` but bootstrap.min.css set `[hidden] { display: none !important; }` so we also need the `!important` here to be able to override the default hidden behavior on the sphinx rendered scikit-learn.org. See: https://github.com/scikit-learn/scikit-learn/issues/21755 */display: inline-block !important;position: relative;}#sk-container-id-24 div.sk-text-repr-fallback {display: none;}</style><div id=\"sk-container-id-24\" class=\"sk-top-container\"><div class=\"sk-text-repr-fallback\"><pre>DecisionTreeClassifier(max_depth=20, min_samples_split=5)</pre><b>In a Jupyter environment, please rerun this cell to show the HTML representation or trust the notebook. <br />On GitHub, the HTML representation is unable to render, please try loading this page with nbviewer.org.</b></div><div class=\"sk-container\" hidden><div class=\"sk-item\"><div class=\"sk-estimator sk-toggleable\"><input class=\"sk-toggleable__control sk-hidden--visually\" id=\"sk-estimator-id-30\" type=\"checkbox\" checked><label for=\"sk-estimator-id-30\" class=\"sk-toggleable__label sk-toggleable__label-arrow\">DecisionTreeClassifier</label><div class=\"sk-toggleable__content\"><pre>DecisionTreeClassifier(max_depth=20, min_samples_split=5)</pre></div></div></div></div></div>"
      ],
      "text/plain": [
       "DecisionTreeClassifier(max_depth=20, min_samples_split=5)"
      ]
     },
     "execution_count": 165,
     "metadata": {},
     "output_type": "execute_result"
    }
   ],
   "source": [
    "# Decision Tree with hyperparameter\n",
    "dt=DecisionTreeClassifier(criterion= 'gini', max_depth = 20, min_samples_leaf= 1, min_samples_split= 5)\n",
    "dt.fit(X_train_ns,y_train_ns)"
   ]
  },
  {
   "cell_type": "code",
   "execution_count": 166,
   "id": "7d4bfb15",
   "metadata": {},
   "outputs": [
    {
     "data": {
      "text/html": [
       "<style>#sk-container-id-25 {color: black;background-color: white;}#sk-container-id-25 pre{padding: 0;}#sk-container-id-25 div.sk-toggleable {background-color: white;}#sk-container-id-25 label.sk-toggleable__label {cursor: pointer;display: block;width: 100%;margin-bottom: 0;padding: 0.3em;box-sizing: border-box;text-align: center;}#sk-container-id-25 label.sk-toggleable__label-arrow:before {content: \"▸\";float: left;margin-right: 0.25em;color: #696969;}#sk-container-id-25 label.sk-toggleable__label-arrow:hover:before {color: black;}#sk-container-id-25 div.sk-estimator:hover label.sk-toggleable__label-arrow:before {color: black;}#sk-container-id-25 div.sk-toggleable__content {max-height: 0;max-width: 0;overflow: hidden;text-align: left;background-color: #f0f8ff;}#sk-container-id-25 div.sk-toggleable__content pre {margin: 0.2em;color: black;border-radius: 0.25em;background-color: #f0f8ff;}#sk-container-id-25 input.sk-toggleable__control:checked~div.sk-toggleable__content {max-height: 200px;max-width: 100%;overflow: auto;}#sk-container-id-25 input.sk-toggleable__control:checked~label.sk-toggleable__label-arrow:before {content: \"▾\";}#sk-container-id-25 div.sk-estimator input.sk-toggleable__control:checked~label.sk-toggleable__label {background-color: #d4ebff;}#sk-container-id-25 div.sk-label input.sk-toggleable__control:checked~label.sk-toggleable__label {background-color: #d4ebff;}#sk-container-id-25 input.sk-hidden--visually {border: 0;clip: rect(1px 1px 1px 1px);clip: rect(1px, 1px, 1px, 1px);height: 1px;margin: -1px;overflow: hidden;padding: 0;position: absolute;width: 1px;}#sk-container-id-25 div.sk-estimator {font-family: monospace;background-color: #f0f8ff;border: 1px dotted black;border-radius: 0.25em;box-sizing: border-box;margin-bottom: 0.5em;}#sk-container-id-25 div.sk-estimator:hover {background-color: #d4ebff;}#sk-container-id-25 div.sk-parallel-item::after {content: \"\";width: 100%;border-bottom: 1px solid gray;flex-grow: 1;}#sk-container-id-25 div.sk-label:hover label.sk-toggleable__label {background-color: #d4ebff;}#sk-container-id-25 div.sk-serial::before {content: \"\";position: absolute;border-left: 1px solid gray;box-sizing: border-box;top: 0;bottom: 0;left: 50%;z-index: 0;}#sk-container-id-25 div.sk-serial {display: flex;flex-direction: column;align-items: center;background-color: white;padding-right: 0.2em;padding-left: 0.2em;position: relative;}#sk-container-id-25 div.sk-item {position: relative;z-index: 1;}#sk-container-id-25 div.sk-parallel {display: flex;align-items: stretch;justify-content: center;background-color: white;position: relative;}#sk-container-id-25 div.sk-item::before, #sk-container-id-25 div.sk-parallel-item::before {content: \"\";position: absolute;border-left: 1px solid gray;box-sizing: border-box;top: 0;bottom: 0;left: 50%;z-index: -1;}#sk-container-id-25 div.sk-parallel-item {display: flex;flex-direction: column;z-index: 1;position: relative;background-color: white;}#sk-container-id-25 div.sk-parallel-item:first-child::after {align-self: flex-end;width: 50%;}#sk-container-id-25 div.sk-parallel-item:last-child::after {align-self: flex-start;width: 50%;}#sk-container-id-25 div.sk-parallel-item:only-child::after {width: 0;}#sk-container-id-25 div.sk-dashed-wrapped {border: 1px dashed gray;margin: 0 0.4em 0.5em 0.4em;box-sizing: border-box;padding-bottom: 0.4em;background-color: white;}#sk-container-id-25 div.sk-label label {font-family: monospace;font-weight: bold;display: inline-block;line-height: 1.2em;}#sk-container-id-25 div.sk-label-container {text-align: center;}#sk-container-id-25 div.sk-container {/* jupyter's `normalize.less` sets `[hidden] { display: none; }` but bootstrap.min.css set `[hidden] { display: none !important; }` so we also need the `!important` here to be able to override the default hidden behavior on the sphinx rendered scikit-learn.org. See: https://github.com/scikit-learn/scikit-learn/issues/21755 */display: inline-block !important;position: relative;}#sk-container-id-25 div.sk-text-repr-fallback {display: none;}</style><div id=\"sk-container-id-25\" class=\"sk-top-container\"><div class=\"sk-text-repr-fallback\"><pre>RandomForestClassifier(criterion=&#x27;entropy&#x27;, max_depth=30, min_samples_leaf=2,\n",
       "                       min_samples_split=5, n_estimators=50)</pre><b>In a Jupyter environment, please rerun this cell to show the HTML representation or trust the notebook. <br />On GitHub, the HTML representation is unable to render, please try loading this page with nbviewer.org.</b></div><div class=\"sk-container\" hidden><div class=\"sk-item\"><div class=\"sk-estimator sk-toggleable\"><input class=\"sk-toggleable__control sk-hidden--visually\" id=\"sk-estimator-id-31\" type=\"checkbox\" checked><label for=\"sk-estimator-id-31\" class=\"sk-toggleable__label sk-toggleable__label-arrow\">RandomForestClassifier</label><div class=\"sk-toggleable__content\"><pre>RandomForestClassifier(criterion=&#x27;entropy&#x27;, max_depth=30, min_samples_leaf=2,\n",
       "                       min_samples_split=5, n_estimators=50)</pre></div></div></div></div></div>"
      ],
      "text/plain": [
       "RandomForestClassifier(criterion='entropy', max_depth=30, min_samples_leaf=2,\n",
       "                       min_samples_split=5, n_estimators=50)"
      ]
     },
     "execution_count": 166,
     "metadata": {},
     "output_type": "execute_result"
    }
   ],
   "source": [
    "# Random Forest with hyperparameter\n",
    "rf=RandomForestClassifier(criterion= 'entropy', max_depth = 30, min_samples_leaf= 2, min_samples_split= 5,n_estimators= 50)\n",
    "rf.fit(X_train_ns,y_train_ns)"
   ]
  },
  {
   "cell_type": "code",
   "execution_count": 167,
   "id": "3516dad3",
   "metadata": {},
   "outputs": [
    {
     "data": {
      "text/html": [
       "<style>#sk-container-id-26 {color: black;background-color: white;}#sk-container-id-26 pre{padding: 0;}#sk-container-id-26 div.sk-toggleable {background-color: white;}#sk-container-id-26 label.sk-toggleable__label {cursor: pointer;display: block;width: 100%;margin-bottom: 0;padding: 0.3em;box-sizing: border-box;text-align: center;}#sk-container-id-26 label.sk-toggleable__label-arrow:before {content: \"▸\";float: left;margin-right: 0.25em;color: #696969;}#sk-container-id-26 label.sk-toggleable__label-arrow:hover:before {color: black;}#sk-container-id-26 div.sk-estimator:hover label.sk-toggleable__label-arrow:before {color: black;}#sk-container-id-26 div.sk-toggleable__content {max-height: 0;max-width: 0;overflow: hidden;text-align: left;background-color: #f0f8ff;}#sk-container-id-26 div.sk-toggleable__content pre {margin: 0.2em;color: black;border-radius: 0.25em;background-color: #f0f8ff;}#sk-container-id-26 input.sk-toggleable__control:checked~div.sk-toggleable__content {max-height: 200px;max-width: 100%;overflow: auto;}#sk-container-id-26 input.sk-toggleable__control:checked~label.sk-toggleable__label-arrow:before {content: \"▾\";}#sk-container-id-26 div.sk-estimator input.sk-toggleable__control:checked~label.sk-toggleable__label {background-color: #d4ebff;}#sk-container-id-26 div.sk-label input.sk-toggleable__control:checked~label.sk-toggleable__label {background-color: #d4ebff;}#sk-container-id-26 input.sk-hidden--visually {border: 0;clip: rect(1px 1px 1px 1px);clip: rect(1px, 1px, 1px, 1px);height: 1px;margin: -1px;overflow: hidden;padding: 0;position: absolute;width: 1px;}#sk-container-id-26 div.sk-estimator {font-family: monospace;background-color: #f0f8ff;border: 1px dotted black;border-radius: 0.25em;box-sizing: border-box;margin-bottom: 0.5em;}#sk-container-id-26 div.sk-estimator:hover {background-color: #d4ebff;}#sk-container-id-26 div.sk-parallel-item::after {content: \"\";width: 100%;border-bottom: 1px solid gray;flex-grow: 1;}#sk-container-id-26 div.sk-label:hover label.sk-toggleable__label {background-color: #d4ebff;}#sk-container-id-26 div.sk-serial::before {content: \"\";position: absolute;border-left: 1px solid gray;box-sizing: border-box;top: 0;bottom: 0;left: 50%;z-index: 0;}#sk-container-id-26 div.sk-serial {display: flex;flex-direction: column;align-items: center;background-color: white;padding-right: 0.2em;padding-left: 0.2em;position: relative;}#sk-container-id-26 div.sk-item {position: relative;z-index: 1;}#sk-container-id-26 div.sk-parallel {display: flex;align-items: stretch;justify-content: center;background-color: white;position: relative;}#sk-container-id-26 div.sk-item::before, #sk-container-id-26 div.sk-parallel-item::before {content: \"\";position: absolute;border-left: 1px solid gray;box-sizing: border-box;top: 0;bottom: 0;left: 50%;z-index: -1;}#sk-container-id-26 div.sk-parallel-item {display: flex;flex-direction: column;z-index: 1;position: relative;background-color: white;}#sk-container-id-26 div.sk-parallel-item:first-child::after {align-self: flex-end;width: 50%;}#sk-container-id-26 div.sk-parallel-item:last-child::after {align-self: flex-start;width: 50%;}#sk-container-id-26 div.sk-parallel-item:only-child::after {width: 0;}#sk-container-id-26 div.sk-dashed-wrapped {border: 1px dashed gray;margin: 0 0.4em 0.5em 0.4em;box-sizing: border-box;padding-bottom: 0.4em;background-color: white;}#sk-container-id-26 div.sk-label label {font-family: monospace;font-weight: bold;display: inline-block;line-height: 1.2em;}#sk-container-id-26 div.sk-label-container {text-align: center;}#sk-container-id-26 div.sk-container {/* jupyter's `normalize.less` sets `[hidden] { display: none; }` but bootstrap.min.css set `[hidden] { display: none !important; }` so we also need the `!important` here to be able to override the default hidden behavior on the sphinx rendered scikit-learn.org. See: https://github.com/scikit-learn/scikit-learn/issues/21755 */display: inline-block !important;position: relative;}#sk-container-id-26 div.sk-text-repr-fallback {display: none;}</style><div id=\"sk-container-id-26\" class=\"sk-top-container\"><div class=\"sk-text-repr-fallback\"><pre>SVC(C=20, gamma=0.02)</pre><b>In a Jupyter environment, please rerun this cell to show the HTML representation or trust the notebook. <br />On GitHub, the HTML representation is unable to render, please try loading this page with nbviewer.org.</b></div><div class=\"sk-container\" hidden><div class=\"sk-item\"><div class=\"sk-estimator sk-toggleable\"><input class=\"sk-toggleable__control sk-hidden--visually\" id=\"sk-estimator-id-32\" type=\"checkbox\" checked><label for=\"sk-estimator-id-32\" class=\"sk-toggleable__label sk-toggleable__label-arrow\">SVC</label><div class=\"sk-toggleable__content\"><pre>SVC(C=20, gamma=0.02)</pre></div></div></div></div></div>"
      ],
      "text/plain": [
       "SVC(C=20, gamma=0.02)"
      ]
     },
     "execution_count": 167,
     "metadata": {},
     "output_type": "execute_result"
    }
   ],
   "source": [
    "# SVC with Hyperparameter\n",
    "svc=SVC(C=20,gamma=0.02)\n",
    "svc.fit(X_train_ns,y_train_ns)"
   ]
  },
  {
   "cell_type": "code",
   "execution_count": 168,
   "id": "c5e73fbe",
   "metadata": {},
   "outputs": [
    {
     "name": "stdout",
     "output_type": "stream",
     "text": [
      "All model are trained\n"
     ]
    }
   ],
   "source": [
    "dt.score(X_train_ns,y_train_ns)\n",
    "rf.score(X_train_ns,y_train_ns)\n",
    "svc.score(X_train_ns,y_train_ns)\n",
    "print('All model are trained')"
   ]
  },
  {
   "cell_type": "code",
   "execution_count": 169,
   "id": "4893a305",
   "metadata": {},
   "outputs": [
    {
     "data": {
      "image/png": "[encoded data removed]",
      "text/plain": [
       "<Figure size 432x288 with 1 Axes>"
      ]
     },
     "metadata": {
      "needs_background": "light"
     },
     "output_type": "display_data"
    }
   ],
   "source": [
    "# how well our model works on training data \n",
    "\n",
    "disp = plot_roc_curve(dt,X_train_ns,y_train_ns)\n",
    "\n",
    "plot_roc_curve(rf,X_train_ns,y_train_ns,ax=disp.ax_)\n",
    "\n",
    "plot_roc_curve(svc,X_train_ns,y_train_ns,ax=disp.ax_)\n",
    "\n",
    "plt.legend (prop = {'size':10} , loc='lower right')\n",
    "\n",
    "plt.show()\n"
   ]
  },
  {
   "cell_type": "code",
   "execution_count": 170,
   "id": "af9aa36a",
   "metadata": {},
   "outputs": [
    {
     "data": {
      "image/png": "[encoded data removed]",
      "text/plain": [
       "<Figure size 432x288 with 1 Axes>"
      ]
     },
     "metadata": {
      "needs_background": "light"
     },
     "output_type": "display_data"
    }
   ],
   "source": [
    "# how well our model works on testing data \n",
    "\n",
    "disp = plot_roc_curve(dt,X_test,y_test)\n",
    "\n",
    "plot_roc_curve(rf,X_test,y_test,ax=disp.ax_)\n",
    "\n",
    "plot_roc_curve(svc,X_test,y_test,ax=disp.ax_)\n",
    "\n",
    "#plot_roc_curve(gbdt,X_test,y_test,ax=disp.ax_)\n",
    "\n",
    "#plot_roc_curve(lr,X_test,y_test,ax=disp.ax_)\n",
    "\n",
    "plt.legend (prop = {'size':10} , loc='lower right')\n",
    "\n",
    "plt.show()"
   ]
  },
  {
   "cell_type": "code",
   "execution_count": null,
   "id": "334af7b3",
   "metadata": {},
   "outputs": [],
   "source": []
  },
  {
   "cell_type": "code",
   "execution_count": null,
   "id": "ee4f3c81",
   "metadata": {},
   "outputs": [],
   "source": [
    "# so after seeing all the 3 model form auc roc curve i am concluding that Random Forest is best model for this perticular model instead of Decision tree and SVC"
   ]
  }
 ],
 "metadata": {
  "kernelspec": {
   "display_name": "Python 3 (ipykernel)",
   "language": "python",
   "name": "python3"
  },
  "language_info": {
   "codemirror_mode": {
    "name": "ipython",
    "version": 3
   },
   "file_extension": ".py",
   "mimetype": "text/x-python",
   "name": "python",
   "nbconvert_exporter": "python",
   "pygments_lexer": "ipython3",
   "version": "3.9.7"
  }
 },
 "nbformat": 4,
 "nbformat_minor": 5
}
